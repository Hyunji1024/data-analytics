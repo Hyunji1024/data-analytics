{
 "cells": [
  {
   "cell_type": "code",
   "execution_count": 1,
   "metadata": {
    "id": "jp1g_k-EWQsL"
   },
   "outputs": [],
   "source": [
    "import xgboost as xgb\n",
    "from xgboost import XGBClassifier\n",
    "from xgboost import plot_importance\n",
    "\n",
    "from sklearn import datasets\n",
    "import pandas as pd\n",
    "import numpy as np\n",
    "import seaborn as sns\n",
    "import matplotlib.pyplot as plt\n",
    "\n",
    "from sklearn.model_selection import train_test_split\n",
    "from sklearn.model_selection import GridSearchCV\n",
    "from sklearn.metrics import accuracy_score, precision_score, recall_score, roc_auc_score\n",
    "from sklearn.metrics import confusion_matrix\n",
    "from sklearn.preprocessing import MinMaxScaler, StandardScaler\n",
    "from sklearn.tree import DecisionTreeClassifier\n",
    "from sklearn.tree import export_graphviz\n",
    "from graphviz import Source\n",
    "from sklearn.metrics import f1_score, precision_recall_curve, roc_curve, make_scorer\n",
    "from sklearn.model_selection import GridSearchCV"
   ]
  },
  {
   "cell_type": "code",
   "execution_count": 12,
   "metadata": {
    "id": "EUZW_rVKWQsM"
   },
   "outputs": [],
   "source": [
    "df=pd.read_csv(\"secom_merge_개선방안2.csv\")\n",
    "df.drop(\"Unnamed: 0\",axis=1,inplace=True)"
   ]
  },
  {
   "cell_type": "code",
   "execution_count": 13,
   "metadata": {
    "colab": {
     "base_uri": "https://localhost:8080/",
     "height": 488
    },
    "id": "PP9IaSB1WQsM",
    "outputId": "c88e4dff-6027-41ba-c1dc-9f7811aa811a"
   },
   "outputs": [
    {
     "data": {
      "text/html": [
       "<div>\n",
       "<style scoped>\n",
       "    .dataframe tbody tr th:only-of-type {\n",
       "        vertical-align: middle;\n",
       "    }\n",
       "\n",
       "    .dataframe tbody tr th {\n",
       "        vertical-align: top;\n",
       "    }\n",
       "\n",
       "    .dataframe thead th {\n",
       "        text-align: right;\n",
       "    }\n",
       "</style>\n",
       "<table border=\"1\" class=\"dataframe\">\n",
       "  <thead>\n",
       "    <tr style=\"text-align: right;\">\n",
       "      <th></th>\n",
       "      <th>Pass/Fail</th>\n",
       "      <th>v500</th>\n",
       "      <th>v59</th>\n",
       "      <th>v486</th>\n",
       "      <th>v103</th>\n",
       "      <th>v511</th>\n",
       "      <th>v573</th>\n",
       "      <th>v519</th>\n",
       "      <th>v319</th>\n",
       "      <th>v433</th>\n",
       "      <th>...</th>\n",
       "      <th>v298</th>\n",
       "      <th>v65</th>\n",
       "      <th>v129</th>\n",
       "      <th>v56</th>\n",
       "      <th>v124</th>\n",
       "      <th>v281</th>\n",
       "      <th>v385</th>\n",
       "      <th>v175</th>\n",
       "      <th>v27</th>\n",
       "      <th>v75</th>\n",
       "    </tr>\n",
       "  </thead>\n",
       "  <tbody>\n",
       "    <tr>\n",
       "      <th>0</th>\n",
       "      <td>0</td>\n",
       "      <td>0.000000</td>\n",
       "      <td>-0.435966</td>\n",
       "      <td>1.174663</td>\n",
       "      <td>1.638889</td>\n",
       "      <td>0.000000</td>\n",
       "      <td>0.178901</td>\n",
       "      <td>0.007961</td>\n",
       "      <td>-0.932825</td>\n",
       "      <td>-0.346925</td>\n",
       "      <td>...</td>\n",
       "      <td>-0.543860</td>\n",
       "      <td>0.477294</td>\n",
       "      <td>0.099989</td>\n",
       "      <td>0.092105</td>\n",
       "      <td>1.071429</td>\n",
       "      <td>-0.404255</td>\n",
       "      <td>-0.039795</td>\n",
       "      <td>1.197759</td>\n",
       "      <td>-2.044127</td>\n",
       "      <td>0.732305</td>\n",
       "    </tr>\n",
       "    <tr>\n",
       "      <th>1</th>\n",
       "      <td>0</td>\n",
       "      <td>0.000000</td>\n",
       "      <td>-0.026852</td>\n",
       "      <td>-0.257787</td>\n",
       "      <td>1.555556</td>\n",
       "      <td>0.000000</td>\n",
       "      <td>-0.225431</td>\n",
       "      <td>0.007001</td>\n",
       "      <td>-0.972867</td>\n",
       "      <td>0.165089</td>\n",
       "      <td>...</td>\n",
       "      <td>-0.091228</td>\n",
       "      <td>0.198261</td>\n",
       "      <td>0.049995</td>\n",
       "      <td>0.184211</td>\n",
       "      <td>0.714286</td>\n",
       "      <td>0.319149</td>\n",
       "      <td>0.034872</td>\n",
       "      <td>1.647330</td>\n",
       "      <td>0.060856</td>\n",
       "      <td>0.092770</td>\n",
       "    </tr>\n",
       "    <tr>\n",
       "      <th>2</th>\n",
       "      <td>0</td>\n",
       "      <td>1.408562</td>\n",
       "      <td>3.779256</td>\n",
       "      <td>-0.309999</td>\n",
       "      <td>1.166667</td>\n",
       "      <td>0.000000</td>\n",
       "      <td>-0.959487</td>\n",
       "      <td>-1.195361</td>\n",
       "      <td>-0.635551</td>\n",
       "      <td>0.102193</td>\n",
       "      <td>...</td>\n",
       "      <td>-0.852632</td>\n",
       "      <td>-0.410046</td>\n",
       "      <td>0.449952</td>\n",
       "      <td>-2.250000</td>\n",
       "      <td>-1.357143</td>\n",
       "      <td>0.702128</td>\n",
       "      <td>-1.187282</td>\n",
       "      <td>0.583388</td>\n",
       "      <td>0.024245</td>\n",
       "      <td>-1.907230</td>\n",
       "    </tr>\n",
       "    <tr>\n",
       "      <th>3</th>\n",
       "      <td>0</td>\n",
       "      <td>0.000000</td>\n",
       "      <td>-2.142383</td>\n",
       "      <td>-0.520431</td>\n",
       "      <td>1.555556</td>\n",
       "      <td>0.000000</td>\n",
       "      <td>-0.569595</td>\n",
       "      <td>0.000860</td>\n",
       "      <td>0.828940</td>\n",
       "      <td>-0.513316</td>\n",
       "      <td>...</td>\n",
       "      <td>0.796491</td>\n",
       "      <td>2.615932</td>\n",
       "      <td>-0.450058</td>\n",
       "      <td>-0.157895</td>\n",
       "      <td>-0.500000</td>\n",
       "      <td>0.510638</td>\n",
       "      <td>-0.071795</td>\n",
       "      <td>0.397495</td>\n",
       "      <td>0.004995</td>\n",
       "      <td>-1.825834</td>\n",
       "    </tr>\n",
       "    <tr>\n",
       "      <th>4</th>\n",
       "      <td>0</td>\n",
       "      <td>0.000000</td>\n",
       "      <td>4.411632</td>\n",
       "      <td>-0.520431</td>\n",
       "      <td>1.361111</td>\n",
       "      <td>1.123123</td>\n",
       "      <td>0.214200</td>\n",
       "      <td>-1.111166</td>\n",
       "      <td>0.556119</td>\n",
       "      <td>1.514435</td>\n",
       "      <td>...</td>\n",
       "      <td>-0.873684</td>\n",
       "      <td>-1.157181</td>\n",
       "      <td>0.049995</td>\n",
       "      <td>0.078947</td>\n",
       "      <td>0.714286</td>\n",
       "      <td>0.340426</td>\n",
       "      <td>-0.913778</td>\n",
       "      <td>-0.180620</td>\n",
       "      <td>-2.043399</td>\n",
       "      <td>1.011375</td>\n",
       "    </tr>\n",
       "    <tr>\n",
       "      <th>...</th>\n",
       "      <td>...</td>\n",
       "      <td>...</td>\n",
       "      <td>...</td>\n",
       "      <td>...</td>\n",
       "      <td>...</td>\n",
       "      <td>...</td>\n",
       "      <td>...</td>\n",
       "      <td>...</td>\n",
       "      <td>...</td>\n",
       "      <td>...</td>\n",
       "      <td>...</td>\n",
       "      <td>...</td>\n",
       "      <td>...</td>\n",
       "      <td>...</td>\n",
       "      <td>...</td>\n",
       "      <td>...</td>\n",
       "      <td>...</td>\n",
       "      <td>...</td>\n",
       "      <td>...</td>\n",
       "      <td>...</td>\n",
       "      <td>...</td>\n",
       "    </tr>\n",
       "    <tr>\n",
       "      <th>1562</th>\n",
       "      <td>1</td>\n",
       "      <td>0.000000</td>\n",
       "      <td>-0.353616</td>\n",
       "      <td>-0.520431</td>\n",
       "      <td>-0.194444</td>\n",
       "      <td>1.404988</td>\n",
       "      <td>-0.145207</td>\n",
       "      <td>0.006849</td>\n",
       "      <td>0.378535</td>\n",
       "      <td>-0.513316</td>\n",
       "      <td>...</td>\n",
       "      <td>2.561404</td>\n",
       "      <td>0.340324</td>\n",
       "      <td>-0.500053</td>\n",
       "      <td>0.184211</td>\n",
       "      <td>0.428571</td>\n",
       "      <td>1.234043</td>\n",
       "      <td>0.082462</td>\n",
       "      <td>0.342123</td>\n",
       "      <td>-0.047860</td>\n",
       "      <td>-0.089400</td>\n",
       "    </tr>\n",
       "    <tr>\n",
       "      <th>1563</th>\n",
       "      <td>1</td>\n",
       "      <td>0.000000</td>\n",
       "      <td>-0.559263</td>\n",
       "      <td>-0.078133</td>\n",
       "      <td>1.055556</td>\n",
       "      <td>1.175361</td>\n",
       "      <td>-1.217810</td>\n",
       "      <td>0.004741</td>\n",
       "      <td>0.178203</td>\n",
       "      <td>-0.513316</td>\n",
       "      <td>...</td>\n",
       "      <td>0.189474</td>\n",
       "      <td>0.476459</td>\n",
       "      <td>0.449952</td>\n",
       "      <td>0.171053</td>\n",
       "      <td>2.071429</td>\n",
       "      <td>-0.808511</td>\n",
       "      <td>0.136615</td>\n",
       "      <td>0.139750</td>\n",
       "      <td>-0.007613</td>\n",
       "      <td>9.216801</td>\n",
       "    </tr>\n",
       "    <tr>\n",
       "      <th>1564</th>\n",
       "      <td>1</td>\n",
       "      <td>1.468708</td>\n",
       "      <td>-0.991111</td>\n",
       "      <td>1.466533</td>\n",
       "      <td>-0.361111</td>\n",
       "      <td>0.000000</td>\n",
       "      <td>-0.020858</td>\n",
       "      <td>0.010467</td>\n",
       "      <td>0.397223</td>\n",
       "      <td>-0.231967</td>\n",
       "      <td>...</td>\n",
       "      <td>1.789474</td>\n",
       "      <td>0.920971</td>\n",
       "      <td>0.549942</td>\n",
       "      <td>0.026316</td>\n",
       "      <td>-0.357143</td>\n",
       "      <td>-0.042553</td>\n",
       "      <td>0.140581</td>\n",
       "      <td>-0.252472</td>\n",
       "      <td>-1.774421</td>\n",
       "      <td>-0.050640</td>\n",
       "    </tr>\n",
       "    <tr>\n",
       "      <th>1565</th>\n",
       "      <td>1</td>\n",
       "      <td>1.948862</td>\n",
       "      <td>-1.165949</td>\n",
       "      <td>-0.520431</td>\n",
       "      <td>0.416667</td>\n",
       "      <td>1.083012</td>\n",
       "      <td>-0.383474</td>\n",
       "      <td>0.007191</td>\n",
       "      <td>0.199495</td>\n",
       "      <td>-0.096612</td>\n",
       "      <td>...</td>\n",
       "      <td>0.975439</td>\n",
       "      <td>1.502700</td>\n",
       "      <td>-0.199979</td>\n",
       "      <td>0.394737</td>\n",
       "      <td>-0.071429</td>\n",
       "      <td>-0.638298</td>\n",
       "      <td>0.097778</td>\n",
       "      <td>-0.547132</td>\n",
       "      <td>-0.055376</td>\n",
       "      <td>0.666414</td>\n",
       "    </tr>\n",
       "    <tr>\n",
       "      <th>1566</th>\n",
       "      <td>1</td>\n",
       "      <td>0.768142</td>\n",
       "      <td>0.306064</td>\n",
       "      <td>0.498331</td>\n",
       "      <td>3.250000</td>\n",
       "      <td>0.047021</td>\n",
       "      <td>0.674689</td>\n",
       "      <td>0.007299</td>\n",
       "      <td>0.090806</td>\n",
       "      <td>1.017722</td>\n",
       "      <td>...</td>\n",
       "      <td>0.873684</td>\n",
       "      <td>-0.289482</td>\n",
       "      <td>0.549942</td>\n",
       "      <td>0.355263</td>\n",
       "      <td>-0.357143</td>\n",
       "      <td>0.553191</td>\n",
       "      <td>0.002188</td>\n",
       "      <td>0.589321</td>\n",
       "      <td>0.031616</td>\n",
       "      <td>-0.953741</td>\n",
       "    </tr>\n",
       "  </tbody>\n",
       "</table>\n",
       "<p>1567 rows × 42 columns</p>\n",
       "</div>"
      ],
      "text/plain": [
       "      Pass/Fail      v500       v59      v486      v103      v511      v573  \\\n",
       "0             0  0.000000 -0.435966  1.174663  1.638889  0.000000  0.178901   \n",
       "1             0  0.000000 -0.026852 -0.257787  1.555556  0.000000 -0.225431   \n",
       "2             0  1.408562  3.779256 -0.309999  1.166667  0.000000 -0.959487   \n",
       "3             0  0.000000 -2.142383 -0.520431  1.555556  0.000000 -0.569595   \n",
       "4             0  0.000000  4.411632 -0.520431  1.361111  1.123123  0.214200   \n",
       "...         ...       ...       ...       ...       ...       ...       ...   \n",
       "1562          1  0.000000 -0.353616 -0.520431 -0.194444  1.404988 -0.145207   \n",
       "1563          1  0.000000 -0.559263 -0.078133  1.055556  1.175361 -1.217810   \n",
       "1564          1  1.468708 -0.991111  1.466533 -0.361111  0.000000 -0.020858   \n",
       "1565          1  1.948862 -1.165949 -0.520431  0.416667  1.083012 -0.383474   \n",
       "1566          1  0.768142  0.306064  0.498331  3.250000  0.047021  0.674689   \n",
       "\n",
       "          v519      v319      v433  ...      v298       v65      v129  \\\n",
       "0     0.007961 -0.932825 -0.346925  ... -0.543860  0.477294  0.099989   \n",
       "1     0.007001 -0.972867  0.165089  ... -0.091228  0.198261  0.049995   \n",
       "2    -1.195361 -0.635551  0.102193  ... -0.852632 -0.410046  0.449952   \n",
       "3     0.000860  0.828940 -0.513316  ...  0.796491  2.615932 -0.450058   \n",
       "4    -1.111166  0.556119  1.514435  ... -0.873684 -1.157181  0.049995   \n",
       "...        ...       ...       ...  ...       ...       ...       ...   \n",
       "1562  0.006849  0.378535 -0.513316  ...  2.561404  0.340324 -0.500053   \n",
       "1563  0.004741  0.178203 -0.513316  ...  0.189474  0.476459  0.449952   \n",
       "1564  0.010467  0.397223 -0.231967  ...  1.789474  0.920971  0.549942   \n",
       "1565  0.007191  0.199495 -0.096612  ...  0.975439  1.502700 -0.199979   \n",
       "1566  0.007299  0.090806  1.017722  ...  0.873684 -0.289482  0.549942   \n",
       "\n",
       "           v56      v124      v281      v385      v175       v27       v75  \n",
       "0     0.092105  1.071429 -0.404255 -0.039795  1.197759 -2.044127  0.732305  \n",
       "1     0.184211  0.714286  0.319149  0.034872  1.647330  0.060856  0.092770  \n",
       "2    -2.250000 -1.357143  0.702128 -1.187282  0.583388  0.024245 -1.907230  \n",
       "3    -0.157895 -0.500000  0.510638 -0.071795  0.397495  0.004995 -1.825834  \n",
       "4     0.078947  0.714286  0.340426 -0.913778 -0.180620 -2.043399  1.011375  \n",
       "...        ...       ...       ...       ...       ...       ...       ...  \n",
       "1562  0.184211  0.428571  1.234043  0.082462  0.342123 -0.047860 -0.089400  \n",
       "1563  0.171053  2.071429 -0.808511  0.136615  0.139750 -0.007613  9.216801  \n",
       "1564  0.026316 -0.357143 -0.042553  0.140581 -0.252472 -1.774421 -0.050640  \n",
       "1565  0.394737 -0.071429 -0.638298  0.097778 -0.547132 -0.055376  0.666414  \n",
       "1566  0.355263 -0.357143  0.553191  0.002188  0.589321  0.031616 -0.953741  \n",
       "\n",
       "[1567 rows x 42 columns]"
      ]
     },
     "execution_count": 13,
     "metadata": {},
     "output_type": "execute_result"
    }
   ],
   "source": [
    "df"
   ]
  },
  {
   "cell_type": "code",
   "execution_count": 14,
   "metadata": {
    "id": "QCyInnDwWQsN"
   },
   "outputs": [],
   "source": [
    "X = df.drop(\"Pass/Fail\", axis=1)\n",
    "y = df[\"Pass/Fail\"].values"
   ]
  },
  {
   "cell_type": "code",
   "execution_count": 15,
   "metadata": {
    "id": "yc4fFm8iWQsN"
   },
   "outputs": [],
   "source": [
    "X_train, X_test, y_train, y_test = train_test_split(X,y,test_size = 0.3, random_state = 42, stratify = y)"
   ]
  },
  {
   "cell_type": "markdown",
   "metadata": {
    "id": "qioxF_IiWQsO"
   },
   "source": [
    "## SMOTE"
   ]
  },
  {
   "cell_type": "code",
   "execution_count": 16,
   "metadata": {
    "colab": {
     "base_uri": "https://localhost:8080/"
    },
    "id": "4tFDWW4nWQsP",
    "outputId": "50269d37-a698-40a8-a0d5-60ad7536c3b0"
   },
   "outputs": [
    {
     "name": "stdout",
     "output_type": "stream",
     "text": [
      "오버샘플링 전 : (1096, 41) (1096,)\n",
      "\n",
      "오버샘플링 후 : (2046, 41) (2046,)\n",
      "\n",
      "오버샘플링 전 레이블 분포 :\n",
      " 0    1023\n",
      "1      73\n",
      "dtype: int64\n",
      "\n",
      "오버샘플링 후 레이블 분포 :\n",
      " 1    1023\n",
      "0    1023\n",
      "dtype: int64\n"
     ]
    }
   ],
   "source": [
    "from imblearn.over_sampling import SMOTE\n",
    "\n",
    "smote = SMOTE(random_state=12)\n",
    "# train 데이터에서 오버샘플링 시키기\n",
    "x_train_over, y_train_over = smote.fit_resample(X_train, y_train)\n",
    "\n",
    "# 오버샘플링 적용 후 데이터 레이블 개수 살펴보기\n",
    "print('오버샘플링 전 :', X_train.shape, y_train.shape)\n",
    "print()\n",
    "print('오버샘플링 후 :', x_train_over.shape, y_train_over.shape)\n",
    "print()\n",
    "print('오버샘플링 전 레이블 분포 :\\n', pd.Series(y_train).value_counts())\n",
    "print()\n",
    "print('오버샘플링 후 레이블 분포 :\\n', pd.Series(y_train_over).value_counts())"
   ]
  },
  {
   "cell_type": "code",
   "execution_count": 17,
   "metadata": {
    "colab": {
     "base_uri": "https://localhost:8080/",
     "height": 300
    },
    "id": "tb2RT0aMWQsP",
    "outputId": "8cfd0a59-5d38-46c6-cb58-2a2b0e85df7b"
   },
   "outputs": [
    {
     "name": "stdout",
     "output_type": "stream",
     "text": [
      "Class=0, n=1023 (65.284%)\n",
      "Class=1, n=73 (4.659%)\n"
     ]
    },
    {
     "data": {
      "image/png": "[encoded data removed]",
      "text/plain": [
       "<Figure size 432x288 with 1 Axes>"
      ]
     },
     "metadata": {
      "needs_background": "light"
     },
     "output_type": "display_data"
    }
   ],
   "source": [
    "from collections import Counter\n",
    "from matplotlib import pyplot\n",
    "\n",
    "counter = Counter(y_train)\n",
    "for k,v in counter.items():\n",
    "    per = v / len(y) * 100\n",
    "    print('Class=%d, n=%d (%.3f%%)' % (k, v, per))\n",
    " \n",
    "#plot the distribution\n",
    "pyplot.bar(counter.keys(), counter.values())\n",
    "pyplot.show()"
   ]
  },
  {
   "cell_type": "code",
   "execution_count": 18,
   "metadata": {
    "colab": {
     "base_uri": "https://localhost:8080/",
     "height": 300
    },
    "id": "GPX0u_riWQsP",
    "outputId": "6ecae093-ef41-4b33-ae31-fe007d291d05"
   },
   "outputs": [
    {
     "name": "stdout",
     "output_type": "stream",
     "text": [
      "Class=0, n=1023 (65.284%)\n",
      "Class=1, n=1023 (65.284%)\n"
     ]
    },
    {
     "data": {
      "image/png": "[encoded data removed]",
      "text/plain": [
       "<Figure size 432x288 with 1 Axes>"
      ]
     },
     "metadata": {
      "needs_background": "light"
     },
     "output_type": "display_data"
    }
   ],
   "source": [
    "from collections import Counter\n",
    "from matplotlib import pyplot\n",
    "\n",
    "counter = Counter(y_train_over)\n",
    "for k,v in counter.items():\n",
    "    per = v / len(y) * 100\n",
    "    print('Class=%d, n=%d (%.3f%%)' % (k, v, per))\n",
    " \n",
    "# plot the distribution\n",
    "pyplot.bar(counter.keys(), counter.values())\n",
    "pyplot.show()"
   ]
  },
  {
   "cell_type": "code",
   "execution_count": 19,
   "metadata": {},
   "outputs": [],
   "source": [
    "x_train_over = np.array(x_train_over)\n",
    "X_test = np.array(X_test)"
   ]
  },
  {
   "cell_type": "code",
   "execution_count": 20,
   "metadata": {
    "colab": {
     "base_uri": "https://localhost:8080/"
    },
    "id": "iyjQYA1cknY0",
    "outputId": "df8c9692-b92a-4c41-bd46-9a67c0aad03c"
   },
   "outputs": [
    {
     "name": "stdout",
     "output_type": "stream",
     "text": [
      "최적 하이퍼 파라미터:  {'learning_rate': 0.1, 'max_depth': 4, 'min_child_weight': 1, 'n_estimators': 120}\n",
      "최고 예측 정확도: 0.9844\n"
     ]
    }
   ],
   "source": [
    "xgb = XGBClassifier(random_state=42)\n",
    "xgb_parameters = {'n_estimators':[120, 150, 170], 'learning_rate':[0.07, 0.1,0.15], 'max_depth':[2, 3, 4],'min_child_weight':[1]}\n",
    "xgb_grid = GridSearchCV(xgb, param_grid=xgb_parameters,scoring=make_scorer(recall_score),  cv=3, refit=True)\n",
    "xgb_grid.fit(x_train_over, y_train_over)\n",
    "print('최적 하이퍼 파라미터: ', xgb_grid.best_params_)\n",
    "print('최고 예측 정확도: {:.4f}'.format(xgb_grid.best_score_))"
   ]
  },
  {
   "cell_type": "code",
   "execution_count": 21,
   "metadata": {
    "colab": {
     "base_uri": "https://localhost:8080/"
    },
    "id": "_w8rJj6FZgCM",
    "outputId": "f30b6c99-12b0-4215-ac8a-3e6d9e429bcc"
   },
   "outputs": [
    {
     "name": "stdout",
     "output_type": "stream",
     "text": [
      "[0]\tvalidation_0-logloss:0.65944\n",
      "[1]\tvalidation_0-logloss:0.63098\n",
      "[2]\tvalidation_0-logloss:0.60612\n",
      "[3]\tvalidation_0-logloss:0.59015\n",
      "[4]\tvalidation_0-logloss:0.56738\n",
      "[5]\tvalidation_0-logloss:0.55334\n",
      "[6]\tvalidation_0-logloss:0.53190\n",
      "[7]\tvalidation_0-logloss:0.52090\n",
      "[8]\tvalidation_0-logloss:0.50645\n",
      "[9]\tvalidation_0-logloss:0.49373\n",
      "[10]\tvalidation_0-logloss:0.48053\n",
      "[11]\tvalidation_0-logloss:0.47386\n",
      "[12]\tvalidation_0-logloss:0.46245\n",
      "[13]\tvalidation_0-logloss:0.45390\n",
      "[14]\tvalidation_0-logloss:0.44103\n",
      "[15]\tvalidation_0-logloss:0.43497\n"
     ]
    },
    {
     "name": "stderr",
     "output_type": "stream",
     "text": [
      "C:\\Users\\82104\\anaconda3\\lib\\site-packages\\xgboost\\sklearn.py:797: UserWarning: `eval_metric` in `fit` method is deprecated for better compatibility with scikit-learn, use `eval_metric` in constructor or`set_params` instead.\n",
      "  UserWarning,\n",
      "C:\\Users\\82104\\anaconda3\\lib\\site-packages\\xgboost\\sklearn.py:797: UserWarning: `early_stopping_rounds` in `fit` method is deprecated for better compatibility with scikit-learn, use `early_stopping_rounds` in constructor or`set_params` instead.\n",
      "  UserWarning,\n"
     ]
    },
    {
     "name": "stdout",
     "output_type": "stream",
     "text": [
      "[16]\tvalidation_0-logloss:0.42624\n",
      "[17]\tvalidation_0-logloss:0.41817\n",
      "[18]\tvalidation_0-logloss:0.41299\n",
      "[19]\tvalidation_0-logloss:0.40300\n",
      "[20]\tvalidation_0-logloss:0.39576\n",
      "[21]\tvalidation_0-logloss:0.39177\n",
      "[22]\tvalidation_0-logloss:0.38447\n",
      "[23]\tvalidation_0-logloss:0.37755\n",
      "[24]\tvalidation_0-logloss:0.37107\n",
      "[25]\tvalidation_0-logloss:0.36687\n",
      "[26]\tvalidation_0-logloss:0.36209\n",
      "[27]\tvalidation_0-logloss:0.35491\n",
      "[28]\tvalidation_0-logloss:0.35181\n",
      "[29]\tvalidation_0-logloss:0.34714\n",
      "[30]\tvalidation_0-logloss:0.34250\n",
      "[31]\tvalidation_0-logloss:0.34091\n",
      "[32]\tvalidation_0-logloss:0.33782\n",
      "[33]\tvalidation_0-logloss:0.33097\n",
      "[34]\tvalidation_0-logloss:0.32585\n",
      "[35]\tvalidation_0-logloss:0.32442\n",
      "[36]\tvalidation_0-logloss:0.31890\n",
      "[37]\tvalidation_0-logloss:0.31584\n",
      "[38]\tvalidation_0-logloss:0.31391\n",
      "[39]\tvalidation_0-logloss:0.31210\n",
      "[40]\tvalidation_0-logloss:0.30856\n",
      "[41]\tvalidation_0-logloss:0.30736\n",
      "[42]\tvalidation_0-logloss:0.30548\n",
      "[43]\tvalidation_0-logloss:0.30387\n",
      "[44]\tvalidation_0-logloss:0.29994\n",
      "[45]\tvalidation_0-logloss:0.29670\n",
      "[46]\tvalidation_0-logloss:0.29412\n",
      "[47]\tvalidation_0-logloss:0.29201\n",
      "[48]\tvalidation_0-logloss:0.29064\n",
      "[49]\tvalidation_0-logloss:0.28902\n",
      "[50]\tvalidation_0-logloss:0.28732\n",
      "[51]\tvalidation_0-logloss:0.28462\n",
      "[52]\tvalidation_0-logloss:0.28489\n",
      "[53]\tvalidation_0-logloss:0.28317\n",
      "[54]\tvalidation_0-logloss:0.28112\n",
      "[55]\tvalidation_0-logloss:0.27804\n",
      "[56]\tvalidation_0-logloss:0.27561\n",
      "[57]\tvalidation_0-logloss:0.27395\n",
      "[58]\tvalidation_0-logloss:0.27252\n",
      "[59]\tvalidation_0-logloss:0.27195\n",
      "[60]\tvalidation_0-logloss:0.27064\n",
      "[61]\tvalidation_0-logloss:0.26901\n",
      "[62]\tvalidation_0-logloss:0.26838\n",
      "[63]\tvalidation_0-logloss:0.26696\n",
      "[64]\tvalidation_0-logloss:0.26573\n",
      "[65]\tvalidation_0-logloss:0.26406\n",
      "[66]\tvalidation_0-logloss:0.26396\n",
      "[67]\tvalidation_0-logloss:0.26374\n",
      "[68]\tvalidation_0-logloss:0.26269\n",
      "[69]\tvalidation_0-logloss:0.26260\n",
      "[70]\tvalidation_0-logloss:0.26199\n",
      "[71]\tvalidation_0-logloss:0.26227\n",
      "[72]\tvalidation_0-logloss:0.26233\n",
      "[73]\tvalidation_0-logloss:0.26208\n",
      "[74]\tvalidation_0-logloss:0.26105\n",
      "[75]\tvalidation_0-logloss:0.26049\n",
      "[76]\tvalidation_0-logloss:0.25795\n",
      "[77]\tvalidation_0-logloss:0.25723\n",
      "[78]\tvalidation_0-logloss:0.25698\n",
      "[79]\tvalidation_0-logloss:0.25756\n",
      "[80]\tvalidation_0-logloss:0.25676\n",
      "[81]\tvalidation_0-logloss:0.25557\n",
      "[82]\tvalidation_0-logloss:0.25536\n",
      "[83]\tvalidation_0-logloss:0.25467\n",
      "[84]\tvalidation_0-logloss:0.25476\n",
      "[85]\tvalidation_0-logloss:0.25417\n",
      "[86]\tvalidation_0-logloss:0.25393\n",
      "[87]\tvalidation_0-logloss:0.25317\n",
      "[88]\tvalidation_0-logloss:0.25267\n",
      "[89]\tvalidation_0-logloss:0.25255\n",
      "[90]\tvalidation_0-logloss:0.25288\n",
      "[91]\tvalidation_0-logloss:0.25263\n",
      "[92]\tvalidation_0-logloss:0.25186\n",
      "[93]\tvalidation_0-logloss:0.25113\n",
      "[94]\tvalidation_0-logloss:0.25073\n",
      "[95]\tvalidation_0-logloss:0.25006\n",
      "[96]\tvalidation_0-logloss:0.25014\n",
      "[97]\tvalidation_0-logloss:0.25023\n",
      "[98]\tvalidation_0-logloss:0.25036\n",
      "[99]\tvalidation_0-logloss:0.25158\n",
      "[100]\tvalidation_0-logloss:0.25091\n",
      "[101]\tvalidation_0-logloss:0.25149\n",
      "[102]\tvalidation_0-logloss:0.25189\n",
      "[103]\tvalidation_0-logloss:0.25136\n",
      "[104]\tvalidation_0-logloss:0.25121\n",
      "[105]\tvalidation_0-logloss:0.25125\n",
      "[106]\tvalidation_0-logloss:0.25148\n",
      "[107]\tvalidation_0-logloss:0.25066\n",
      "[108]\tvalidation_0-logloss:0.25036\n",
      "[109]\tvalidation_0-logloss:0.24996\n",
      "[110]\tvalidation_0-logloss:0.24987\n",
      "[111]\tvalidation_0-logloss:0.25050\n",
      "[112]\tvalidation_0-logloss:0.25087\n",
      "[113]\tvalidation_0-logloss:0.25055\n",
      "[114]\tvalidation_0-logloss:0.25057\n",
      "[115]\tvalidation_0-logloss:0.25123\n",
      "[116]\tvalidation_0-logloss:0.25044\n",
      "[117]\tvalidation_0-logloss:0.25107\n",
      "[118]\tvalidation_0-logloss:0.25178\n",
      "[119]\tvalidation_0-logloss:0.25158\n"
     ]
    }
   ],
   "source": [
    "evals = [(X_test, y_test)]\n",
    "xgb_wrapper = XGBClassifier(**xgb_grid.best_params_)\n",
    "xgb_wrapper.fit(x_train_over , y_train_over,  early_stopping_rounds=400, eval_set = evals, eval_metric=\"logloss\",  verbose=True)\n",
    "xgb_wrapper.fit(x_train_over, y_train_over)\n",
    "\n",
    "preds = xgb_wrapper.predict(X_test) \n",
    "pred_proba = xgb_wrapper.predict_proba(X_test)[:,1]"
   ]
  },
  {
   "cell_type": "code",
   "execution_count": 22,
   "metadata": {
    "colab": {
     "base_uri": "https://localhost:8080/",
     "height": 747
    },
    "id": "gAj_3raUdQiB",
    "outputId": "3a580498-8733-47cc-e04e-0041f7545ac3"
   },
   "outputs": [
    {
     "data": {
      "text/plain": [
       "<matplotlib.axes._subplots.AxesSubplot at 0x19ebe7a06c8>"
      ]
     },
     "execution_count": 22,
     "metadata": {},
     "output_type": "execute_result"
    },
    {
     "data": {
      "image/png": "[encoded data removed]",
      "text/plain": [
       "<Figure size 720x864 with 1 Axes>"
      ]
     },
     "metadata": {
      "needs_background": "light"
     },
     "output_type": "display_data"
    }
   ],
   "source": [
    "from xgboost import plot_importance\n",
    "import matplotlib.pyplot as plt\n",
    "%matplotlib inline\n",
    "\n",
    "fig, ax = plt.subplots(figsize=(10, 12)) \n",
    "plot_importance(xgb_wrapper, ax=ax)\n",
    "#피처의 중요도를 시각화하는 모듈"
   ]
  },
  {
   "cell_type": "code",
   "execution_count": 23,
   "metadata": {
    "colab": {
     "base_uri": "https://localhost:8080/"
    },
    "id": "ux-Pn71HZ2X4",
    "outputId": "3b08ad1b-175d-4d31-8015-ab466a66078e"
   },
   "outputs": [
    {
     "name": "stdout",
     "output_type": "stream",
     "text": [
      " 정 확 도 : 0.9023\n"
     ]
    }
   ],
   "source": [
    "print(\" 정 확 도 : {0:.4f}\".format(accuracy_score(y_test,preds)))"
   ]
  },
  {
   "cell_type": "code",
   "execution_count": 24,
   "metadata": {
    "colab": {
     "base_uri": "https://localhost:8080/",
     "height": 545
    },
    "id": "34njeProVvq9",
    "outputId": "8333e2c0-b401-42c0-b62a-0328e2b83017"
   },
   "outputs": [
    {
     "data": {
      "image/png": "[encoded data removed]",
      "text/plain": [
       "<Figure size 432x288 with 2 Axes>"
      ]
     },
     "metadata": {
      "needs_background": "light"
     },
     "output_type": "display_data"
    },
    {
     "data": {
      "image/png": "[encoded data removed]",
      "text/plain": [
       "<Figure size 432x288 with 2 Axes>"
      ]
     },
     "metadata": {
      "needs_background": "light"
     },
     "output_type": "display_data"
    }
   ],
   "source": [
    "\n",
    "from sklearn.metrics import confusion_matrix, ConfusionMatrixDisplay\n",
    "cm = confusion_matrix(y_test,preds, labels=xgb_wrapper.classes_)\n",
    "disp = ConfusionMatrixDisplay(confusion_matrix=cm,\n",
    "                              display_labels=xgb_wrapper.classes_)\n",
    "disp = disp.plot(cmap=plt.cm.Blues,values_format='g')\n",
    "disp.plot()\n",
    "plt.show()"
   ]
  },
  {
   "cell_type": "code",
   "execution_count": 25,
   "metadata": {
    "colab": {
     "base_uri": "https://localhost:8080/",
     "height": 982
    },
    "id": "1LcgCZWFWnw9",
    "outputId": "40525a68-b825-4708-b9d5-6f8c7581448f"
   },
   "outputs": [
    {
     "name": "stdout",
     "output_type": "stream",
     "text": [
      "confusion matrix=\n",
      " [[419  21]\n",
      " [ 25   6]]\n",
      "trainset 정확도:  1.0\n",
      "testset 정확도:  0.9023354564755839\n",
      "accuracy=  0.9023354564755839\n",
      "precision=  0.2222222222222222\n",
      "recall=  0.1935483870967742\n",
      "f1 score=  0.20689655172413793\n",
      "교차 검증=  0.9235610302351625\n",
      "              precision    recall  f1-score   support\n",
      "\n",
      "           0       0.94      0.95      0.95       440\n",
      "           1       0.22      0.19      0.21        31\n",
      "\n",
      "    accuracy                           0.90       471\n",
      "   macro avg       0.58      0.57      0.58       471\n",
      "weighted avg       0.90      0.90      0.90       471\n",
      "\n"
     ]
    },
    {
     "data": {
      "text/plain": [
       "<matplotlib.axes._subplots.AxesSubplot at 0x19ec78d8e48>"
      ]
     },
     "execution_count": 25,
     "metadata": {},
     "output_type": "execute_result"
    },
    {
     "data": {
      "image/png": "[encoded data removed]",
      "text/plain": [
       "<Figure size 432x288 with 2 Axes>"
      ]
     },
     "metadata": {
      "needs_background": "light"
     },
     "output_type": "display_data"
    }
   ],
   "source": [
    "from sklearn.model_selection import cross_val_score\n",
    "from sklearn.metrics import classification_report\n",
    "print('confusion matrix=\\n',confusion_matrix(y_true=y_test,y_pred=preds))\n",
    "print('trainset 정확도: ',xgb_wrapper.score(x_train_over,y_train_over)) #trainset 정확도\n",
    "print('testset 정확도: ',xgb_wrapper.score(X_test,y_test)) #testset 정확도\n",
    "print('accuracy= ',accuracy_score(y_true=y_test,y_pred=preds))\n",
    "print('precision= ',precision_score(y_true=y_test,y_pred=preds))\n",
    "print('recall= ',recall_score(y_true=y_test,y_pred=preds))\n",
    "print('f1 score= ',f1_score(y_true=y_test,y_pred=preds))\n",
    "print('교차 검증= ',cross_val_score(xgb_wrapper,X_test,y_test).mean())\n",
    "print(classification_report(y_test,preds))\n",
    "heat=pd.DataFrame(confusion_matrix(y_test,preds))\n",
    "sns.heatmap(heat,annot=True)"
   ]
  },
  {
   "cell_type": "code",
   "execution_count": 26,
   "metadata": {
    "colab": {
     "base_uri": "https://localhost:8080/"
    },
    "id": "T5fz679NdxIp",
    "outputId": "d30f4062-dba3-449b-c778-efa78a0679b2"
   },
   "outputs": [
    {
     "ename": "NameError",
     "evalue": "name 'test_x' is not defined",
     "output_type": "error",
     "traceback": [
      "\u001b[1;31m---------------------------------------------------------------------------\u001b[0m",
      "\u001b[1;31mNameError\u001b[0m                                 Traceback (most recent call last)",
      "\u001b[1;32m<ipython-input-26-28bdf430150b>\u001b[0m in \u001b[0;36m<module>\u001b[1;34m\u001b[0m\n\u001b[0;32m      1\u001b[0m \u001b[1;32mfrom\u001b[0m \u001b[0msklearn\u001b[0m\u001b[1;33m.\u001b[0m\u001b[0mmetrics\u001b[0m \u001b[1;32mimport\u001b[0m \u001b[0mclassification_report\u001b[0m\u001b[1;33m\u001b[0m\u001b[1;33m\u001b[0m\u001b[0m\n\u001b[1;32m----> 2\u001b[1;33m \u001b[0my_pred\u001b[0m \u001b[1;33m=\u001b[0m \u001b[0mxgb_wrapper\u001b[0m\u001b[1;33m.\u001b[0m\u001b[0mpredict\u001b[0m\u001b[1;33m(\u001b[0m\u001b[0mtest_x\u001b[0m\u001b[1;33m)\u001b[0m\u001b[1;33m\u001b[0m\u001b[1;33m\u001b[0m\u001b[0m\n\u001b[0m\u001b[0;32m      3\u001b[0m \u001b[0maccuracy_score\u001b[0m\u001b[1;33m(\u001b[0m\u001b[0mtest_y\u001b[0m\u001b[1;33m,\u001b[0m \u001b[0my_pred\u001b[0m\u001b[1;33m)\u001b[0m\u001b[1;33m\u001b[0m\u001b[1;33m\u001b[0m\u001b[0m\n\u001b[0;32m      4\u001b[0m \u001b[1;33m\u001b[0m\u001b[0m\n\u001b[0;32m      5\u001b[0m \u001b[0mprint\u001b[0m\u001b[1;33m(\u001b[0m\u001b[0mclassification_report\u001b[0m\u001b[1;33m(\u001b[0m\u001b[0mtest_y\u001b[0m\u001b[1;33m,\u001b[0m \u001b[0my_pred\u001b[0m\u001b[1;33m)\u001b[0m\u001b[1;33m)\u001b[0m\u001b[1;33m\u001b[0m\u001b[1;33m\u001b[0m\u001b[0m\n",
      "\u001b[1;31mNameError\u001b[0m: name 'test_x' is not defined"
     ]
    }
   ],
   "source": [
    "from sklearn.metrics import classification_report\n",
    "y_pred = xgb_wrapper.predict(test_x)\n",
    "accuracy_score(test_y, y_pred)\n",
    "\n",
    "print(classification_report(test_y, y_pred))"
   ]
  },
  {
   "cell_type": "code",
   "execution_count": 27,
   "metadata": {
    "id": "kwO8_6LBXYnI"
   },
   "outputs": [
    {
     "ename": "NameError",
     "evalue": "name 'test_y' is not defined",
     "output_type": "error",
     "traceback": [
      "\u001b[1;31m---------------------------------------------------------------------------\u001b[0m",
      "\u001b[1;31mNameError\u001b[0m                                 Traceback (most recent call last)",
      "\u001b[1;32m<ipython-input-27-b7aac340253a>\u001b[0m in \u001b[0;36m<module>\u001b[1;34m\u001b[0m\n\u001b[1;32m----> 1\u001b[1;33m \u001b[0mfpr\u001b[0m\u001b[1;33m,\u001b[0m\u001b[0mtpr\u001b[0m\u001b[1;33m,\u001b[0m\u001b[0mthresholds\u001b[0m\u001b[1;33m=\u001b[0m\u001b[0mroc_curve\u001b[0m\u001b[1;33m(\u001b[0m\u001b[0mtest_y\u001b[0m\u001b[1;33m,\u001b[0m\u001b[0mpreds\u001b[0m\u001b[1;33m,\u001b[0m\u001b[0mpos_label\u001b[0m\u001b[1;33m=\u001b[0m\u001b[1;36m1\u001b[0m\u001b[1;33m)\u001b[0m\u001b[1;33m\u001b[0m\u001b[1;33m\u001b[0m\u001b[0m\n\u001b[0m",
      "\u001b[1;31mNameError\u001b[0m: name 'test_y' is not defined"
     ]
    }
   ],
   "source": [
    "fpr,tpr,thresholds=roc_curve(test_y,preds,pos_label=1)"
   ]
  },
  {
   "cell_type": "code",
   "execution_count": 28,
   "metadata": {
    "colab": {
     "base_uri": "https://localhost:8080/",
     "height": 300
    },
    "id": "j0Y2VKD1XbUJ",
    "outputId": "6528e580-827e-46a5-fde8-0893c0bf9f03"
   },
   "outputs": [
    {
     "ename": "NameError",
     "evalue": "name 'fpr' is not defined",
     "output_type": "error",
     "traceback": [
      "\u001b[1;31m---------------------------------------------------------------------------\u001b[0m",
      "\u001b[1;31mNameError\u001b[0m                                 Traceback (most recent call last)",
      "\u001b[1;32m<ipython-input-28-382072af7dc7>\u001b[0m in \u001b[0;36m<module>\u001b[1;34m\u001b[0m\n\u001b[0;32m      6\u001b[0m     \u001b[0mplt\u001b[0m\u001b[1;33m.\u001b[0m\u001b[0mylabel\u001b[0m\u001b[1;33m(\u001b[0m\u001b[1;34m'True Positive Rate'\u001b[0m\u001b[1;33m)\u001b[0m\u001b[1;33m\u001b[0m\u001b[1;33m\u001b[0m\u001b[0m\n\u001b[0;32m      7\u001b[0m \u001b[1;33m\u001b[0m\u001b[0m\n\u001b[1;32m----> 8\u001b[1;33m \u001b[0mplot_roc_curve\u001b[0m\u001b[1;33m(\u001b[0m\u001b[0mfpr\u001b[0m\u001b[1;33m,\u001b[0m \u001b[0mtpr\u001b[0m\u001b[1;33m)\u001b[0m\u001b[1;33m\u001b[0m\u001b[1;33m\u001b[0m\u001b[0m\n\u001b[0m\u001b[0;32m      9\u001b[0m \u001b[0mauc\u001b[0m\u001b[1;33m=\u001b[0m\u001b[0mnp\u001b[0m\u001b[1;33m.\u001b[0m\u001b[0mtrapz\u001b[0m\u001b[1;33m(\u001b[0m\u001b[0mtpr\u001b[0m\u001b[1;33m,\u001b[0m\u001b[0mfpr\u001b[0m\u001b[1;33m)\u001b[0m\u001b[1;33m\u001b[0m\u001b[1;33m\u001b[0m\u001b[0m\n\u001b[0;32m     10\u001b[0m \u001b[0mprint\u001b[0m\u001b[1;33m(\u001b[0m\u001b[1;34m\"Auc:\"\u001b[0m\u001b[1;33m,\u001b[0m\u001b[0mauc\u001b[0m\u001b[1;33m)\u001b[0m\u001b[1;33m\u001b[0m\u001b[1;33m\u001b[0m\u001b[0m\n",
      "\u001b[1;31mNameError\u001b[0m: name 'fpr' is not defined"
     ]
    }
   ],
   "source": [
    "def plot_roc_curve(fpr,tpr):\n",
    "    plt.plot(fpr, tpr, linewidth = 2)\n",
    "    plt.plot([0,1], [0,1], 'k--')\n",
    "    plt.axis([0,1,0,1])\n",
    "    plt.xlabel('False Positive Rate')\n",
    "    plt.ylabel('True Positive Rate')\n",
    "\n",
    "plot_roc_curve(fpr, tpr)\n",
    "auc=np.trapz(tpr,fpr)\n",
    "print(\"Auc:\",auc)"
   ]
  },
  {
   "cell_type": "code",
   "execution_count": 29,
   "metadata": {
    "colab": {
     "base_uri": "https://localhost:8080/",
     "height": 295
    },
    "id": "jRvbg-YWCbsQ",
    "outputId": "7d83aa4a-fb9c-4745-a79a-f94e111f6576"
   },
   "outputs": [
    {
     "ename": "NameError",
     "evalue": "name 'test_y' is not defined",
     "output_type": "error",
     "traceback": [
      "\u001b[1;31m---------------------------------------------------------------------------\u001b[0m",
      "\u001b[1;31mNameError\u001b[0m                                 Traceback (most recent call last)",
      "\u001b[1;32m<ipython-input-29-05a00d0596de>\u001b[0m in \u001b[0;36m<module>\u001b[1;34m\u001b[0m\n\u001b[0;32m     20\u001b[0m \u001b[1;33m\u001b[0m\u001b[0m\n\u001b[0;32m     21\u001b[0m \u001b[1;33m\u001b[0m\u001b[0m\n\u001b[1;32m---> 22\u001b[1;33m \u001b[0mroc_curve_plot\u001b[0m\u001b[1;33m(\u001b[0m\u001b[0mtest_y\u001b[0m\u001b[1;33m,\u001b[0m \u001b[0mxgb_wrapper\u001b[0m\u001b[1;33m.\u001b[0m\u001b[0mpredict_proba\u001b[0m\u001b[1;33m(\u001b[0m\u001b[0mtest_x\u001b[0m\u001b[1;33m)\u001b[0m\u001b[1;33m[\u001b[0m\u001b[1;33m:\u001b[0m\u001b[1;33m,\u001b[0m \u001b[1;36m1\u001b[0m\u001b[1;33m]\u001b[0m \u001b[1;33m)\u001b[0m\u001b[1;33m\u001b[0m\u001b[1;33m\u001b[0m\u001b[0m\n\u001b[0m",
      "\u001b[1;31mNameError\u001b[0m: name 'test_y' is not defined"
     ]
    }
   ],
   "source": [
    "def roc_curve_plot(test_y , pred_proba_c1):\n",
    "\n",
    "    fprs , tprs , thresholds = roc_curve(test_y ,pred_proba_c1)\n",
    "\n",
    "  \n",
    "    plt.plot(fprs , tprs, label='ROC')\n",
    "   \n",
    "    plt.plot([0, 1], [0, 1], 'k--', label='Random')\n",
    "  \n",
    "\n",
    "    plt.title('smote')\n",
    "    start, end = plt.xlim()\n",
    "    plt.xticks(np.round(np.arange(start, end, 0.1),2))\n",
    "    plt.xlim(0,1)\n",
    "    plt.ylim(0,1)\n",
    "    plt.xlabel('FPR( 1 - Sensitivity )')\n",
    "    plt.ylabel('TPR( Recall )')\n",
    "    plt.legend()\n",
    "    plt.show()\n",
    "    \n",
    "  \n",
    "roc_curve_plot(test_y, xgb_wrapper.predict_proba(test_x)[:, 1] )"
   ]
  },
  {
   "cell_type": "markdown",
   "metadata": {
    "id": "eLwopu4nWQsQ"
   },
   "source": [
    "## ADASYN\n",
    "#### SMOTE의 개선된 버전이다. 동일한 프로세스를 진행한 후 점들에 임의의 작은 값을 더해줌으로써 조금 더 사실적인 데이터가 생성된다. 즉 모든 표본이 약간 더 분산된다."
   ]
  },
  {
   "cell_type": "code",
   "execution_count": 30,
   "metadata": {
    "colab": {
     "base_uri": "https://localhost:8080/"
    },
    "id": "drkigHsfWQsQ",
    "outputId": "8261d9ca-6f0a-4248-c0a1-43be923bbdf7"
   },
   "outputs": [
    {
     "name": "stdout",
     "output_type": "stream",
     "text": [
      "Original dataset shape Counter({0: 1023, 1: 73})\n",
      "Resampled dataset shape Counter({0: 1023, 1: 1003})\n",
      "오버샘플링 전 : (1096, 41) (1096,)\n",
      "\n",
      "오버샘플링 후 : (2026, 41) (2026,)\n",
      "\n",
      "오버샘플링 전 레이블 분포 :\n",
      " 0    1023\n",
      "1      73\n",
      "dtype: int64\n",
      "\n",
      "오버샘플링 후 레이블 분포 :\n",
      " 0    1023\n",
      "1    1003\n",
      "dtype: int64\n"
     ]
    }
   ],
   "source": [
    "from collections import Counter\n",
    "from sklearn.datasets import make_classification\n",
    "from imblearn.over_sampling import ADASYN # doctest: +NORMALIZE_WHITESPACE\n",
    "\n",
    "print('Original dataset shape %s' % Counter(y_train))\n",
    "\n",
    "ada = ADASYN(random_state=12)\n",
    "X_res, y_res = ada.fit_resample(X_train, y_train)\n",
    "print('Resampled dataset shape %s' % Counter(y_res))\n",
    "\n",
    "print('오버샘플링 전 :', X_train.shape, y_train.shape)\n",
    "print()\n",
    "print('오버샘플링 후 :', X_res.shape, y_res.shape)\n",
    "print()\n",
    "print('오버샘플링 전 레이블 분포 :\\n', pd.Series(y_train).value_counts())\n",
    "print()\n",
    "print('오버샘플링 후 레이블 분포 :\\n', pd.Series(y_res).value_counts())"
   ]
  },
  {
   "cell_type": "code",
   "execution_count": 31,
   "metadata": {
    "colab": {
     "base_uri": "https://localhost:8080/",
     "height": 488
    },
    "id": "L-QVISbOCnGf",
    "outputId": "70039b3f-a099-4923-bc26-8b6c7db8844b",
    "scrolled": true
   },
   "outputs": [
    {
     "data": {
      "text/html": [
       "<div>\n",
       "<style scoped>\n",
       "    .dataframe tbody tr th:only-of-type {\n",
       "        vertical-align: middle;\n",
       "    }\n",
       "\n",
       "    .dataframe tbody tr th {\n",
       "        vertical-align: top;\n",
       "    }\n",
       "\n",
       "    .dataframe thead th {\n",
       "        text-align: right;\n",
       "    }\n",
       "</style>\n",
       "<table border=\"1\" class=\"dataframe\">\n",
       "  <thead>\n",
       "    <tr style=\"text-align: right;\">\n",
       "      <th></th>\n",
       "      <th>Pass/Fail</th>\n",
       "      <th>v500</th>\n",
       "      <th>v59</th>\n",
       "      <th>v486</th>\n",
       "      <th>v103</th>\n",
       "      <th>v511</th>\n",
       "      <th>v573</th>\n",
       "      <th>v519</th>\n",
       "      <th>v319</th>\n",
       "      <th>v433</th>\n",
       "      <th>...</th>\n",
       "      <th>v298</th>\n",
       "      <th>v65</th>\n",
       "      <th>v129</th>\n",
       "      <th>v56</th>\n",
       "      <th>v124</th>\n",
       "      <th>v281</th>\n",
       "      <th>v385</th>\n",
       "      <th>v175</th>\n",
       "      <th>v27</th>\n",
       "      <th>v75</th>\n",
       "    </tr>\n",
       "  </thead>\n",
       "  <tbody>\n",
       "    <tr>\n",
       "      <th>0</th>\n",
       "      <td>0</td>\n",
       "      <td>1.082916</td>\n",
       "      <td>-0.040513</td>\n",
       "      <td>0.018837</td>\n",
       "      <td>-1.361111</td>\n",
       "      <td>1.421095</td>\n",
       "      <td>0.223827</td>\n",
       "      <td>-0.557788</td>\n",
       "      <td>0.168658</td>\n",
       "      <td>-0.406993</td>\n",
       "      <td>...</td>\n",
       "      <td>-0.414035</td>\n",
       "      <td>-0.305902</td>\n",
       "      <td>-0.400063</td>\n",
       "      <td>-0.105263</td>\n",
       "      <td>0.785714</td>\n",
       "      <td>-0.425532</td>\n",
       "      <td>-0.544547</td>\n",
       "      <td>-1.466711</td>\n",
       "      <td>-0.981452</td>\n",
       "      <td>-0.701803</td>\n",
       "    </tr>\n",
       "    <tr>\n",
       "      <th>1</th>\n",
       "      <td>0</td>\n",
       "      <td>0.000000</td>\n",
       "      <td>-0.765507</td>\n",
       "      <td>-0.520431</td>\n",
       "      <td>-0.305556</td>\n",
       "      <td>1.403904</td>\n",
       "      <td>1.307661</td>\n",
       "      <td>0.001966</td>\n",
       "      <td>-0.943641</td>\n",
       "      <td>-0.513316</td>\n",
       "      <td>...</td>\n",
       "      <td>-0.021053</td>\n",
       "      <td>0.368848</td>\n",
       "      <td>-0.700032</td>\n",
       "      <td>-1.802632</td>\n",
       "      <td>-0.285714</td>\n",
       "      <td>-0.106383</td>\n",
       "      <td>0.259145</td>\n",
       "      <td>-0.771259</td>\n",
       "      <td>-0.011395</td>\n",
       "      <td>-1.035137</td>\n",
       "    </tr>\n",
       "    <tr>\n",
       "      <th>2</th>\n",
       "      <td>0</td>\n",
       "      <td>0.000000</td>\n",
       "      <td>-0.740835</td>\n",
       "      <td>0.597205</td>\n",
       "      <td>-1.388889</td>\n",
       "      <td>0.000000</td>\n",
       "      <td>-0.385078</td>\n",
       "      <td>0.005527</td>\n",
       "      <td>-0.396882</td>\n",
       "      <td>1.955624</td>\n",
       "      <td>...</td>\n",
       "      <td>1.431579</td>\n",
       "      <td>0.384361</td>\n",
       "      <td>-3.844308</td>\n",
       "      <td>-0.342105</td>\n",
       "      <td>-0.214286</td>\n",
       "      <td>-0.765957</td>\n",
       "      <td>0.227556</td>\n",
       "      <td>0.712591</td>\n",
       "      <td>0.083889</td>\n",
       "      <td>0.197422</td>\n",
       "    </tr>\n",
       "    <tr>\n",
       "      <th>3</th>\n",
       "      <td>0</td>\n",
       "      <td>1.734634</td>\n",
       "      <td>-0.678023</td>\n",
       "      <td>1.026151</td>\n",
       "      <td>-1.055556</td>\n",
       "      <td>0.000000</td>\n",
       "      <td>-0.385078</td>\n",
       "      <td>0.001406</td>\n",
       "      <td>0.147150</td>\n",
       "      <td>-0.129460</td>\n",
       "      <td>...</td>\n",
       "      <td>0.073684</td>\n",
       "      <td>1.128554</td>\n",
       "      <td>-2.497728</td>\n",
       "      <td>-0.157895</td>\n",
       "      <td>-0.357143</td>\n",
       "      <td>-0.106383</td>\n",
       "      <td>0.196103</td>\n",
       "      <td>0.670402</td>\n",
       "      <td>-0.053582</td>\n",
       "      <td>-0.628160</td>\n",
       "    </tr>\n",
       "    <tr>\n",
       "      <th>4</th>\n",
       "      <td>0</td>\n",
       "      <td>1.167637</td>\n",
       "      <td>0.497630</td>\n",
       "      <td>-0.520431</td>\n",
       "      <td>0.472222</td>\n",
       "      <td>0.000000</td>\n",
       "      <td>-0.079422</td>\n",
       "      <td>0.011556</td>\n",
       "      <td>-0.757628</td>\n",
       "      <td>0.279993</td>\n",
       "      <td>...</td>\n",
       "      <td>1.294737</td>\n",
       "      <td>-0.401821</td>\n",
       "      <td>0.199979</td>\n",
       "      <td>0.526316</td>\n",
       "      <td>0.000000</td>\n",
       "      <td>-0.212766</td>\n",
       "      <td>0.050325</td>\n",
       "      <td>0.113382</td>\n",
       "      <td>-0.042672</td>\n",
       "      <td>1.026879</td>\n",
       "    </tr>\n",
       "    <tr>\n",
       "      <th>...</th>\n",
       "      <td>...</td>\n",
       "      <td>...</td>\n",
       "      <td>...</td>\n",
       "      <td>...</td>\n",
       "      <td>...</td>\n",
       "      <td>...</td>\n",
       "      <td>...</td>\n",
       "      <td>...</td>\n",
       "      <td>...</td>\n",
       "      <td>...</td>\n",
       "      <td>...</td>\n",
       "      <td>...</td>\n",
       "      <td>...</td>\n",
       "      <td>...</td>\n",
       "      <td>...</td>\n",
       "      <td>...</td>\n",
       "      <td>...</td>\n",
       "      <td>...</td>\n",
       "      <td>...</td>\n",
       "      <td>...</td>\n",
       "      <td>...</td>\n",
       "    </tr>\n",
       "    <tr>\n",
       "      <th>2021</th>\n",
       "      <td>1</td>\n",
       "      <td>0.000000</td>\n",
       "      <td>-0.048408</td>\n",
       "      <td>0.459624</td>\n",
       "      <td>-0.500194</td>\n",
       "      <td>0.000000</td>\n",
       "      <td>-0.358735</td>\n",
       "      <td>0.003801</td>\n",
       "      <td>-1.129914</td>\n",
       "      <td>0.628040</td>\n",
       "      <td>...</td>\n",
       "      <td>-0.544328</td>\n",
       "      <td>-0.383521</td>\n",
       "      <td>1.199979</td>\n",
       "      <td>-1.111836</td>\n",
       "      <td>-0.071429</td>\n",
       "      <td>-0.260675</td>\n",
       "      <td>0.239067</td>\n",
       "      <td>0.011927</td>\n",
       "      <td>0.072858</td>\n",
       "      <td>-0.134909</td>\n",
       "    </tr>\n",
       "    <tr>\n",
       "      <th>2022</th>\n",
       "      <td>1</td>\n",
       "      <td>0.000000</td>\n",
       "      <td>-0.122102</td>\n",
       "      <td>-0.150446</td>\n",
       "      <td>-0.004621</td>\n",
       "      <td>0.000000</td>\n",
       "      <td>-1.048806</td>\n",
       "      <td>0.005287</td>\n",
       "      <td>-1.141169</td>\n",
       "      <td>1.793407</td>\n",
       "      <td>...</td>\n",
       "      <td>0.653990</td>\n",
       "      <td>-0.352478</td>\n",
       "      <td>1.199979</td>\n",
       "      <td>-1.128603</td>\n",
       "      <td>-0.071429</td>\n",
       "      <td>-0.165778</td>\n",
       "      <td>0.175983</td>\n",
       "      <td>-0.144320</td>\n",
       "      <td>0.070078</td>\n",
       "      <td>-0.221346</td>\n",
       "    </tr>\n",
       "    <tr>\n",
       "      <th>2023</th>\n",
       "      <td>1</td>\n",
       "      <td>0.000000</td>\n",
       "      <td>-0.466413</td>\n",
       "      <td>-0.107912</td>\n",
       "      <td>0.024518</td>\n",
       "      <td>0.511658</td>\n",
       "      <td>-0.850482</td>\n",
       "      <td>0.004895</td>\n",
       "      <td>-0.676466</td>\n",
       "      <td>1.588960</td>\n",
       "      <td>...</td>\n",
       "      <td>0.641666</td>\n",
       "      <td>0.053778</td>\n",
       "      <td>0.882380</td>\n",
       "      <td>-0.757463</td>\n",
       "      <td>-0.049823</td>\n",
       "      <td>-0.232600</td>\n",
       "      <td>0.174259</td>\n",
       "      <td>-0.106849</td>\n",
       "      <td>0.069100</td>\n",
       "      <td>-0.047932</td>\n",
       "    </tr>\n",
       "    <tr>\n",
       "      <th>2024</th>\n",
       "      <td>1</td>\n",
       "      <td>0.000000</td>\n",
       "      <td>-0.709296</td>\n",
       "      <td>0.002672</td>\n",
       "      <td>-0.018609</td>\n",
       "      <td>0.886843</td>\n",
       "      <td>-0.615250</td>\n",
       "      <td>0.004415</td>\n",
       "      <td>-0.334247</td>\n",
       "      <td>1.287384</td>\n",
       "      <td>...</td>\n",
       "      <td>0.476680</td>\n",
       "      <td>0.347635</td>\n",
       "      <td>0.649493</td>\n",
       "      <td>-0.483134</td>\n",
       "      <td>-0.033980</td>\n",
       "      <td>-0.293948</td>\n",
       "      <td>0.181205</td>\n",
       "      <td>-0.059039</td>\n",
       "      <td>0.068745</td>\n",
       "      <td>0.090477</td>\n",
       "    </tr>\n",
       "    <tr>\n",
       "      <th>2025</th>\n",
       "      <td>1</td>\n",
       "      <td>0.000000</td>\n",
       "      <td>0.601337</td>\n",
       "      <td>0.047989</td>\n",
       "      <td>-0.853641</td>\n",
       "      <td>0.000000</td>\n",
       "      <td>-0.142976</td>\n",
       "      <td>-0.404012</td>\n",
       "      <td>-0.072923</td>\n",
       "      <td>0.456658</td>\n",
       "      <td>...</td>\n",
       "      <td>0.446508</td>\n",
       "      <td>-0.694219</td>\n",
       "      <td>0.314543</td>\n",
       "      <td>-0.310494</td>\n",
       "      <td>-0.071429</td>\n",
       "      <td>-0.041284</td>\n",
       "      <td>-0.110482</td>\n",
       "      <td>0.158145</td>\n",
       "      <td>0.001705</td>\n",
       "      <td>-0.383770</td>\n",
       "    </tr>\n",
       "  </tbody>\n",
       "</table>\n",
       "<p>2026 rows × 42 columns</p>\n",
       "</div>"
      ],
      "text/plain": [
       "      Pass/Fail      v500       v59      v486      v103      v511      v573  \\\n",
       "0             0  1.082916 -0.040513  0.018837 -1.361111  1.421095  0.223827   \n",
       "1             0  0.000000 -0.765507 -0.520431 -0.305556  1.403904  1.307661   \n",
       "2             0  0.000000 -0.740835  0.597205 -1.388889  0.000000 -0.385078   \n",
       "3             0  1.734634 -0.678023  1.026151 -1.055556  0.000000 -0.385078   \n",
       "4             0  1.167637  0.497630 -0.520431  0.472222  0.000000 -0.079422   \n",
       "...         ...       ...       ...       ...       ...       ...       ...   \n",
       "2021          1  0.000000 -0.048408  0.459624 -0.500194  0.000000 -0.358735   \n",
       "2022          1  0.000000 -0.122102 -0.150446 -0.004621  0.000000 -1.048806   \n",
       "2023          1  0.000000 -0.466413 -0.107912  0.024518  0.511658 -0.850482   \n",
       "2024          1  0.000000 -0.709296  0.002672 -0.018609  0.886843 -0.615250   \n",
       "2025          1  0.000000  0.601337  0.047989 -0.853641  0.000000 -0.142976   \n",
       "\n",
       "          v519      v319      v433  ...      v298       v65      v129  \\\n",
       "0    -0.557788  0.168658 -0.406993  ... -0.414035 -0.305902 -0.400063   \n",
       "1     0.001966 -0.943641 -0.513316  ... -0.021053  0.368848 -0.700032   \n",
       "2     0.005527 -0.396882  1.955624  ...  1.431579  0.384361 -3.844308   \n",
       "3     0.001406  0.147150 -0.129460  ...  0.073684  1.128554 -2.497728   \n",
       "4     0.011556 -0.757628  0.279993  ...  1.294737 -0.401821  0.199979   \n",
       "...        ...       ...       ...  ...       ...       ...       ...   \n",
       "2021  0.003801 -1.129914  0.628040  ... -0.544328 -0.383521  1.199979   \n",
       "2022  0.005287 -1.141169  1.793407  ...  0.653990 -0.352478  1.199979   \n",
       "2023  0.004895 -0.676466  1.588960  ...  0.641666  0.053778  0.882380   \n",
       "2024  0.004415 -0.334247  1.287384  ...  0.476680  0.347635  0.649493   \n",
       "2025 -0.404012 -0.072923  0.456658  ...  0.446508 -0.694219  0.314543   \n",
       "\n",
       "           v56      v124      v281      v385      v175       v27       v75  \n",
       "0    -0.105263  0.785714 -0.425532 -0.544547 -1.466711 -0.981452 -0.701803  \n",
       "1    -1.802632 -0.285714 -0.106383  0.259145 -0.771259 -0.011395 -1.035137  \n",
       "2    -0.342105 -0.214286 -0.765957  0.227556  0.712591  0.083889  0.197422  \n",
       "3    -0.157895 -0.357143 -0.106383  0.196103  0.670402 -0.053582 -0.628160  \n",
       "4     0.526316  0.000000 -0.212766  0.050325  0.113382 -0.042672  1.026879  \n",
       "...        ...       ...       ...       ...       ...       ...       ...  \n",
       "2021 -1.111836 -0.071429 -0.260675  0.239067  0.011927  0.072858 -0.134909  \n",
       "2022 -1.128603 -0.071429 -0.165778  0.175983 -0.144320  0.070078 -0.221346  \n",
       "2023 -0.757463 -0.049823 -0.232600  0.174259 -0.106849  0.069100 -0.047932  \n",
       "2024 -0.483134 -0.033980 -0.293948  0.181205 -0.059039  0.068745  0.090477  \n",
       "2025 -0.310494 -0.071429 -0.041284 -0.110482  0.158145  0.001705 -0.383770  \n",
       "\n",
       "[2026 rows x 42 columns]"
      ]
     },
     "execution_count": 31,
     "metadata": {},
     "output_type": "execute_result"
    }
   ],
   "source": [
    "df=pd.DataFrame(y_res)\n",
    "df.columns = ['Pass/Fail']\n",
    "df=pd.concat([df,X_res], axis=1)\n",
    "df"
   ]
  },
  {
   "cell_type": "code",
   "execution_count": 32,
   "metadata": {
    "colab": {
     "base_uri": "https://localhost:8080/"
    },
    "id": "NYYgvT7mC5pf",
    "outputId": "b46d0912-6adc-4e72-f03b-9119e133c096"
   },
   "outputs": [
    {
     "name": "stdout",
     "output_type": "stream",
     "text": [
      "(1418, 41) (608, 41) (1418, 1) (608, 1)\n"
     ]
    }
   ],
   "source": [
    "feature_columns = df.columns.difference([\"Pass/Fail\"])\n",
    "x = df[feature_columns]\n",
    "y = df[[\"Pass/Fail\"]]\n",
    "train_x, test_x ,train_y, test_y = train_test_split(x, y, stratify=y,train_size=0.7,test_size=0.3,random_state=1)\n",
    "print(train_x.shape, test_x.shape, train_y.shape, test_y.shape)"
   ]
  },
  {
   "cell_type": "code",
   "execution_count": 33,
   "metadata": {
    "colab": {
     "base_uri": "https://localhost:8080/"
    },
    "id": "5V1g_bxxGv-w",
    "outputId": "bb5679ed-4503-4323-e70d-ecac3e0392fa"
   },
   "outputs": [
    {
     "name": "stdout",
     "output_type": "stream",
     "text": [
      "[0]\tvalidation_0-logloss:0.66639\n",
      "[1]\tvalidation_0-logloss:0.64304\n",
      "[2]\tvalidation_0-logloss:0.62169\n",
      "[3]\tvalidation_0-logloss:0.60276\n",
      "[4]\tvalidation_0-logloss:0.58411\n",
      "[5]\tvalidation_0-logloss:0.56984\n",
      "[6]\tvalidation_0-logloss:0.55410\n",
      "[7]\tvalidation_0-logloss:0.53941\n",
      "[8]\tvalidation_0-logloss:0.52432\n",
      "[9]\tvalidation_0-logloss:0.51261\n",
      "[10]\tvalidation_0-logloss:0.49970\n",
      "[11]\tvalidation_0-logloss:0.48882\n",
      "[12]\tvalidation_0-logloss:0.47442\n",
      "[13]\tvalidation_0-logloss:0.46124\n",
      "[14]\tvalidation_0-logloss:0.45244\n",
      "[15]\tvalidation_0-logloss:0.44133\n"
     ]
    },
    {
     "name": "stderr",
     "output_type": "stream",
     "text": [
      "C:\\Users\\82104\\anaconda3\\lib\\site-packages\\xgboost\\sklearn.py:797: UserWarning: `eval_metric` in `fit` method is deprecated for better compatibility with scikit-learn, use `eval_metric` in constructor or`set_params` instead.\n",
      "  UserWarning,\n",
      "C:\\Users\\82104\\anaconda3\\lib\\site-packages\\xgboost\\sklearn.py:797: UserWarning: `early_stopping_rounds` in `fit` method is deprecated for better compatibility with scikit-learn, use `early_stopping_rounds` in constructor or`set_params` instead.\n",
      "  UserWarning,\n"
     ]
    },
    {
     "name": "stdout",
     "output_type": "stream",
     "text": [
      "[16]\tvalidation_0-logloss:0.43071\n",
      "[17]\tvalidation_0-logloss:0.42270\n",
      "[18]\tvalidation_0-logloss:0.41374\n",
      "[19]\tvalidation_0-logloss:0.40617\n",
      "[20]\tvalidation_0-logloss:0.39961\n",
      "[21]\tvalidation_0-logloss:0.39268\n",
      "[22]\tvalidation_0-logloss:0.38485\n",
      "[23]\tvalidation_0-logloss:0.37815\n",
      "[24]\tvalidation_0-logloss:0.37350\n",
      "[25]\tvalidation_0-logloss:0.36792\n",
      "[26]\tvalidation_0-logloss:0.36144\n",
      "[27]\tvalidation_0-logloss:0.35514\n",
      "[28]\tvalidation_0-logloss:0.35050\n",
      "[29]\tvalidation_0-logloss:0.34463\n",
      "[30]\tvalidation_0-logloss:0.34023\n",
      "[31]\tvalidation_0-logloss:0.33440\n",
      "[32]\tvalidation_0-logloss:0.32922\n",
      "[33]\tvalidation_0-logloss:0.32470\n",
      "[34]\tvalidation_0-logloss:0.32154\n",
      "[35]\tvalidation_0-logloss:0.31670\n",
      "[36]\tvalidation_0-logloss:0.31332\n",
      "[37]\tvalidation_0-logloss:0.30830\n",
      "[38]\tvalidation_0-logloss:0.30336\n",
      "[39]\tvalidation_0-logloss:0.29894\n",
      "[40]\tvalidation_0-logloss:0.29463\n",
      "[41]\tvalidation_0-logloss:0.29027\n",
      "[42]\tvalidation_0-logloss:0.28635\n",
      "[43]\tvalidation_0-logloss:0.28415\n",
      "[44]\tvalidation_0-logloss:0.28137\n",
      "[45]\tvalidation_0-logloss:0.27522\n",
      "[46]\tvalidation_0-logloss:0.27340\n",
      "[47]\tvalidation_0-logloss:0.26969\n",
      "[48]\tvalidation_0-logloss:0.26765\n",
      "[49]\tvalidation_0-logloss:0.26461\n",
      "[50]\tvalidation_0-logloss:0.26231\n",
      "[51]\tvalidation_0-logloss:0.25986\n",
      "[52]\tvalidation_0-logloss:0.25646\n",
      "[53]\tvalidation_0-logloss:0.25231\n",
      "[54]\tvalidation_0-logloss:0.25018\n",
      "[55]\tvalidation_0-logloss:0.24745\n",
      "[56]\tvalidation_0-logloss:0.24479\n",
      "[57]\tvalidation_0-logloss:0.24070\n",
      "[58]\tvalidation_0-logloss:0.23902\n",
      "[59]\tvalidation_0-logloss:0.23775\n",
      "[60]\tvalidation_0-logloss:0.23607\n",
      "[61]\tvalidation_0-logloss:0.23501\n",
      "[62]\tvalidation_0-logloss:0.23306\n",
      "[63]\tvalidation_0-logloss:0.22965\n",
      "[64]\tvalidation_0-logloss:0.22583\n",
      "[65]\tvalidation_0-logloss:0.22375\n",
      "[66]\tvalidation_0-logloss:0.22108\n",
      "[67]\tvalidation_0-logloss:0.21783\n",
      "[68]\tvalidation_0-logloss:0.21594\n",
      "[69]\tvalidation_0-logloss:0.21455\n",
      "[70]\tvalidation_0-logloss:0.21256\n",
      "[71]\tvalidation_0-logloss:0.21062\n",
      "[72]\tvalidation_0-logloss:0.20971\n",
      "[73]\tvalidation_0-logloss:0.20863\n",
      "[74]\tvalidation_0-logloss:0.20624\n",
      "[75]\tvalidation_0-logloss:0.20410\n",
      "[76]\tvalidation_0-logloss:0.20240\n",
      "[77]\tvalidation_0-logloss:0.20144\n",
      "[78]\tvalidation_0-logloss:0.19915\n",
      "[79]\tvalidation_0-logloss:0.19772\n",
      "[80]\tvalidation_0-logloss:0.19628\n",
      "[81]\tvalidation_0-logloss:0.19461\n",
      "[82]\tvalidation_0-logloss:0.19153\n",
      "[83]\tvalidation_0-logloss:0.19002\n",
      "[84]\tvalidation_0-logloss:0.18783\n",
      "[85]\tvalidation_0-logloss:0.18602\n",
      "[86]\tvalidation_0-logloss:0.18455\n",
      "[87]\tvalidation_0-logloss:0.18325\n",
      "[88]\tvalidation_0-logloss:0.18229\n",
      "[89]\tvalidation_0-logloss:0.18124\n",
      "[90]\tvalidation_0-logloss:0.18022\n",
      "[91]\tvalidation_0-logloss:0.17879\n",
      "[92]\tvalidation_0-logloss:0.17770\n",
      "[93]\tvalidation_0-logloss:0.17663\n",
      "[94]\tvalidation_0-logloss:0.17593\n",
      "[95]\tvalidation_0-logloss:0.17506\n",
      "[96]\tvalidation_0-logloss:0.17445\n",
      "[97]\tvalidation_0-logloss:0.17361\n",
      "[98]\tvalidation_0-logloss:0.17230\n",
      "[99]\tvalidation_0-logloss:0.17104\n",
      "[100]\tvalidation_0-logloss:0.16898\n",
      "[101]\tvalidation_0-logloss:0.16830\n",
      "[102]\tvalidation_0-logloss:0.16752\n",
      "[103]\tvalidation_0-logloss:0.16651\n",
      "[104]\tvalidation_0-logloss:0.16566\n",
      "[105]\tvalidation_0-logloss:0.16434\n",
      "[106]\tvalidation_0-logloss:0.16304\n",
      "[107]\tvalidation_0-logloss:0.16145\n",
      "[108]\tvalidation_0-logloss:0.16063\n",
      "[109]\tvalidation_0-logloss:0.15965\n",
      "[110]\tvalidation_0-logloss:0.15861\n",
      "[111]\tvalidation_0-logloss:0.15825\n",
      "[112]\tvalidation_0-logloss:0.15753\n",
      "[113]\tvalidation_0-logloss:0.15660\n",
      "[114]\tvalidation_0-logloss:0.15565\n",
      "[115]\tvalidation_0-logloss:0.15453\n",
      "[116]\tvalidation_0-logloss:0.15374\n",
      "[117]\tvalidation_0-logloss:0.15280\n",
      "[118]\tvalidation_0-logloss:0.15211\n",
      "[119]\tvalidation_0-logloss:0.15063\n",
      "[120]\tvalidation_0-logloss:0.14998\n",
      "[121]\tvalidation_0-logloss:0.14917\n",
      "[122]\tvalidation_0-logloss:0.14831\n",
      "[123]\tvalidation_0-logloss:0.14780\n",
      "[124]\tvalidation_0-logloss:0.14706\n",
      "[125]\tvalidation_0-logloss:0.14582\n",
      "[126]\tvalidation_0-logloss:0.14541\n",
      "[127]\tvalidation_0-logloss:0.14436\n",
      "[128]\tvalidation_0-logloss:0.14372\n",
      "[129]\tvalidation_0-logloss:0.14272\n",
      "[130]\tvalidation_0-logloss:0.14229\n",
      "[131]\tvalidation_0-logloss:0.14182\n",
      "[132]\tvalidation_0-logloss:0.14103\n",
      "[133]\tvalidation_0-logloss:0.14014\n",
      "[134]\tvalidation_0-logloss:0.13933\n",
      "[135]\tvalidation_0-logloss:0.13852\n",
      "[136]\tvalidation_0-logloss:0.13808\n",
      "[137]\tvalidation_0-logloss:0.13711\n",
      "[138]\tvalidation_0-logloss:0.13670\n",
      "[139]\tvalidation_0-logloss:0.13547\n",
      "[140]\tvalidation_0-logloss:0.13500\n",
      "[141]\tvalidation_0-logloss:0.13456\n",
      "[142]\tvalidation_0-logloss:0.13345\n",
      "[143]\tvalidation_0-logloss:0.13288\n",
      "[144]\tvalidation_0-logloss:0.13266\n",
      "[145]\tvalidation_0-logloss:0.13244\n",
      "[146]\tvalidation_0-logloss:0.13193\n",
      "[147]\tvalidation_0-logloss:0.13172\n",
      "[148]\tvalidation_0-logloss:0.13129\n",
      "[149]\tvalidation_0-logloss:0.13075\n",
      "[150]\tvalidation_0-logloss:0.13002\n",
      "[151]\tvalidation_0-logloss:0.12944\n",
      "[152]\tvalidation_0-logloss:0.12866\n",
      "[153]\tvalidation_0-logloss:0.12759\n",
      "[154]\tvalidation_0-logloss:0.12677\n",
      "[155]\tvalidation_0-logloss:0.12523\n",
      "[156]\tvalidation_0-logloss:0.12480\n",
      "[157]\tvalidation_0-logloss:0.12434\n",
      "[158]\tvalidation_0-logloss:0.12424\n",
      "[159]\tvalidation_0-logloss:0.12398\n",
      "[160]\tvalidation_0-logloss:0.12353\n",
      "[161]\tvalidation_0-logloss:0.12340\n",
      "[162]\tvalidation_0-logloss:0.12337\n",
      "[163]\tvalidation_0-logloss:0.12296\n",
      "[164]\tvalidation_0-logloss:0.12203\n",
      "[165]\tvalidation_0-logloss:0.12097\n",
      "[166]\tvalidation_0-logloss:0.12031\n",
      "[167]\tvalidation_0-logloss:0.12000\n",
      "[168]\tvalidation_0-logloss:0.11937\n",
      "[169]\tvalidation_0-logloss:0.11878\n",
      "[170]\tvalidation_0-logloss:0.11819\n",
      "[171]\tvalidation_0-logloss:0.11763\n",
      "[172]\tvalidation_0-logloss:0.11765\n",
      "[173]\tvalidation_0-logloss:0.11732\n",
      "[174]\tvalidation_0-logloss:0.11721\n",
      "[175]\tvalidation_0-logloss:0.11686\n",
      "[176]\tvalidation_0-logloss:0.11669\n",
      "[177]\tvalidation_0-logloss:0.11653\n",
      "[178]\tvalidation_0-logloss:0.11587\n",
      "[179]\tvalidation_0-logloss:0.11497\n",
      "[180]\tvalidation_0-logloss:0.11425\n",
      "[181]\tvalidation_0-logloss:0.11392\n",
      "[182]\tvalidation_0-logloss:0.11369\n",
      "[183]\tvalidation_0-logloss:0.11337\n",
      "[184]\tvalidation_0-logloss:0.11301\n",
      "[185]\tvalidation_0-logloss:0.11289\n",
      "[186]\tvalidation_0-logloss:0.11292\n",
      "[187]\tvalidation_0-logloss:0.11258\n",
      "[188]\tvalidation_0-logloss:0.11251\n",
      "[189]\tvalidation_0-logloss:0.11220\n",
      "[190]\tvalidation_0-logloss:0.11209\n",
      "[191]\tvalidation_0-logloss:0.11156\n",
      "[192]\tvalidation_0-logloss:0.11152\n",
      "[193]\tvalidation_0-logloss:0.11134\n",
      "[194]\tvalidation_0-logloss:0.11075\n",
      "[195]\tvalidation_0-logloss:0.11090\n",
      "[196]\tvalidation_0-logloss:0.11037\n",
      "[197]\tvalidation_0-logloss:0.10994\n",
      "[198]\tvalidation_0-logloss:0.10987\n",
      "[199]\tvalidation_0-logloss:0.10948\n",
      "[200]\tvalidation_0-logloss:0.10922\n",
      "[201]\tvalidation_0-logloss:0.10893\n",
      "[202]\tvalidation_0-logloss:0.10861\n",
      "[203]\tvalidation_0-logloss:0.10848\n",
      "[204]\tvalidation_0-logloss:0.10816\n",
      "[205]\tvalidation_0-logloss:0.10795\n",
      "[206]\tvalidation_0-logloss:0.10773\n",
      "[207]\tvalidation_0-logloss:0.10737\n",
      "[208]\tvalidation_0-logloss:0.10663\n",
      "[209]\tvalidation_0-logloss:0.10601\n",
      "[210]\tvalidation_0-logloss:0.10573\n",
      "[211]\tvalidation_0-logloss:0.10594\n",
      "[212]\tvalidation_0-logloss:0.10508\n",
      "[213]\tvalidation_0-logloss:0.10475\n",
      "[214]\tvalidation_0-logloss:0.10454\n",
      "[215]\tvalidation_0-logloss:0.10421\n",
      "[216]\tvalidation_0-logloss:0.10421\n",
      "[217]\tvalidation_0-logloss:0.10387\n",
      "[218]\tvalidation_0-logloss:0.10376\n",
      "[219]\tvalidation_0-logloss:0.10386\n",
      "[220]\tvalidation_0-logloss:0.10366\n",
      "[221]\tvalidation_0-logloss:0.10343\n",
      "[222]\tvalidation_0-logloss:0.10322\n",
      "[223]\tvalidation_0-logloss:0.10289\n",
      "[224]\tvalidation_0-logloss:0.10259\n",
      "[225]\tvalidation_0-logloss:0.10232\n",
      "[226]\tvalidation_0-logloss:0.10211\n",
      "[227]\tvalidation_0-logloss:0.10210\n",
      "[228]\tvalidation_0-logloss:0.10218\n",
      "[229]\tvalidation_0-logloss:0.10188\n",
      "[230]\tvalidation_0-logloss:0.10143\n",
      "[231]\tvalidation_0-logloss:0.10141\n",
      "[232]\tvalidation_0-logloss:0.10158\n",
      "[233]\tvalidation_0-logloss:0.10157\n",
      "[234]\tvalidation_0-logloss:0.10134\n",
      "[235]\tvalidation_0-logloss:0.10090\n",
      "[236]\tvalidation_0-logloss:0.10056\n",
      "[237]\tvalidation_0-logloss:0.10104\n",
      "[238]\tvalidation_0-logloss:0.10087\n",
      "[239]\tvalidation_0-logloss:0.10044\n",
      "[240]\tvalidation_0-logloss:0.09992\n",
      "[241]\tvalidation_0-logloss:0.09979\n",
      "[242]\tvalidation_0-logloss:0.09955\n",
      "[243]\tvalidation_0-logloss:0.09898\n",
      "[244]\tvalidation_0-logloss:0.09873\n",
      "[245]\tvalidation_0-logloss:0.09852\n",
      "[246]\tvalidation_0-logloss:0.09859\n",
      "[247]\tvalidation_0-logloss:0.09823\n",
      "[248]\tvalidation_0-logloss:0.09806\n",
      "[249]\tvalidation_0-logloss:0.09800\n",
      "[250]\tvalidation_0-logloss:0.09772\n",
      "[251]\tvalidation_0-logloss:0.09744\n",
      "[252]\tvalidation_0-logloss:0.09745\n"
     ]
    },
    {
     "name": "stdout",
     "output_type": "stream",
     "text": [
      "[253]\tvalidation_0-logloss:0.09775\n",
      "[254]\tvalidation_0-logloss:0.09752\n",
      "[255]\tvalidation_0-logloss:0.09742\n",
      "[256]\tvalidation_0-logloss:0.09751\n",
      "[257]\tvalidation_0-logloss:0.09744\n",
      "[258]\tvalidation_0-logloss:0.09706\n",
      "[259]\tvalidation_0-logloss:0.09706\n",
      "[260]\tvalidation_0-logloss:0.09687\n",
      "[261]\tvalidation_0-logloss:0.09710\n",
      "[262]\tvalidation_0-logloss:0.09702\n",
      "[263]\tvalidation_0-logloss:0.09688\n",
      "[264]\tvalidation_0-logloss:0.09689\n",
      "[265]\tvalidation_0-logloss:0.09681\n",
      "[266]\tvalidation_0-logloss:0.09676\n",
      "[267]\tvalidation_0-logloss:0.09700\n",
      "[268]\tvalidation_0-logloss:0.09699\n",
      "[269]\tvalidation_0-logloss:0.09685\n",
      "[270]\tvalidation_0-logloss:0.09694\n",
      "[271]\tvalidation_0-logloss:0.09665\n",
      "[272]\tvalidation_0-logloss:0.09657\n",
      "[273]\tvalidation_0-logloss:0.09621\n",
      "[274]\tvalidation_0-logloss:0.09644\n",
      "[275]\tvalidation_0-logloss:0.09624\n",
      "[276]\tvalidation_0-logloss:0.09583\n",
      "[277]\tvalidation_0-logloss:0.09564\n",
      "[278]\tvalidation_0-logloss:0.09535\n",
      "[279]\tvalidation_0-logloss:0.09539\n",
      "[280]\tvalidation_0-logloss:0.09531\n",
      "[281]\tvalidation_0-logloss:0.09506\n",
      "[282]\tvalidation_0-logloss:0.09495\n",
      "[283]\tvalidation_0-logloss:0.09479\n",
      "[284]\tvalidation_0-logloss:0.09489\n",
      "[285]\tvalidation_0-logloss:0.09475\n",
      "[286]\tvalidation_0-logloss:0.09476\n",
      "[287]\tvalidation_0-logloss:0.09473\n",
      "[288]\tvalidation_0-logloss:0.09469\n",
      "[289]\tvalidation_0-logloss:0.09450\n",
      "[290]\tvalidation_0-logloss:0.09467\n",
      "[291]\tvalidation_0-logloss:0.09471\n",
      "[292]\tvalidation_0-logloss:0.09421\n",
      "[293]\tvalidation_0-logloss:0.09437\n",
      "[294]\tvalidation_0-logloss:0.09410\n",
      "[295]\tvalidation_0-logloss:0.09406\n",
      "[296]\tvalidation_0-logloss:0.09411\n",
      "[297]\tvalidation_0-logloss:0.09439\n",
      "[298]\tvalidation_0-logloss:0.09427\n",
      "[299]\tvalidation_0-logloss:0.09410\n",
      "[300]\tvalidation_0-logloss:0.09426\n",
      "[301]\tvalidation_0-logloss:0.09399\n",
      "[302]\tvalidation_0-logloss:0.09378\n",
      "[303]\tvalidation_0-logloss:0.09368\n",
      "[304]\tvalidation_0-logloss:0.09347\n",
      "[305]\tvalidation_0-logloss:0.09317\n",
      "[306]\tvalidation_0-logloss:0.09309\n",
      "[307]\tvalidation_0-logloss:0.09267\n",
      "[308]\tvalidation_0-logloss:0.09231\n",
      "[309]\tvalidation_0-logloss:0.09255\n",
      "[310]\tvalidation_0-logloss:0.09225\n",
      "[311]\tvalidation_0-logloss:0.09201\n",
      "[312]\tvalidation_0-logloss:0.09178\n",
      "[313]\tvalidation_0-logloss:0.09182\n",
      "[314]\tvalidation_0-logloss:0.09178\n",
      "[315]\tvalidation_0-logloss:0.09178\n",
      "[316]\tvalidation_0-logloss:0.09176\n",
      "[317]\tvalidation_0-logloss:0.09151\n",
      "[318]\tvalidation_0-logloss:0.09142\n",
      "[319]\tvalidation_0-logloss:0.09108\n",
      "[320]\tvalidation_0-logloss:0.09103\n",
      "[321]\tvalidation_0-logloss:0.09093\n",
      "[322]\tvalidation_0-logloss:0.09097\n",
      "[323]\tvalidation_0-logloss:0.09079\n",
      "[324]\tvalidation_0-logloss:0.09064\n",
      "[325]\tvalidation_0-logloss:0.09068\n",
      "[326]\tvalidation_0-logloss:0.09059\n",
      "[327]\tvalidation_0-logloss:0.09065\n",
      "[328]\tvalidation_0-logloss:0.09075\n",
      "[329]\tvalidation_0-logloss:0.09065\n",
      "[330]\tvalidation_0-logloss:0.09059\n",
      "[331]\tvalidation_0-logloss:0.09066\n",
      "[332]\tvalidation_0-logloss:0.09069\n",
      "[333]\tvalidation_0-logloss:0.09060\n",
      "[334]\tvalidation_0-logloss:0.09050\n",
      "[335]\tvalidation_0-logloss:0.09029\n",
      "[336]\tvalidation_0-logloss:0.09030\n",
      "[337]\tvalidation_0-logloss:0.09035\n",
      "[338]\tvalidation_0-logloss:0.09007\n",
      "[339]\tvalidation_0-logloss:0.08990\n",
      "[340]\tvalidation_0-logloss:0.08967\n",
      "[341]\tvalidation_0-logloss:0.08942\n",
      "[342]\tvalidation_0-logloss:0.08952\n",
      "[343]\tvalidation_0-logloss:0.08972\n",
      "[344]\tvalidation_0-logloss:0.08978\n",
      "[345]\tvalidation_0-logloss:0.08965\n",
      "[346]\tvalidation_0-logloss:0.08947\n",
      "[347]\tvalidation_0-logloss:0.08937\n",
      "[348]\tvalidation_0-logloss:0.08913\n",
      "[349]\tvalidation_0-logloss:0.08884\n",
      "[350]\tvalidation_0-logloss:0.08876\n",
      "[351]\tvalidation_0-logloss:0.08869\n",
      "[352]\tvalidation_0-logloss:0.08893\n",
      "[353]\tvalidation_0-logloss:0.08898\n",
      "[354]\tvalidation_0-logloss:0.08912\n",
      "[355]\tvalidation_0-logloss:0.08911\n",
      "[356]\tvalidation_0-logloss:0.08917\n",
      "[357]\tvalidation_0-logloss:0.08920\n",
      "[358]\tvalidation_0-logloss:0.08919\n",
      "[359]\tvalidation_0-logloss:0.08912\n",
      "[360]\tvalidation_0-logloss:0.08901\n",
      "[361]\tvalidation_0-logloss:0.08941\n",
      "[362]\tvalidation_0-logloss:0.08935\n",
      "[363]\tvalidation_0-logloss:0.08924\n",
      "[364]\tvalidation_0-logloss:0.08937\n",
      "[365]\tvalidation_0-logloss:0.08927\n",
      "[366]\tvalidation_0-logloss:0.08933\n",
      "[367]\tvalidation_0-logloss:0.08941\n",
      "[368]\tvalidation_0-logloss:0.08929\n",
      "[369]\tvalidation_0-logloss:0.08905\n",
      "[370]\tvalidation_0-logloss:0.08871\n",
      "[371]\tvalidation_0-logloss:0.08884\n",
      "[372]\tvalidation_0-logloss:0.08857\n",
      "[373]\tvalidation_0-logloss:0.08844\n",
      "[374]\tvalidation_0-logloss:0.08833\n",
      "[375]\tvalidation_0-logloss:0.08843\n",
      "[376]\tvalidation_0-logloss:0.08836\n",
      "[377]\tvalidation_0-logloss:0.08824\n",
      "[378]\tvalidation_0-logloss:0.08810\n",
      "[379]\tvalidation_0-logloss:0.08798\n",
      "[380]\tvalidation_0-logloss:0.08780\n",
      "[381]\tvalidation_0-logloss:0.08761\n",
      "[382]\tvalidation_0-logloss:0.08743\n",
      "[383]\tvalidation_0-logloss:0.08743\n",
      "[384]\tvalidation_0-logloss:0.08775\n",
      "[385]\tvalidation_0-logloss:0.08792\n",
      "[386]\tvalidation_0-logloss:0.08806\n",
      "[387]\tvalidation_0-logloss:0.08805\n",
      "[388]\tvalidation_0-logloss:0.08786\n",
      "[389]\tvalidation_0-logloss:0.08771\n",
      "[390]\tvalidation_0-logloss:0.08762\n",
      "[391]\tvalidation_0-logloss:0.08782\n",
      "[392]\tvalidation_0-logloss:0.08788\n",
      "[393]\tvalidation_0-logloss:0.08786\n",
      "[394]\tvalidation_0-logloss:0.08771\n",
      "[395]\tvalidation_0-logloss:0.08754\n",
      "[396]\tvalidation_0-logloss:0.08723\n",
      "[397]\tvalidation_0-logloss:0.08705\n",
      "[398]\tvalidation_0-logloss:0.08695\n",
      "[399]\tvalidation_0-logloss:0.08708\n"
     ]
    }
   ],
   "source": [
    "evals = [(test_x, test_y)]\n",
    "xgb_wrapper = XGBClassifier(n_estimators = 400, learning_rate = 0.1, max_depth = 3)\n",
    "xgb_wrapper.fit(train_x , train_y,  early_stopping_rounds=400, eval_set = evals, eval_metric=\"logloss\",  verbose=True)\n",
    "xgb_wrapper.fit(train_x, train_y)\n",
    "\n",
    "preds = xgb_wrapper.predict(test_x) \n",
    "pred_proba = xgb_wrapper.predict_proba(test_x)[:,1]"
   ]
  },
  {
   "cell_type": "code",
   "execution_count": 35,
   "metadata": {
    "colab": {
     "base_uri": "https://localhost:8080/",
     "height": 747
    },
    "id": "xFqeIqU6epPs",
    "outputId": "c8ad27cc-390b-4a66-8091-b0890f0872f5"
   },
   "outputs": [
    {
     "data": {
      "text/plain": [
       "<matplotlib.axes._subplots.AxesSubplot at 0x19ec8f9d088>"
      ]
     },
     "execution_count": 35,
     "metadata": {},
     "output_type": "execute_result"
    },
    {
     "data": {
      "image/png": "[encoded data removed]",
      "text/plain": [
       "<Figure size 576x720 with 1 Axes>"
      ]
     },
     "metadata": {
      "needs_background": "light"
     },
     "output_type": "display_data"
    }
   ],
   "source": [
    "from xgboost import plot_importance\n",
    "import matplotlib.pyplot as plt\n",
    "%matplotlib inline\n",
    "\n",
    "fig, ax = plt.subplots(figsize=(8, 10)) \n",
    "plot_importance(xgb_wrapper, ax=ax)\n",
    "#피처의 중요도를 시각화하는 모듈"
   ]
  },
  {
   "cell_type": "code",
   "execution_count": 113,
   "metadata": {
    "colab": {
     "base_uri": "https://localhost:8080/"
    },
    "id": "WJ3ZzPkses5W",
    "outputId": "73055376-870f-4128-85a5-c44a2719b78a"
   },
   "outputs": [
    {
     "name": "stdout",
     "output_type": "stream",
     "text": [
      " 정 확 도 : 0.9836\n"
     ]
    }
   ],
   "source": [
    "print(\" 정 확 도 : {0:.4f}\".format(accuracy_score(test_y,preds)))"
   ]
  },
  {
   "cell_type": "code",
   "execution_count": 114,
   "metadata": {
    "colab": {
     "base_uri": "https://localhost:8080/",
     "height": 541
    },
    "id": "yPLerZqUXl0q",
    "outputId": "d1b4c579-8c03-4cb1-aaea-e0c89a92c73b"
   },
   "outputs": [
    {
     "data": {
      "image/png": "[encoded data removed]",
      "text/plain": [
       "<Figure size 432x288 with 2 Axes>"
      ]
     },
     "metadata": {
      "needs_background": "light"
     },
     "output_type": "display_data"
    },
    {
     "data": {
      "image/png": "[encoded data removed]",
      "text/plain": [
       "<Figure size 432x288 with 2 Axes>"
      ]
     },
     "metadata": {
      "needs_background": "light"
     },
     "output_type": "display_data"
    }
   ],
   "source": [
    "\n",
    "from sklearn.metrics import confusion_matrix, ConfusionMatrixDisplay\n",
    "cm = confusion_matrix(test_y,preds, labels=xgb_wrapper.classes_)\n",
    "disp = ConfusionMatrixDisplay(confusion_matrix=cm,\n",
    "                              display_labels=xgb_wrapper.classes_)\n",
    "disp = disp.plot(cmap=plt.cm.Blues,values_format='g')\n",
    "disp.plot()\n",
    "plt.show()"
   ]
  },
  {
   "cell_type": "code",
   "execution_count": 30,
   "metadata": {
    "colab": {
     "base_uri": "https://localhost:8080/",
     "height": 980
    },
    "id": "u8VgUGBPXq3a",
    "outputId": "18f5fd12-740b-47a6-fabc-0af679bee025"
   },
   "outputs": [
    {
     "name": "stdout",
     "output_type": "stream",
     "text": [
      "confusion matrix=\n",
      " [[430  10]\n",
      " [ 25   6]]\n",
      "trainset 정확도:  1.0\n",
      "testset 정확도:  0.9256900212314225\n",
      "accuracy=  0.9256900212314225\n",
      "precision=  0.375\n",
      "recall=  0.1935483870967742\n",
      "f1 score=  0.25531914893617014\n",
      "교차 검증=  0.9341993281075028\n",
      "              precision    recall  f1-score   support\n",
      "\n",
      "           0       0.95      0.98      0.96       440\n",
      "           1       0.38      0.19      0.26        31\n",
      "\n",
      "    accuracy                           0.93       471\n",
      "   macro avg       0.66      0.59      0.61       471\n",
      "weighted avg       0.91      0.93      0.91       471\n",
      "\n"
     ]
    },
    {
     "data": {
      "text/plain": [
       "<matplotlib.axes._subplots.AxesSubplot at 0x206d806d248>"
      ]
     },
     "execution_count": 30,
     "metadata": {},
     "output_type": "execute_result"
    },
    {
     "data": {
      "image/png": "[encoded data removed]",
      "text/plain": [
       "<Figure size 432x288 with 2 Axes>"
      ]
     },
     "metadata": {
      "needs_background": "light"
     },
     "output_type": "display_data"
    }
   ],
   "source": [
    "from sklearn.model_selection import cross_val_score\n",
    "from sklearn.metrics import classification_report\n",
    "print('confusion matrix=\\n',confusion_matrix(y_true=y_test,y_pred=preds))\n",
    "print('trainset 정확도: ',xgb_wrapper.score(x_train_over,y_train_over)) #trainset 정확도\n",
    "print('testset 정확도: ',xgb_wrapper.score(X_test,y_test)) #testset 정확도\n",
    "print('accuracy= ',accuracy_score(y_true=y_test,y_pred=preds))\n",
    "print('precision= ',precision_score(y_true=y_test,y_pred=preds))\n",
    "print('recall= ',recall_score(y_true=y_test,y_pred=preds))\n",
    "print('f1 score= ',f1_score(y_true=y_test,y_pred=preds))\n",
    "print('교차 검증= ',cross_val_score(xgb_wrapper,X_test,y_test).mean())\n",
    "print(classification_report(y_test,preds))\n",
    "heat=pd.DataFrame(confusion_matrix(y_test,preds))\n",
    "sns.heatmap(heat,annot=True)"
   ]
  },
  {
   "cell_type": "code",
   "execution_count": 116,
   "metadata": {
    "id": "1uOBHWgfXumB"
   },
   "outputs": [],
   "source": [
    "fpr,tpr,thresholds=roc_curve(test_y,preds,pos_label=1)"
   ]
  },
  {
   "cell_type": "code",
   "execution_count": 117,
   "metadata": {
    "colab": {
     "base_uri": "https://localhost:8080/",
     "height": 300
    },
    "id": "mRJOQ66pX5nq",
    "outputId": "a56f52f3-cfc5-490e-9c5c-7706d90ab7e6"
   },
   "outputs": [
    {
     "name": "stdout",
     "output_type": "stream",
     "text": [
      "Auc: 0.9836484249028753\n"
     ]
    },
    {
     "data": {
      "image/png": "[encoded data removed]",
      "text/plain": [
       "<Figure size 432x288 with 1 Axes>"
      ]
     },
     "metadata": {
      "needs_background": "light"
     },
     "output_type": "display_data"
    }
   ],
   "source": [
    "def plot_roc_curve(fpr,tpr):\n",
    "    plt.plot(fpr, tpr, linewidth = 2)\n",
    "    plt.plot([0,1], [0,1], 'k--')\n",
    "    plt.axis([0,1,0,1])\n",
    "    plt.xlabel('False Positive Rate')\n",
    "    plt.ylabel('True Positive Rate')\n",
    "\n",
    "plot_roc_curve(fpr, tpr)\n",
    "auc=np.trapz(tpr,fpr)\n",
    "print(\"Auc:\",auc)"
   ]
  },
  {
   "cell_type": "markdown",
   "metadata": {
    "id": "73XYj2pBX5X6"
   },
   "source": []
  },
  {
   "cell_type": "code",
   "execution_count": 118,
   "metadata": {
    "colab": {
     "base_uri": "https://localhost:8080/"
    },
    "id": "CflR_hkvE_LM",
    "outputId": "d96a7108-cd1b-4594-c98f-ea4e6a8d6770"
   },
   "outputs": [
    {
     "name": "stdout",
     "output_type": "stream",
     "text": [
      "              precision    recall  f1-score   support\n",
      "\n",
      "           0       0.99      0.97      0.98       307\n",
      "           1       0.97      0.99      0.98       301\n",
      "\n",
      "    accuracy                           0.98       608\n",
      "   macro avg       0.98      0.98      0.98       608\n",
      "weighted avg       0.98      0.98      0.98       608\n",
      "\n"
     ]
    }
   ],
   "source": [
    "from sklearn.metrics import classification_report\n",
    "y_pred = xgb_wrapper.predict(test_x)\n",
    "accuracy_score(test_y, y_pred)\n",
    "\n",
    "print(classification_report(test_y, y_pred))"
   ]
  },
  {
   "cell_type": "code",
   "execution_count": 119,
   "metadata": {
    "colab": {
     "base_uri": "https://localhost:8080/",
     "height": 295
    },
    "id": "dqGt474WDCK7",
    "outputId": "013794b4-b69d-439e-c0ef-73aa5bdba0f6"
   },
   "outputs": [
    {
     "data": {
      "image/png": "[encoded data removed]",
      "text/plain": [
       "<Figure size 432x288 with 1 Axes>"
      ]
     },
     "metadata": {
      "needs_background": "light"
     },
     "output_type": "display_data"
    }
   ],
   "source": [
    "def roc_curve_plot(test_y , pred_proba_c1):\n",
    "\n",
    "    fprs , tprs , thresholds = roc_curve(test_y ,pred_proba_c1)\n",
    "\n",
    "  \n",
    "    plt.plot(fprs , tprs, label='ROC')\n",
    "   \n",
    "    plt.plot([0, 1], [0, 1], 'k--', label='Random')\n",
    "  \n",
    "\n",
    "    plt.title('smote')\n",
    "    start, end = plt.xlim()\n",
    "    plt.xticks(np.round(np.arange(start, end, 0.1),2))\n",
    "    plt.xlim(0,1)\n",
    "    plt.ylim(0,1)\n",
    "    plt.xlabel('FPR( 1 - Sensitivity )')\n",
    "    plt.ylabel('TPR( Recall )')\n",
    "    plt.legend()\n",
    "    plt.show()\n",
    "    \n",
    "  \n",
    "roc_curve_plot(test_y, xgb_wrapper.predict_proba(test_x)[:, 1] )"
   ]
  }
 ],
 "metadata": {
  "colab": {
   "collapsed_sections": [],
   "name": "xgboost_Test.ipynb",
   "provenance": []
  },
  "kernelspec": {
   "display_name": "Python 3",
   "language": "python",
   "name": "python3"
  },
  "language_info": {
   "codemirror_mode": {
    "name": "ipython",
    "version": 3
   },
   "file_extension": ".py",
   "mimetype": "text/x-python",
   "name": "python",
   "nbconvert_exporter": "python",
   "pygments_lexer": "ipython3",
   "version": "3.7.6"
  }
 },
 "nbformat": 4,
 "nbformat_minor": 1
}
