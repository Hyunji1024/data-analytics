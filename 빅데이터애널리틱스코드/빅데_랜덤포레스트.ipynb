{
 "cells": [
  {
   "cell_type": "code",
   "execution_count": 1,
   "metadata": {
    "id": "jp1g_k-EWQsL"
   },
   "outputs": [],
   "source": [
    "import pandas as pd\n",
    "import numpy as np\n",
    "import seaborn as sns\n",
    "import matplotlib.pyplot as plt\n",
    "\n",
    "from sklearn.model_selection import train_test_split\n",
    "from sklearn.model_selection import GridSearchCV\n",
    "from sklearn.linear_model import LogisticRegression\n",
    "from sklearn.metrics import accuracy_score, precision_score, recall_score, roc_auc_score\n",
    "from sklearn.metrics import confusion_matrix\n",
    "from sklearn.preprocessing import MinMaxScaler, StandardScaler\n",
    "from sklearn.tree import DecisionTreeClassifier\n",
    "from sklearn.tree import export_graphviz\n",
    "from graphviz import Source\n",
    "from sklearn.metrics import f1_score, precision_recall_curve, roc_curve, make_scorer\n",
    "from sklearn.model_selection import GridSearchCV\n",
    "\n"
   ]
  },
  {
   "cell_type": "code",
   "execution_count": 2,
   "metadata": {
    "id": "EUZW_rVKWQsM"
   },
   "outputs": [],
   "source": [
    "df=pd.read_csv(\"secom_rf.csv\")\n",
    "df.drop(\"Unnamed: 0\",axis=1,inplace=True)"
   ]
  },
  {
   "cell_type": "code",
   "execution_count": 3,
   "metadata": {
    "colab": {
     "base_uri": "https://localhost:8080/",
     "height": 488
    },
    "id": "PP9IaSB1WQsM",
    "outputId": "0530c891-5485-4c38-c886-0991d2d57229"
   },
   "outputs": [
    {
     "data": {
      "text/html": [
       "<div>\n",
       "<style scoped>\n",
       "    .dataframe tbody tr th:only-of-type {\n",
       "        vertical-align: middle;\n",
       "    }\n",
       "\n",
       "    .dataframe tbody tr th {\n",
       "        vertical-align: top;\n",
       "    }\n",
       "\n",
       "    .dataframe thead th {\n",
       "        text-align: right;\n",
       "    }\n",
       "</style>\n",
       "<table border=\"1\" class=\"dataframe\">\n",
       "  <thead>\n",
       "    <tr style=\"text-align: right;\">\n",
       "      <th></th>\n",
       "      <th>Pass/Fail</th>\n",
       "      <th>v0</th>\n",
       "      <th>v10</th>\n",
       "      <th>v100</th>\n",
       "      <th>v102</th>\n",
       "      <th>v103</th>\n",
       "      <th>v104</th>\n",
       "      <th>v106</th>\n",
       "      <th>v107</th>\n",
       "      <th>v11</th>\n",
       "      <th>...</th>\n",
       "      <th>v71</th>\n",
       "      <th>v75</th>\n",
       "      <th>v77</th>\n",
       "      <th>v78</th>\n",
       "      <th>v80</th>\n",
       "      <th>v81</th>\n",
       "      <th>v82</th>\n",
       "      <th>v83</th>\n",
       "      <th>v88</th>\n",
       "      <th>v99</th>\n",
       "    </tr>\n",
       "  </thead>\n",
       "  <tbody>\n",
       "    <tr>\n",
       "      <th>0</th>\n",
       "      <td>0</td>\n",
       "      <td>0.212406</td>\n",
       "      <td>-0.330435</td>\n",
       "      <td>0.50</td>\n",
       "      <td>1.962264</td>\n",
       "      <td>1.638889</td>\n",
       "      <td>0.375</td>\n",
       "      <td>-0.078431</td>\n",
       "      <td>-2.545642</td>\n",
       "      <td>-1.569231</td>\n",
       "      <td>...</td>\n",
       "      <td>-0.663565</td>\n",
       "      <td>0.732305</td>\n",
       "      <td>0.625072</td>\n",
       "      <td>-0.285223</td>\n",
       "      <td>0.129719</td>\n",
       "      <td>-2.466145</td>\n",
       "      <td>-0.251416</td>\n",
       "      <td>-0.373801</td>\n",
       "      <td>-0.957169</td>\n",
       "      <td>-0.421141</td>\n",
       "    </tr>\n",
       "    <tr>\n",
       "      <th>1</th>\n",
       "      <td>0</td>\n",
       "      <td>0.933964</td>\n",
       "      <td>-1.321739</td>\n",
       "      <td>-1.00</td>\n",
       "      <td>-1.088534</td>\n",
       "      <td>1.555556</td>\n",
       "      <td>0.250</td>\n",
       "      <td>-0.078431</td>\n",
       "      <td>0.796287</td>\n",
       "      <td>-0.246154</td>\n",
       "      <td>...</td>\n",
       "      <td>-0.725669</td>\n",
       "      <td>0.092770</td>\n",
       "      <td>0.267370</td>\n",
       "      <td>-0.513746</td>\n",
       "      <td>-0.052275</td>\n",
       "      <td>-1.195242</td>\n",
       "      <td>-0.113250</td>\n",
       "      <td>-0.968189</td>\n",
       "      <td>1.900498</td>\n",
       "      <td>-0.265101</td>\n",
       "    </tr>\n",
       "    <tr>\n",
       "      <th>2</th>\n",
       "      <td>0</td>\n",
       "      <td>-0.257246</td>\n",
       "      <td>-0.321739</td>\n",
       "      <td>-0.50</td>\n",
       "      <td>-1.011611</td>\n",
       "      <td>1.166667</td>\n",
       "      <td>0.375</td>\n",
       "      <td>0.745098</td>\n",
       "      <td>-0.498195</td>\n",
       "      <td>-0.230769</td>\n",
       "      <td>...</td>\n",
       "      <td>-1.160797</td>\n",
       "      <td>-1.907230</td>\n",
       "      <td>-0.787461</td>\n",
       "      <td>0.929553</td>\n",
       "      <td>-1.854792</td>\n",
       "      <td>1.513788</td>\n",
       "      <td>0.475651</td>\n",
       "      <td>0.168939</td>\n",
       "      <td>-0.887422</td>\n",
       "      <td>-0.327181</td>\n",
       "    </tr>\n",
       "    <tr>\n",
       "      <th>3</th>\n",
       "      <td>0</td>\n",
       "      <td>0.226982</td>\n",
       "      <td>-0.660870</td>\n",
       "      <td>1.00</td>\n",
       "      <td>1.013062</td>\n",
       "      <td>1.555556</td>\n",
       "      <td>0.250</td>\n",
       "      <td>-0.078431</td>\n",
       "      <td>-0.824136</td>\n",
       "      <td>-0.692308</td>\n",
       "      <td>...</td>\n",
       "      <td>-1.318298</td>\n",
       "      <td>-1.825834</td>\n",
       "      <td>-0.179105</td>\n",
       "      <td>-0.529210</td>\n",
       "      <td>-0.164569</td>\n",
       "      <td>0.503754</td>\n",
       "      <td>-0.260476</td>\n",
       "      <td>0.037943</td>\n",
       "      <td>0.297121</td>\n",
       "      <td>-0.280201</td>\n",
       "    </tr>\n",
       "    <tr>\n",
       "      <th>4</th>\n",
       "      <td>0</td>\n",
       "      <td>-0.729791</td>\n",
       "      <td>0.443478</td>\n",
       "      <td>-0.50</td>\n",
       "      <td>0.387518</td>\n",
       "      <td>1.361111</td>\n",
       "      <td>0.750</td>\n",
       "      <td>0.078431</td>\n",
       "      <td>-2.682826</td>\n",
       "      <td>0.307692</td>\n",
       "      <td>...</td>\n",
       "      <td>-1.155706</td>\n",
       "      <td>1.011375</td>\n",
       "      <td>0.230816</td>\n",
       "      <td>0.115120</td>\n",
       "      <td>-1.471442</td>\n",
       "      <td>0.584022</td>\n",
       "      <td>0.323896</td>\n",
       "      <td>-1.045228</td>\n",
       "      <td>0.363048</td>\n",
       "      <td>-0.703020</td>\n",
       "    </tr>\n",
       "    <tr>\n",
       "      <th>...</th>\n",
       "      <td>...</td>\n",
       "      <td>...</td>\n",
       "      <td>...</td>\n",
       "      <td>...</td>\n",
       "      <td>...</td>\n",
       "      <td>...</td>\n",
       "      <td>...</td>\n",
       "      <td>...</td>\n",
       "      <td>...</td>\n",
       "      <td>...</td>\n",
       "      <td>...</td>\n",
       "      <td>...</td>\n",
       "      <td>...</td>\n",
       "      <td>...</td>\n",
       "      <td>...</td>\n",
       "      <td>...</td>\n",
       "      <td>...</td>\n",
       "      <td>...</td>\n",
       "      <td>...</td>\n",
       "      <td>...</td>\n",
       "      <td>...</td>\n",
       "    </tr>\n",
       "    <tr>\n",
       "      <th>1562</th>\n",
       "      <td>1</td>\n",
       "      <td>-0.260918</td>\n",
       "      <td>-0.026087</td>\n",
       "      <td>0.50</td>\n",
       "      <td>0.767779</td>\n",
       "      <td>-0.194444</td>\n",
       "      <td>0.625</td>\n",
       "      <td>-0.431373</td>\n",
       "      <td>-1.112945</td>\n",
       "      <td>0.100000</td>\n",
       "      <td>...</td>\n",
       "      <td>0.360869</td>\n",
       "      <td>-0.089400</td>\n",
       "      <td>-0.643857</td>\n",
       "      <td>0.809278</td>\n",
       "      <td>0.021297</td>\n",
       "      <td>-0.191898</td>\n",
       "      <td>-0.480181</td>\n",
       "      <td>-0.982760</td>\n",
       "      <td>-1.714807</td>\n",
       "      <td>-0.577181</td>\n",
       "    </tr>\n",
       "    <tr>\n",
       "      <th>1563</th>\n",
       "      <td>1</td>\n",
       "      <td>0.457747</td>\n",
       "      <td>-0.539130</td>\n",
       "      <td>2.50</td>\n",
       "      <td>-0.635704</td>\n",
       "      <td>1.055556</td>\n",
       "      <td>0.625</td>\n",
       "      <td>-0.470588</td>\n",
       "      <td>-0.846828</td>\n",
       "      <td>0.538462</td>\n",
       "      <td>...</td>\n",
       "      <td>0.381210</td>\n",
       "      <td>9.216801</td>\n",
       "      <td>-0.395816</td>\n",
       "      <td>2.130584</td>\n",
       "      <td>0.168441</td>\n",
       "      <td>0.456932</td>\n",
       "      <td>0.169875</td>\n",
       "      <td>-0.162880</td>\n",
       "      <td>1.015825</td>\n",
       "      <td>-0.671141</td>\n",
       "    </tr>\n",
       "    <tr>\n",
       "      <th>1564</th>\n",
       "      <td>1</td>\n",
       "      <td>-0.667594</td>\n",
       "      <td>-0.373913</td>\n",
       "      <td>0.00</td>\n",
       "      <td>-0.341074</td>\n",
       "      <td>-0.361111</td>\n",
       "      <td>-0.500</td>\n",
       "      <td>0.431373</td>\n",
       "      <td>-0.157813</td>\n",
       "      <td>0.930769</td>\n",
       "      <td>...</td>\n",
       "      <td>0.073369</td>\n",
       "      <td>-0.050640</td>\n",
       "      <td>-0.578583</td>\n",
       "      <td>0.728522</td>\n",
       "      <td>0.040658</td>\n",
       "      <td>0.831514</td>\n",
       "      <td>-0.070215</td>\n",
       "      <td>0.615163</td>\n",
       "      <td>2.276824</td>\n",
       "      <td>0.500000</td>\n",
       "    </tr>\n",
       "    <tr>\n",
       "      <th>1565</th>\n",
       "      <td>1</td>\n",
       "      <td>1.795160</td>\n",
       "      <td>-0.530435</td>\n",
       "      <td>0.75</td>\n",
       "      <td>0.557329</td>\n",
       "      <td>0.416667</td>\n",
       "      <td>-0.750</td>\n",
       "      <td>0.666667</td>\n",
       "      <td>-1.129448</td>\n",
       "      <td>0.930769</td>\n",
       "      <td>...</td>\n",
       "      <td>2.833710</td>\n",
       "      <td>0.666414</td>\n",
       "      <td>-0.544641</td>\n",
       "      <td>-0.587629</td>\n",
       "      <td>0.363988</td>\n",
       "      <td>0.309774</td>\n",
       "      <td>-1.832390</td>\n",
       "      <td>-1.297410</td>\n",
       "      <td>-1.327305</td>\n",
       "      <td>0.686242</td>\n",
       "    </tr>\n",
       "    <tr>\n",
       "      <th>1566</th>\n",
       "      <td>1</td>\n",
       "      <td>-1.207232</td>\n",
       "      <td>-0.513043</td>\n",
       "      <td>3.75</td>\n",
       "      <td>4.326560</td>\n",
       "      <td>3.250000</td>\n",
       "      <td>-14.875</td>\n",
       "      <td>4.039216</td>\n",
       "      <td>0.287777</td>\n",
       "      <td>0.207692</td>\n",
       "      <td>...</td>\n",
       "      <td>1.296572</td>\n",
       "      <td>-0.953741</td>\n",
       "      <td>-1.252213</td>\n",
       "      <td>1.137457</td>\n",
       "      <td>0.152953</td>\n",
       "      <td>0.423487</td>\n",
       "      <td>0.493771</td>\n",
       "      <td>2.013417</td>\n",
       "      <td>1.050240</td>\n",
       "      <td>14.855705</td>\n",
       "    </tr>\n",
       "  </tbody>\n",
       "</table>\n",
       "<p>1567 rows × 166 columns</p>\n",
       "</div>"
      ],
      "text/plain": [
       "      Pass/Fail        v0       v10  v100      v102      v103    v104  \\\n",
       "0             0  0.212406 -0.330435  0.50  1.962264  1.638889   0.375   \n",
       "1             0  0.933964 -1.321739 -1.00 -1.088534  1.555556   0.250   \n",
       "2             0 -0.257246 -0.321739 -0.50 -1.011611  1.166667   0.375   \n",
       "3             0  0.226982 -0.660870  1.00  1.013062  1.555556   0.250   \n",
       "4             0 -0.729791  0.443478 -0.50  0.387518  1.361111   0.750   \n",
       "...         ...       ...       ...   ...       ...       ...     ...   \n",
       "1562          1 -0.260918 -0.026087  0.50  0.767779 -0.194444   0.625   \n",
       "1563          1  0.457747 -0.539130  2.50 -0.635704  1.055556   0.625   \n",
       "1564          1 -0.667594 -0.373913  0.00 -0.341074 -0.361111  -0.500   \n",
       "1565          1  1.795160 -0.530435  0.75  0.557329  0.416667  -0.750   \n",
       "1566          1 -1.207232 -0.513043  3.75  4.326560  3.250000 -14.875   \n",
       "\n",
       "          v106      v107       v11  ...       v71       v75       v77  \\\n",
       "0    -0.078431 -2.545642 -1.569231  ... -0.663565  0.732305  0.625072   \n",
       "1    -0.078431  0.796287 -0.246154  ... -0.725669  0.092770  0.267370   \n",
       "2     0.745098 -0.498195 -0.230769  ... -1.160797 -1.907230 -0.787461   \n",
       "3    -0.078431 -0.824136 -0.692308  ... -1.318298 -1.825834 -0.179105   \n",
       "4     0.078431 -2.682826  0.307692  ... -1.155706  1.011375  0.230816   \n",
       "...        ...       ...       ...  ...       ...       ...       ...   \n",
       "1562 -0.431373 -1.112945  0.100000  ...  0.360869 -0.089400 -0.643857   \n",
       "1563 -0.470588 -0.846828  0.538462  ...  0.381210  9.216801 -0.395816   \n",
       "1564  0.431373 -0.157813  0.930769  ...  0.073369 -0.050640 -0.578583   \n",
       "1565  0.666667 -1.129448  0.930769  ...  2.833710  0.666414 -0.544641   \n",
       "1566  4.039216  0.287777  0.207692  ...  1.296572 -0.953741 -1.252213   \n",
       "\n",
       "           v78       v80       v81       v82       v83       v88        v99  \n",
       "0    -0.285223  0.129719 -2.466145 -0.251416 -0.373801 -0.957169  -0.421141  \n",
       "1    -0.513746 -0.052275 -1.195242 -0.113250 -0.968189  1.900498  -0.265101  \n",
       "2     0.929553 -1.854792  1.513788  0.475651  0.168939 -0.887422  -0.327181  \n",
       "3    -0.529210 -0.164569  0.503754 -0.260476  0.037943  0.297121  -0.280201  \n",
       "4     0.115120 -1.471442  0.584022  0.323896 -1.045228  0.363048  -0.703020  \n",
       "...        ...       ...       ...       ...       ...       ...        ...  \n",
       "1562  0.809278  0.021297 -0.191898 -0.480181 -0.982760 -1.714807  -0.577181  \n",
       "1563  2.130584  0.168441  0.456932  0.169875 -0.162880  1.015825  -0.671141  \n",
       "1564  0.728522  0.040658  0.831514 -0.070215  0.615163  2.276824   0.500000  \n",
       "1565 -0.587629  0.363988  0.309774 -1.832390 -1.297410 -1.327305   0.686242  \n",
       "1566  1.137457  0.152953  0.423487  0.493771  2.013417  1.050240  14.855705  \n",
       "\n",
       "[1567 rows x 166 columns]"
      ]
     },
     "execution_count": 3,
     "metadata": {},
     "output_type": "execute_result"
    }
   ],
   "source": [
    "df"
   ]
  },
  {
   "cell_type": "code",
   "execution_count": 4,
   "metadata": {
    "id": "QCyInnDwWQsN"
   },
   "outputs": [],
   "source": [
    "X = df.drop(\"Pass/Fail\", axis=1)\n",
    "y = df[\"Pass/Fail\"].values"
   ]
  },
  {
   "cell_type": "code",
   "execution_count": 5,
   "metadata": {
    "id": "yc4fFm8iWQsN"
   },
   "outputs": [],
   "source": [
    "X_train, X_test, y_train, y_test = train_test_split(X,y,test_size = 0.3, random_state = 42, stratify = y)"
   ]
  },
  {
   "cell_type": "code",
   "execution_count": 6,
   "metadata": {
    "id": "Vn89cYmFWQsO"
   },
   "outputs": [],
   "source": [
    "from sklearn.model_selection import train_test_split"
   ]
  },
  {
   "cell_type": "markdown",
   "metadata": {
    "id": "qioxF_IiWQsO"
   },
   "source": [
    "## SMOTE"
   ]
  },
  {
   "cell_type": "code",
   "execution_count": 7,
   "metadata": {
    "colab": {
     "base_uri": "https://localhost:8080/"
    },
    "id": "4tFDWW4nWQsP",
    "outputId": "2b9a7f4e-31b3-4159-a298-dd972a62221e"
   },
   "outputs": [
    {
     "name": "stdout",
     "output_type": "stream",
     "text": [
      "오버샘플링 전 : (1096, 165) (1096,)\n",
      "\n",
      "오버샘플링 후 : (2046, 165) (2046,)\n",
      "\n",
      "오버샘플링 전 레이블 분포 :\n",
      " 0    1023\n",
      "1      73\n",
      "dtype: int64\n",
      "\n",
      "오버샘플링 후 레이블 분포 :\n",
      " 1    1023\n",
      "0    1023\n",
      "dtype: int64\n"
     ]
    }
   ],
   "source": [
    "from imblearn.over_sampling import SMOTE\n",
    "\n",
    "smote = SMOTE(random_state=12)\n",
    "# train 데이터에서 오버샘플링 시키기\n",
    "x_train_over, y_train_over = smote.fit_resample(X_train, y_train)\n",
    "\n",
    "# 오버샘플링 적용 후 데이터 레이블 개수 살펴보기\n",
    "print('오버샘플링 전 :', X_train.shape, y_train.shape)\n",
    "print()\n",
    "print('오버샘플링 후 :', x_train_over.shape, y_train_over.shape)\n",
    "print()\n",
    "print('오버샘플링 전 레이블 분포 :\\n', pd.Series(y_train).value_counts())\n",
    "print()\n",
    "print('오버샘플링 후 레이블 분포 :\\n', pd.Series(y_train_over).value_counts())"
   ]
  },
  {
   "cell_type": "code",
   "execution_count": 8,
   "metadata": {
    "colab": {
     "base_uri": "https://localhost:8080/",
     "height": 301
    },
    "id": "tb2RT0aMWQsP",
    "outputId": "70003caf-54e1-46fd-e67c-7dca65bf95fe"
   },
   "outputs": [
    {
     "name": "stdout",
     "output_type": "stream",
     "text": [
      "Class=0, n=1023 (65.284%)\n",
      "Class=1, n=73 (4.659%)\n"
     ]
    },
    {
     "data": {
      "image/png": "[encoded data removed]",
      "text/plain": [
       "<Figure size 432x288 with 1 Axes>"
      ]
     },
     "metadata": {
      "needs_background": "light"
     },
     "output_type": "display_data"
    }
   ],
   "source": [
    "from collections import Counter\n",
    "from matplotlib import pyplot\n",
    "\n",
    "counter = Counter(y_train)\n",
    "for k,v in counter.items():\n",
    "    per = v / len(y) * 100\n",
    "    print('Class=%d, n=%d (%.3f%%)' % (k, v, per))\n",
    " \n",
    "#plot the distribution\n",
    "pyplot.bar(counter.keys(), counter.values())\n",
    "pyplot.show()"
   ]
  },
  {
   "cell_type": "code",
   "execution_count": 9,
   "metadata": {
    "colab": {
     "base_uri": "https://localhost:8080/",
     "height": 301
    },
    "id": "GPX0u_riWQsP",
    "outputId": "e971ee84-34a4-49c3-c2bc-aa37bd1b625b"
   },
   "outputs": [
    {
     "name": "stdout",
     "output_type": "stream",
     "text": [
      "Class=0, n=1023 (65.284%)\n",
      "Class=1, n=1023 (65.284%)\n"
     ]
    },
    {
     "data": {
      "image/png": "[encoded data removed]",
      "text/plain": [
       "<Figure size 432x288 with 1 Axes>"
      ]
     },
     "metadata": {
      "needs_background": "light"
     },
     "output_type": "display_data"
    }
   ],
   "source": [
    "from collections import Counter\n",
    "from matplotlib import pyplot\n",
    "\n",
    "counter = Counter(y_train_over)\n",
    "for k,v in counter.items():\n",
    "    per = v / len(y) * 100\n",
    "    print('Class=%d, n=%d (%.3f%%)' % (k, v, per))\n",
    " \n",
    "# plot the distribution\n",
    "pyplot.bar(counter.keys(), counter.values())\n",
    "pyplot.show()"
   ]
  },
  {
   "cell_type": "code",
   "execution_count": 10,
   "metadata": {
    "colab": {
     "base_uri": "https://localhost:8080/",
     "height": 488
    },
    "id": "Tj0o4K58f7O6",
    "outputId": "ae5f56ce-0a25-4cf4-f5d3-5702ce132853"
   },
   "outputs": [
    {
     "data": {
      "text/html": [
       "<div>\n",
       "<style scoped>\n",
       "    .dataframe tbody tr th:only-of-type {\n",
       "        vertical-align: middle;\n",
       "    }\n",
       "\n",
       "    .dataframe tbody tr th {\n",
       "        vertical-align: top;\n",
       "    }\n",
       "\n",
       "    .dataframe thead th {\n",
       "        text-align: right;\n",
       "    }\n",
       "</style>\n",
       "<table border=\"1\" class=\"dataframe\">\n",
       "  <thead>\n",
       "    <tr style=\"text-align: right;\">\n",
       "      <th></th>\n",
       "      <th>v0</th>\n",
       "      <th>v10</th>\n",
       "      <th>v100</th>\n",
       "      <th>v102</th>\n",
       "      <th>v103</th>\n",
       "      <th>v104</th>\n",
       "      <th>v106</th>\n",
       "      <th>v107</th>\n",
       "      <th>v11</th>\n",
       "      <th>v114</th>\n",
       "      <th>...</th>\n",
       "      <th>v71</th>\n",
       "      <th>v75</th>\n",
       "      <th>v77</th>\n",
       "      <th>v78</th>\n",
       "      <th>v80</th>\n",
       "      <th>v81</th>\n",
       "      <th>v82</th>\n",
       "      <th>v83</th>\n",
       "      <th>v88</th>\n",
       "      <th>v99</th>\n",
       "    </tr>\n",
       "  </thead>\n",
       "  <tbody>\n",
       "    <tr>\n",
       "      <th>0</th>\n",
       "      <td>0.343366</td>\n",
       "      <td>0.391304</td>\n",
       "      <td>0.000000</td>\n",
       "      <td>0.152395</td>\n",
       "      <td>-1.361111</td>\n",
       "      <td>1.000000</td>\n",
       "      <td>1.137255</td>\n",
       "      <td>-0.738525</td>\n",
       "      <td>0.861538</td>\n",
       "      <td>0.0</td>\n",
       "      <td>...</td>\n",
       "      <td>-0.428074</td>\n",
       "      <td>-0.701803</td>\n",
       "      <td>0.021939</td>\n",
       "      <td>-0.451890</td>\n",
       "      <td>0.193611</td>\n",
       "      <td>-0.205276</td>\n",
       "      <td>1.080408</td>\n",
       "      <td>0.245113</td>\n",
       "      <td>0.865709</td>\n",
       "      <td>-0.983221</td>\n",
       "    </tr>\n",
       "    <tr>\n",
       "      <th>1</th>\n",
       "      <td>0.906481</td>\n",
       "      <td>-0.408696</td>\n",
       "      <td>-0.250000</td>\n",
       "      <td>1.847605</td>\n",
       "      <td>-0.305556</td>\n",
       "      <td>0.500000</td>\n",
       "      <td>-0.823529</td>\n",
       "      <td>-0.174317</td>\n",
       "      <td>-0.015385</td>\n",
       "      <td>0.0</td>\n",
       "      <td>...</td>\n",
       "      <td>-0.340757</td>\n",
       "      <td>-1.035137</td>\n",
       "      <td>-0.669967</td>\n",
       "      <td>-0.305842</td>\n",
       "      <td>0.606002</td>\n",
       "      <td>0.416798</td>\n",
       "      <td>-1.329558</td>\n",
       "      <td>0.639111</td>\n",
       "      <td>0.341125</td>\n",
       "      <td>-0.562081</td>\n",
       "    </tr>\n",
       "    <tr>\n",
       "      <th>2</th>\n",
       "      <td>-0.337691</td>\n",
       "      <td>0.478261</td>\n",
       "      <td>-1.000000</td>\n",
       "      <td>-0.211901</td>\n",
       "      <td>-1.388889</td>\n",
       "      <td>0.625000</td>\n",
       "      <td>-0.627451</td>\n",
       "      <td>-0.230015</td>\n",
       "      <td>0.969231</td>\n",
       "      <td>0.0</td>\n",
       "      <td>...</td>\n",
       "      <td>0.293107</td>\n",
       "      <td>0.197422</td>\n",
       "      <td>-0.320098</td>\n",
       "      <td>0.309278</td>\n",
       "      <td>0.445305</td>\n",
       "      <td>-1.028018</td>\n",
       "      <td>2.724802</td>\n",
       "      <td>-0.078627</td>\n",
       "      <td>0.079886</td>\n",
       "      <td>-0.624161</td>\n",
       "    </tr>\n",
       "    <tr>\n",
       "      <th>3</th>\n",
       "      <td>-1.402392</td>\n",
       "      <td>-0.573913</td>\n",
       "      <td>-0.750000</td>\n",
       "      <td>0.573295</td>\n",
       "      <td>-1.055556</td>\n",
       "      <td>0.000000</td>\n",
       "      <td>-0.588235</td>\n",
       "      <td>1.817432</td>\n",
       "      <td>0.784615</td>\n",
       "      <td>0.0</td>\n",
       "      <td>...</td>\n",
       "      <td>4.482161</td>\n",
       "      <td>-0.628160</td>\n",
       "      <td>-0.474145</td>\n",
       "      <td>0.345361</td>\n",
       "      <td>-0.712488</td>\n",
       "      <td>0.697734</td>\n",
       "      <td>0.314836</td>\n",
       "      <td>0.482147</td>\n",
       "      <td>0.322729</td>\n",
       "      <td>-0.015101</td>\n",
       "    </tr>\n",
       "    <tr>\n",
       "      <th>4</th>\n",
       "      <td>0.654131</td>\n",
       "      <td>-0.608696</td>\n",
       "      <td>0.750000</td>\n",
       "      <td>0.120464</td>\n",
       "      <td>0.472222</td>\n",
       "      <td>-0.125000</td>\n",
       "      <td>0.823529</td>\n",
       "      <td>-0.064982</td>\n",
       "      <td>0.576923</td>\n",
       "      <td>0.0</td>\n",
       "      <td>...</td>\n",
       "      <td>-0.915013</td>\n",
       "      <td>1.026879</td>\n",
       "      <td>-0.202604</td>\n",
       "      <td>0.451890</td>\n",
       "      <td>1.053243</td>\n",
       "      <td>-0.031363</td>\n",
       "      <td>-0.158550</td>\n",
       "      <td>0.337589</td>\n",
       "      <td>1.241406</td>\n",
       "      <td>0.140940</td>\n",
       "    </tr>\n",
       "    <tr>\n",
       "      <th>...</th>\n",
       "      <td>...</td>\n",
       "      <td>...</td>\n",
       "      <td>...</td>\n",
       "      <td>...</td>\n",
       "      <td>...</td>\n",
       "      <td>...</td>\n",
       "      <td>...</td>\n",
       "      <td>...</td>\n",
       "      <td>...</td>\n",
       "      <td>...</td>\n",
       "      <td>...</td>\n",
       "      <td>...</td>\n",
       "      <td>...</td>\n",
       "      <td>...</td>\n",
       "      <td>...</td>\n",
       "      <td>...</td>\n",
       "      <td>...</td>\n",
       "      <td>...</td>\n",
       "      <td>...</td>\n",
       "      <td>...</td>\n",
       "      <td>...</td>\n",
       "    </tr>\n",
       "    <tr>\n",
       "      <th>2041</th>\n",
       "      <td>-0.395013</td>\n",
       "      <td>0.375856</td>\n",
       "      <td>1.204716</td>\n",
       "      <td>-0.510650</td>\n",
       "      <td>0.111042</td>\n",
       "      <td>-0.015199</td>\n",
       "      <td>-0.602737</td>\n",
       "      <td>0.342488</td>\n",
       "      <td>-0.087002</td>\n",
       "      <td>0.0</td>\n",
       "      <td>...</td>\n",
       "      <td>-0.042462</td>\n",
       "      <td>0.416986</td>\n",
       "      <td>1.054534</td>\n",
       "      <td>-0.573234</td>\n",
       "      <td>-0.662460</td>\n",
       "      <td>0.965377</td>\n",
       "      <td>-0.755045</td>\n",
       "      <td>1.199686</td>\n",
       "      <td>0.625099</td>\n",
       "      <td>0.019677</td>\n",
       "    </tr>\n",
       "    <tr>\n",
       "      <th>2042</th>\n",
       "      <td>-1.065365</td>\n",
       "      <td>-0.900569</td>\n",
       "      <td>-0.065713</td>\n",
       "      <td>-0.885733</td>\n",
       "      <td>1.575001</td>\n",
       "      <td>0.024642</td>\n",
       "      <td>0.557083</td>\n",
       "      <td>0.561636</td>\n",
       "      <td>-1.725144</td>\n",
       "      <td>0.0</td>\n",
       "      <td>...</td>\n",
       "      <td>-0.385427</td>\n",
       "      <td>-0.894131</td>\n",
       "      <td>-1.624273</td>\n",
       "      <td>-0.634148</td>\n",
       "      <td>-1.753837</td>\n",
       "      <td>-0.215403</td>\n",
       "      <td>-0.862391</td>\n",
       "      <td>-0.271356</td>\n",
       "      <td>0.471702</td>\n",
       "      <td>-0.065393</td>\n",
       "    </tr>\n",
       "    <tr>\n",
       "      <th>2043</th>\n",
       "      <td>0.840955</td>\n",
       "      <td>0.771196</td>\n",
       "      <td>0.379486</td>\n",
       "      <td>-0.439670</td>\n",
       "      <td>0.643092</td>\n",
       "      <td>0.639427</td>\n",
       "      <td>-0.059831</td>\n",
       "      <td>-0.219884</td>\n",
       "      <td>0.389249</td>\n",
       "      <td>0.0</td>\n",
       "      <td>...</td>\n",
       "      <td>1.465907</td>\n",
       "      <td>0.629075</td>\n",
       "      <td>1.219895</td>\n",
       "      <td>0.061725</td>\n",
       "      <td>0.626540</td>\n",
       "      <td>1.558864</td>\n",
       "      <td>-0.360405</td>\n",
       "      <td>-0.414143</td>\n",
       "      <td>0.783666</td>\n",
       "      <td>-0.690130</td>\n",
       "    </tr>\n",
       "    <tr>\n",
       "      <th>2044</th>\n",
       "      <td>-0.752992</td>\n",
       "      <td>0.612599</td>\n",
       "      <td>0.172901</td>\n",
       "      <td>1.107059</td>\n",
       "      <td>1.105938</td>\n",
       "      <td>-0.240649</td>\n",
       "      <td>-1.705734</td>\n",
       "      <td>0.139105</td>\n",
       "      <td>-0.145190</td>\n",
       "      <td>0.0</td>\n",
       "      <td>...</td>\n",
       "      <td>-0.677342</td>\n",
       "      <td>0.148169</td>\n",
       "      <td>1.142334</td>\n",
       "      <td>-0.369288</td>\n",
       "      <td>0.528939</td>\n",
       "      <td>-1.917435</td>\n",
       "      <td>-0.310783</td>\n",
       "      <td>-0.218856</td>\n",
       "      <td>0.571451</td>\n",
       "      <td>0.118362</td>\n",
       "    </tr>\n",
       "    <tr>\n",
       "      <th>2045</th>\n",
       "      <td>-0.609198</td>\n",
       "      <td>0.453356</td>\n",
       "      <td>0.339045</td>\n",
       "      <td>0.974941</td>\n",
       "      <td>1.410955</td>\n",
       "      <td>-0.169523</td>\n",
       "      <td>-1.299976</td>\n",
       "      <td>0.099369</td>\n",
       "      <td>-0.317106</td>\n",
       "      <td>0.0</td>\n",
       "      <td>...</td>\n",
       "      <td>-0.435455</td>\n",
       "      <td>-0.089548</td>\n",
       "      <td>0.804357</td>\n",
       "      <td>-0.625426</td>\n",
       "      <td>-0.263719</td>\n",
       "      <td>-0.361277</td>\n",
       "      <td>-0.127038</td>\n",
       "      <td>-0.092709</td>\n",
       "      <td>0.074882</td>\n",
       "      <td>0.199229</td>\n",
       "    </tr>\n",
       "  </tbody>\n",
       "</table>\n",
       "<p>2046 rows × 165 columns</p>\n",
       "</div>"
      ],
      "text/plain": [
       "            v0       v10      v100      v102      v103      v104      v106  \\\n",
       "0     0.343366  0.391304  0.000000  0.152395 -1.361111  1.000000  1.137255   \n",
       "1     0.906481 -0.408696 -0.250000  1.847605 -0.305556  0.500000 -0.823529   \n",
       "2    -0.337691  0.478261 -1.000000 -0.211901 -1.388889  0.625000 -0.627451   \n",
       "3    -1.402392 -0.573913 -0.750000  0.573295 -1.055556  0.000000 -0.588235   \n",
       "4     0.654131 -0.608696  0.750000  0.120464  0.472222 -0.125000  0.823529   \n",
       "...        ...       ...       ...       ...       ...       ...       ...   \n",
       "2041 -0.395013  0.375856  1.204716 -0.510650  0.111042 -0.015199 -0.602737   \n",
       "2042 -1.065365 -0.900569 -0.065713 -0.885733  1.575001  0.024642  0.557083   \n",
       "2043  0.840955  0.771196  0.379486 -0.439670  0.643092  0.639427 -0.059831   \n",
       "2044 -0.752992  0.612599  0.172901  1.107059  1.105938 -0.240649 -1.705734   \n",
       "2045 -0.609198  0.453356  0.339045  0.974941  1.410955 -0.169523 -1.299976   \n",
       "\n",
       "          v107       v11  v114  ...       v71       v75       v77       v78  \\\n",
       "0    -0.738525  0.861538   0.0  ... -0.428074 -0.701803  0.021939 -0.451890   \n",
       "1    -0.174317 -0.015385   0.0  ... -0.340757 -1.035137 -0.669967 -0.305842   \n",
       "2    -0.230015  0.969231   0.0  ...  0.293107  0.197422 -0.320098  0.309278   \n",
       "3     1.817432  0.784615   0.0  ...  4.482161 -0.628160 -0.474145  0.345361   \n",
       "4    -0.064982  0.576923   0.0  ... -0.915013  1.026879 -0.202604  0.451890   \n",
       "...        ...       ...   ...  ...       ...       ...       ...       ...   \n",
       "2041  0.342488 -0.087002   0.0  ... -0.042462  0.416986  1.054534 -0.573234   \n",
       "2042  0.561636 -1.725144   0.0  ... -0.385427 -0.894131 -1.624273 -0.634148   \n",
       "2043 -0.219884  0.389249   0.0  ...  1.465907  0.629075  1.219895  0.061725   \n",
       "2044  0.139105 -0.145190   0.0  ... -0.677342  0.148169  1.142334 -0.369288   \n",
       "2045  0.099369 -0.317106   0.0  ... -0.435455 -0.089548  0.804357 -0.625426   \n",
       "\n",
       "           v80       v81       v82       v83       v88       v99  \n",
       "0     0.193611 -0.205276  1.080408  0.245113  0.865709 -0.983221  \n",
       "1     0.606002  0.416798 -1.329558  0.639111  0.341125 -0.562081  \n",
       "2     0.445305 -1.028018  2.724802 -0.078627  0.079886 -0.624161  \n",
       "3    -0.712488  0.697734  0.314836  0.482147  0.322729 -0.015101  \n",
       "4     1.053243 -0.031363 -0.158550  0.337589  1.241406  0.140940  \n",
       "...        ...       ...       ...       ...       ...       ...  \n",
       "2041 -0.662460  0.965377 -0.755045  1.199686  0.625099  0.019677  \n",
       "2042 -1.753837 -0.215403 -0.862391 -0.271356  0.471702 -0.065393  \n",
       "2043  0.626540  1.558864 -0.360405 -0.414143  0.783666 -0.690130  \n",
       "2044  0.528939 -1.917435 -0.310783 -0.218856  0.571451  0.118362  \n",
       "2045 -0.263719 -0.361277 -0.127038 -0.092709  0.074882  0.199229  \n",
       "\n",
       "[2046 rows x 165 columns]"
      ]
     },
     "execution_count": 10,
     "metadata": {},
     "output_type": "execute_result"
    }
   ],
   "source": [
    "x_train_over"
   ]
  },
  {
   "cell_type": "code",
   "execution_count": 11,
   "metadata": {
    "colab": {
     "base_uri": "https://localhost:8080/",
     "height": 488
    },
    "id": "ko76dYnnirCl",
    "outputId": "e4050c1d-f9fb-44d3-f607-0d909683fa97"
   },
   "outputs": [
    {
     "data": {
      "text/html": [
       "<div>\n",
       "<style scoped>\n",
       "    .dataframe tbody tr th:only-of-type {\n",
       "        vertical-align: middle;\n",
       "    }\n",
       "\n",
       "    .dataframe tbody tr th {\n",
       "        vertical-align: top;\n",
       "    }\n",
       "\n",
       "    .dataframe thead th {\n",
       "        text-align: right;\n",
       "    }\n",
       "</style>\n",
       "<table border=\"1\" class=\"dataframe\">\n",
       "  <thead>\n",
       "    <tr style=\"text-align: right;\">\n",
       "      <th></th>\n",
       "      <th>v0</th>\n",
       "      <th>v10</th>\n",
       "      <th>v100</th>\n",
       "      <th>v102</th>\n",
       "      <th>v103</th>\n",
       "      <th>v104</th>\n",
       "      <th>v106</th>\n",
       "      <th>v107</th>\n",
       "      <th>v11</th>\n",
       "      <th>v114</th>\n",
       "      <th>...</th>\n",
       "      <th>v71</th>\n",
       "      <th>v75</th>\n",
       "      <th>v77</th>\n",
       "      <th>v78</th>\n",
       "      <th>v80</th>\n",
       "      <th>v81</th>\n",
       "      <th>v82</th>\n",
       "      <th>v83</th>\n",
       "      <th>v88</th>\n",
       "      <th>v99</th>\n",
       "    </tr>\n",
       "  </thead>\n",
       "  <tbody>\n",
       "    <tr>\n",
       "      <th>955</th>\n",
       "      <td>-0.677274</td>\n",
       "      <td>0.095652</td>\n",
       "      <td>0.00</td>\n",
       "      <td>-0.371553</td>\n",
       "      <td>-0.777778</td>\n",
       "      <td>0.250</td>\n",
       "      <td>-0.784314</td>\n",
       "      <td>0.267148</td>\n",
       "      <td>0.753846</td>\n",
       "      <td>0.0</td>\n",
       "      <td>...</td>\n",
       "      <td>-0.494726</td>\n",
       "      <td>0.096646</td>\n",
       "      <td>-0.957173</td>\n",
       "      <td>0.302405</td>\n",
       "      <td>0.588577</td>\n",
       "      <td>0.951915</td>\n",
       "      <td>-0.049830</td>\n",
       "      <td>0.651374</td>\n",
       "      <td>-0.911668</td>\n",
       "      <td>-0.265101</td>\n",
       "    </tr>\n",
       "    <tr>\n",
       "      <th>1174</th>\n",
       "      <td>-0.324562</td>\n",
       "      <td>-0.939130</td>\n",
       "      <td>0.25</td>\n",
       "      <td>-0.124819</td>\n",
       "      <td>0.666667</td>\n",
       "      <td>1.250</td>\n",
       "      <td>0.156863</td>\n",
       "      <td>-0.958226</td>\n",
       "      <td>1.023077</td>\n",
       "      <td>0.0</td>\n",
       "      <td>...</td>\n",
       "      <td>0.000000</td>\n",
       "      <td>-0.275447</td>\n",
       "      <td>2.181208</td>\n",
       "      <td>0.702749</td>\n",
       "      <td>0.139400</td>\n",
       "      <td>2.436865</td>\n",
       "      <td>0.131370</td>\n",
       "      <td>-1.196422</td>\n",
       "      <td>-0.589879</td>\n",
       "      <td>-1.233221</td>\n",
       "    </tr>\n",
       "    <tr>\n",
       "      <th>821</th>\n",
       "      <td>2.064979</td>\n",
       "      <td>1.269565</td>\n",
       "      <td>0.25</td>\n",
       "      <td>-0.786647</td>\n",
       "      <td>-0.944444</td>\n",
       "      <td>-0.125</td>\n",
       "      <td>-0.627451</td>\n",
       "      <td>-0.386797</td>\n",
       "      <td>1.046154</td>\n",
       "      <td>0.0</td>\n",
       "      <td>...</td>\n",
       "      <td>0.811948</td>\n",
       "      <td>-1.287075</td>\n",
       "      <td>-1.066834</td>\n",
       "      <td>0.228522</td>\n",
       "      <td>-0.259439</td>\n",
       "      <td>-0.098252</td>\n",
       "      <td>-0.095130</td>\n",
       "      <td>0.335714</td>\n",
       "      <td>-0.653342</td>\n",
       "      <td>0.171141</td>\n",
       "    </tr>\n",
       "    <tr>\n",
       "      <th>1095</th>\n",
       "      <td>-0.802337</td>\n",
       "      <td>0.513043</td>\n",
       "      <td>-1.00</td>\n",
       "      <td>-0.502177</td>\n",
       "      <td>-1.305556</td>\n",
       "      <td>0.125</td>\n",
       "      <td>-0.549020</td>\n",
       "      <td>0.340382</td>\n",
       "      <td>0.546154</td>\n",
       "      <td>0.0</td>\n",
       "      <td>...</td>\n",
       "      <td>-0.008910</td>\n",
       "      <td>0.216801</td>\n",
       "      <td>1.672069</td>\n",
       "      <td>0.261168</td>\n",
       "      <td>0.071636</td>\n",
       "      <td>1.801413</td>\n",
       "      <td>0.428086</td>\n",
       "      <td>0.496285</td>\n",
       "      <td>-0.122017</td>\n",
       "      <td>-0.109060</td>\n",
       "    </tr>\n",
       "    <tr>\n",
       "      <th>35</th>\n",
       "      <td>0.104812</td>\n",
       "      <td>0.765217</td>\n",
       "      <td>-0.75</td>\n",
       "      <td>-0.590711</td>\n",
       "      <td>0.527778</td>\n",
       "      <td>0.375</td>\n",
       "      <td>0.549020</td>\n",
       "      <td>0.566271</td>\n",
       "      <td>-0.900000</td>\n",
       "      <td>0.0</td>\n",
       "      <td>...</td>\n",
       "      <td>-0.049374</td>\n",
       "      <td>0.007499</td>\n",
       "      <td>-1.001560</td>\n",
       "      <td>0.156357</td>\n",
       "      <td>0.127783</td>\n",
       "      <td>0.691045</td>\n",
       "      <td>0.747452</td>\n",
       "      <td>-0.140374</td>\n",
       "      <td>-0.619222</td>\n",
       "      <td>-0.374161</td>\n",
       "    </tr>\n",
       "    <tr>\n",
       "      <th>...</th>\n",
       "      <td>...</td>\n",
       "      <td>...</td>\n",
       "      <td>...</td>\n",
       "      <td>...</td>\n",
       "      <td>...</td>\n",
       "      <td>...</td>\n",
       "      <td>...</td>\n",
       "      <td>...</td>\n",
       "      <td>...</td>\n",
       "      <td>...</td>\n",
       "      <td>...</td>\n",
       "      <td>...</td>\n",
       "      <td>...</td>\n",
       "      <td>...</td>\n",
       "      <td>...</td>\n",
       "      <td>...</td>\n",
       "      <td>...</td>\n",
       "      <td>...</td>\n",
       "      <td>...</td>\n",
       "      <td>...</td>\n",
       "      <td>...</td>\n",
       "    </tr>\n",
       "    <tr>\n",
       "      <th>154</th>\n",
       "      <td>-1.844451</td>\n",
       "      <td>-1.052174</td>\n",
       "      <td>-0.50</td>\n",
       "      <td>-0.044993</td>\n",
       "      <td>1.166667</td>\n",
       "      <td>0.250</td>\n",
       "      <td>0.509804</td>\n",
       "      <td>0.009283</td>\n",
       "      <td>0.300000</td>\n",
       "      <td>0.0</td>\n",
       "      <td>...</td>\n",
       "      <td>-0.153534</td>\n",
       "      <td>0.259437</td>\n",
       "      <td>0.606795</td>\n",
       "      <td>-0.422680</td>\n",
       "      <td>-0.305905</td>\n",
       "      <td>-0.305610</td>\n",
       "      <td>0.197055</td>\n",
       "      <td>-0.877444</td>\n",
       "      <td>-0.178829</td>\n",
       "      <td>-0.203020</td>\n",
       "    </tr>\n",
       "    <tr>\n",
       "      <th>641</th>\n",
       "      <td>0.378748</td>\n",
       "      <td>-0.704348</td>\n",
       "      <td>-0.25</td>\n",
       "      <td>0.081277</td>\n",
       "      <td>-0.194444</td>\n",
       "      <td>-0.500</td>\n",
       "      <td>0.156863</td>\n",
       "      <td>-0.027849</td>\n",
       "      <td>0.569231</td>\n",
       "      <td>0.0</td>\n",
       "      <td>...</td>\n",
       "      <td>-0.950702</td>\n",
       "      <td>-0.814206</td>\n",
       "      <td>0.063714</td>\n",
       "      <td>-1.003436</td>\n",
       "      <td>-1.484995</td>\n",
       "      <td>-0.272165</td>\n",
       "      <td>-0.312571</td>\n",
       "      <td>0.285652</td>\n",
       "      <td>0.376702</td>\n",
       "      <td>0.483221</td>\n",
       "    </tr>\n",
       "    <tr>\n",
       "      <th>216</th>\n",
       "      <td>-2.120834</td>\n",
       "      <td>-0.200000</td>\n",
       "      <td>0.75</td>\n",
       "      <td>-0.802612</td>\n",
       "      <td>0.944444</td>\n",
       "      <td>0.375</td>\n",
       "      <td>1.294118</td>\n",
       "      <td>-0.247550</td>\n",
       "      <td>-1.330769</td>\n",
       "      <td>0.0</td>\n",
       "      <td>...</td>\n",
       "      <td>-0.915570</td>\n",
       "      <td>0.604398</td>\n",
       "      <td>0.706012</td>\n",
       "      <td>0.111684</td>\n",
       "      <td>0.367861</td>\n",
       "      <td>-0.533035</td>\n",
       "      <td>0.496036</td>\n",
       "      <td>-0.814975</td>\n",
       "      <td>0.164869</td>\n",
       "      <td>-0.436242</td>\n",
       "    </tr>\n",
       "    <tr>\n",
       "      <th>1062</th>\n",
       "      <td>-0.443282</td>\n",
       "      <td>0.295652</td>\n",
       "      <td>0.00</td>\n",
       "      <td>0.002903</td>\n",
       "      <td>0.444444</td>\n",
       "      <td>0.625</td>\n",
       "      <td>-0.078431</td>\n",
       "      <td>0.000000</td>\n",
       "      <td>1.038462</td>\n",
       "      <td>0.0</td>\n",
       "      <td>...</td>\n",
       "      <td>0.851312</td>\n",
       "      <td>0.433856</td>\n",
       "      <td>0.507579</td>\n",
       "      <td>-0.048110</td>\n",
       "      <td>-0.079380</td>\n",
       "      <td>-0.118319</td>\n",
       "      <td>-0.240091</td>\n",
       "      <td>-0.290413</td>\n",
       "      <td>0.998455</td>\n",
       "      <td>0.000000</td>\n",
       "    </tr>\n",
       "    <tr>\n",
       "      <th>827</th>\n",
       "      <td>0.514492</td>\n",
       "      <td>0.286957</td>\n",
       "      <td>-0.50</td>\n",
       "      <td>-1.177068</td>\n",
       "      <td>-0.666667</td>\n",
       "      <td>-1.000</td>\n",
       "      <td>-0.705882</td>\n",
       "      <td>0.050542</td>\n",
       "      <td>0.346154</td>\n",
       "      <td>0.0</td>\n",
       "      <td>...</td>\n",
       "      <td>-2.046362</td>\n",
       "      <td>-0.039013</td>\n",
       "      <td>1.175986</td>\n",
       "      <td>0.565292</td>\n",
       "      <td>-0.211036</td>\n",
       "      <td>-0.994573</td>\n",
       "      <td>0.620612</td>\n",
       "      <td>0.133449</td>\n",
       "      <td>0.009020</td>\n",
       "      <td>0.998322</td>\n",
       "    </tr>\n",
       "  </tbody>\n",
       "</table>\n",
       "<p>471 rows × 165 columns</p>\n",
       "</div>"
      ],
      "text/plain": [
       "            v0       v10  v100      v102      v103   v104      v106      v107  \\\n",
       "955  -0.677274  0.095652  0.00 -0.371553 -0.777778  0.250 -0.784314  0.267148   \n",
       "1174 -0.324562 -0.939130  0.25 -0.124819  0.666667  1.250  0.156863 -0.958226   \n",
       "821   2.064979  1.269565  0.25 -0.786647 -0.944444 -0.125 -0.627451 -0.386797   \n",
       "1095 -0.802337  0.513043 -1.00 -0.502177 -1.305556  0.125 -0.549020  0.340382   \n",
       "35    0.104812  0.765217 -0.75 -0.590711  0.527778  0.375  0.549020  0.566271   \n",
       "...        ...       ...   ...       ...       ...    ...       ...       ...   \n",
       "154  -1.844451 -1.052174 -0.50 -0.044993  1.166667  0.250  0.509804  0.009283   \n",
       "641   0.378748 -0.704348 -0.25  0.081277 -0.194444 -0.500  0.156863 -0.027849   \n",
       "216  -2.120834 -0.200000  0.75 -0.802612  0.944444  0.375  1.294118 -0.247550   \n",
       "1062 -0.443282  0.295652  0.00  0.002903  0.444444  0.625 -0.078431  0.000000   \n",
       "827   0.514492  0.286957 -0.50 -1.177068 -0.666667 -1.000 -0.705882  0.050542   \n",
       "\n",
       "           v11  v114  ...       v71       v75       v77       v78       v80  \\\n",
       "955   0.753846   0.0  ... -0.494726  0.096646 -0.957173  0.302405  0.588577   \n",
       "1174  1.023077   0.0  ...  0.000000 -0.275447  2.181208  0.702749  0.139400   \n",
       "821   1.046154   0.0  ...  0.811948 -1.287075 -1.066834  0.228522 -0.259439   \n",
       "1095  0.546154   0.0  ... -0.008910  0.216801  1.672069  0.261168  0.071636   \n",
       "35   -0.900000   0.0  ... -0.049374  0.007499 -1.001560  0.156357  0.127783   \n",
       "...        ...   ...  ...       ...       ...       ...       ...       ...   \n",
       "154   0.300000   0.0  ... -0.153534  0.259437  0.606795 -0.422680 -0.305905   \n",
       "641   0.569231   0.0  ... -0.950702 -0.814206  0.063714 -1.003436 -1.484995   \n",
       "216  -1.330769   0.0  ... -0.915570  0.604398  0.706012  0.111684  0.367861   \n",
       "1062  1.038462   0.0  ...  0.851312  0.433856  0.507579 -0.048110 -0.079380   \n",
       "827   0.346154   0.0  ... -2.046362 -0.039013  1.175986  0.565292 -0.211036   \n",
       "\n",
       "           v81       v82       v83       v88       v99  \n",
       "955   0.951915 -0.049830  0.651374 -0.911668 -0.265101  \n",
       "1174  2.436865  0.131370 -1.196422 -0.589879 -1.233221  \n",
       "821  -0.098252 -0.095130  0.335714 -0.653342  0.171141  \n",
       "1095  1.801413  0.428086  0.496285 -0.122017 -0.109060  \n",
       "35    0.691045  0.747452 -0.140374 -0.619222 -0.374161  \n",
       "...        ...       ...       ...       ...       ...  \n",
       "154  -0.305610  0.197055 -0.877444 -0.178829 -0.203020  \n",
       "641  -0.272165 -0.312571  0.285652  0.376702  0.483221  \n",
       "216  -0.533035  0.496036 -0.814975  0.164869 -0.436242  \n",
       "1062 -0.118319 -0.240091 -0.290413  0.998455  0.000000  \n",
       "827  -0.994573  0.620612  0.133449  0.009020  0.998322  \n",
       "\n",
       "[471 rows x 165 columns]"
      ]
     },
     "execution_count": 11,
     "metadata": {},
     "output_type": "execute_result"
    }
   ],
   "source": [
    "pd.DataFrame(X_test)"
   ]
  },
  {
   "cell_type": "code",
   "execution_count": 12,
   "metadata": {
    "id": "3aX_pfJsEKII"
   },
   "outputs": [],
   "source": [
    "x_train_over = pd.DataFrame(x_train_over)\n",
    "y_train_over=pd.DataFrame(y_train_over)"
   ]
  },
  {
   "cell_type": "code",
   "execution_count": 16,
   "metadata": {
    "colab": {
     "base_uri": "https://localhost:8080/"
    },
    "id": "cFv8HOzLXrGr",
    "outputId": "08c50412-6ad9-45c4-a654-b9a787b15c3e"
   },
   "outputs": [
    {
     "name": "stdout",
     "output_type": "stream",
     "text": [
      "최적 하이퍼 파라미터:  {'max_depth': 4, 'max_features': 3, 'n_estimators': 5}\n",
      "최고 예측 정확도: 0.7918\n"
     ]
    }
   ],
   "source": [
    "from sklearn.ensemble import RandomForestClassifier\n",
    "tree = RandomForestClassifier()\n",
    "param_grid = {\n",
    "    'max_depth' : range(3,5),\n",
    "    'n_estimators' : range(5,10,50),\n",
    "    'max_features' : range(1,4)\n",
    "}\n",
    "\n",
    "grid_search = GridSearchCV(tree, param_grid, cv=5)\n",
    "\n",
    "grid_search.fit(x_train_over, y_train_over.values.ravel())\n",
    "print('최적 하이퍼 파라미터: ', grid_search.best_params_)\n",
    "print('최고 예측 정확도: {:.4f}'.format(grid_search.best_score_))"
   ]
  },
  {
   "cell_type": "code",
   "execution_count": 18,
   "metadata": {},
   "outputs": [
    {
     "name": "stderr",
     "output_type": "stream",
     "text": [
      "C:\\Users\\82104\\anaconda3\\lib\\site-packages\\ipykernel_launcher.py:3: DataConversionWarning: A column-vector y was passed when a 1d array was expected. Please change the shape of y to (n_samples,), for example using ravel().\n",
      "  This is separate from the ipykernel package so we can avoid doing imports until\n"
     ]
    }
   ],
   "source": [
    "evals = [(X_test, y_test)]\n",
    "random = RandomForestClassifier(**grid_search.best_params_)\n",
    "random.fit(x_train_over, y_train_over)\n",
    "\n",
    "preds = random.predict(X_test) "
   ]
  },
  {
   "cell_type": "code",
   "execution_count": 23,
   "metadata": {},
   "outputs": [
    {
     "name": "stdout",
     "output_type": "stream",
     "text": [
      "              precision    recall  f1-score   support\n",
      "\n",
      "           0       0.95      0.79      0.86       440\n",
      "           1       0.13      0.45      0.20        31\n",
      "\n",
      "    accuracy                           0.77       471\n",
      "   macro avg       0.54      0.62      0.53       471\n",
      "weighted avg       0.90      0.77      0.82       471\n",
      "\n"
     ]
    }
   ],
   "source": [
    "y_pred= grid_search.predict(X_test)\n",
    "print(classification_report(y_test, y_pred))"
   ]
  },
  {
   "cell_type": "code",
   "execution_count": 24,
   "metadata": {},
   "outputs": [
    {
     "data": {
      "image/png": "[encoded data removed]",
      "text/plain": [
       "<Figure size 432x288 with 2 Axes>"
      ]
     },
     "metadata": {
      "needs_background": "light"
     },
     "output_type": "display_data"
    },
    {
     "data": {
      "image/png": "[encoded data removed]",
      "text/plain": [
       "<Figure size 432x288 with 2 Axes>"
      ]
     },
     "metadata": {
      "needs_background": "light"
     },
     "output_type": "display_data"
    }
   ],
   "source": [
    "from sklearn.metrics import confusion_matrix, ConfusionMatrixDisplay\n",
    "cm = confusion_matrix(y_test,preds, labels=random.classes_)\n",
    "disp = ConfusionMatrixDisplay(confusion_matrix=cm,\n",
    "                              display_labels=random.classes_)\n",
    "disp = disp.plot(cmap=plt.cm.Blues,values_format='g')\n",
    "disp.plot()\n",
    "plt.show()"
   ]
  },
  {
   "cell_type": "code",
   "execution_count": 25,
   "metadata": {},
   "outputs": [
    {
     "name": "stdout",
     "output_type": "stream",
     "text": [
      "confusion matrix=\n",
      " [[325 115]\n",
      " [ 18  13]]\n",
      "trainset 정확도:  0.8426197458455523\n",
      "testset 정확도:  0.7176220806794055\n",
      "accuracy=  0.7176220806794055\n",
      "precision=  0.1015625\n",
      "recall=  0.41935483870967744\n",
      "f1 score=  0.16352201257861634\n",
      "교차 검증=  0.9341993281075028\n",
      "              precision    recall  f1-score   support\n",
      "\n",
      "           0       0.95      0.74      0.83       440\n",
      "           1       0.10      0.42      0.16        31\n",
      "\n",
      "    accuracy                           0.72       471\n",
      "   macro avg       0.52      0.58      0.50       471\n",
      "weighted avg       0.89      0.72      0.79       471\n",
      "\n"
     ]
    },
    {
     "data": {
      "text/plain": [
       "<matplotlib.axes._subplots.AxesSubplot at 0x17aae096548>"
      ]
     },
     "execution_count": 25,
     "metadata": {},
     "output_type": "execute_result"
    },
    {
     "data": {
      "image/png": "[encoded data removed]",
      "text/plain": [
       "<Figure size 432x288 with 2 Axes>"
      ]
     },
     "metadata": {
      "needs_background": "light"
     },
     "output_type": "display_data"
    }
   ],
   "source": [
    "from sklearn.metrics import confusion_matrix, ConfusionMatrixDisplay\n",
    "from sklearn.model_selection import cross_val_score\n",
    "from sklearn.metrics import classification_report\n",
    "print('confusion matrix=\\n',confusion_matrix(y_true=y_test,y_pred=preds))\n",
    "print('trainset 정확도: ',random.score(x_train_over,y_train_over)) #trainset 정확도\n",
    "print('testset 정확도: ',random.score(X_test,y_test)) #testset 정확도\n",
    "print('accuracy= ',accuracy_score(y_true=y_test,y_pred=preds))\n",
    "print('precision= ',precision_score(y_true=y_test,y_pred=preds))\n",
    "print('recall= ',recall_score(y_true=y_test,y_pred=preds))\n",
    "print('f1 score= ',f1_score(y_true=y_test,y_pred=preds))\n",
    "print('교차 검증= ',cross_val_score(random,X_test,y_test).mean())\n",
    "print(classification_report(y_test,preds))\n",
    "heat=pd.DataFrame(confusion_matrix(y_test,preds))\n",
    "sns.heatmap(heat,annot=True)"
   ]
  },
  {
   "cell_type": "code",
   "execution_count": null,
   "metadata": {},
   "outputs": [],
   "source": []
  },
  {
   "cell_type": "code",
   "execution_count": 26,
   "metadata": {},
   "outputs": [
    {
     "data": {
      "image/png": "[encoded data removed]",
      "text/plain": [
       "<Figure size 432x288 with 1 Axes>"
      ]
     },
     "metadata": {
      "needs_background": "light"
     },
     "output_type": "display_data"
    }
   ],
   "source": [
    "from sklearn import metrics\n",
    "from sklearn.metrics import roc_curve, auc\n",
    "#false_positive_rate, true_positive_rate, thresholds = roc_curve(y1_test, pred_c)\n",
    "false_positive_rate, true_positive_rate, thresholds = roc_curve(y_test, y_pred)\n",
    "\n",
    "#roc_auc = metrics.auc(false_positive_rate, true_positive_rate)\n",
    "#roc_auc = metrics.roc_auc_score(y1_test,pred_c)\n",
    "roc_auc = metrics.roc_auc_score(y_test,y_pred)\n",
    "\n",
    "plt.title('Receiver Operating Characteristic')\n",
    "plt.xlabel('False Positive Rate(1 - Specificity)')\n",
    "plt.ylabel('True Positive Rate(Sensitivity)')\n",
    "\n",
    "plt.plot(false_positive_rate, true_positive_rate, 'b', label='Model (AUC = %0.2f)'% roc_auc)\n",
    "plt.plot([0,1],[1,1],'y--')\n",
    "plt.plot([0,1],[0,1],'r--')\n",
    "\n",
    "plt.legend(loc='lower right')\n",
    "plt.show()"
   ]
  },
  {
   "cell_type": "code",
   "execution_count": 439,
   "metadata": {
    "colab": {
     "base_uri": "https://localhost:8080/"
    },
    "id": "TPWI8KSATyYG",
    "outputId": "6ab958e8-55d5-4ebd-d36d-43483f7aef2a"
   },
   "outputs": [
    {
     "name": "stdout",
     "output_type": "stream",
     "text": [
      "test accuracy :  0.7346072186836518\n",
      "parameters :  {'max_depth': 4, 'max_features': 2, 'n_estimators': 5}\n"
     ]
    }
   ],
   "source": [
    "print('test accuracy : ', grid_search.score(X_test, y_test))\n",
    "print('parameters : ', grid_search.best_params_)"
   ]
  },
  {
   "cell_type": "code",
   "execution_count": 440,
   "metadata": {
    "colab": {
     "base_uri": "https://localhost:8080/"
    },
    "id": "KlK9ECbkT0m2",
    "outputId": "13d8183d-ef19-495b-de31-03dd38471939"
   },
   "outputs": [
    {
     "name": "stdout",
     "output_type": "stream",
     "text": [
      "학습용 데이터셋 정확도 : 0.81\n",
      "검증용 데이터셋 정확도 : 0.73\n"
     ]
    }
   ],
   "source": [
    "print('학습용 데이터셋 정확도 : %.2f' % grid_search.score(x_train_over, y_train_over))\n",
    "print('검증용 데이터셋 정확도 : %.2f' % grid_search.score(X_test, y_test))"
   ]
  },
  {
   "cell_type": "code",
   "execution_count": 441,
   "metadata": {
    "colab": {
     "base_uri": "https://localhost:8080/"
    },
    "id": "T5fz679NdxIp",
    "outputId": "87607c07-7702-4c01-adb8-cccf9bff8641"
   },
   "outputs": [
    {
     "name": "stdout",
     "output_type": "stream",
     "text": [
      "              precision    recall  f1-score   support\n",
      "\n",
      "           0       0.95      0.75      0.84       440\n",
      "           1       0.12      0.48      0.19        31\n",
      "\n",
      "    accuracy                           0.73       471\n",
      "   macro avg       0.54      0.62      0.52       471\n",
      "weighted avg       0.90      0.73      0.80       471\n",
      "\n"
     ]
    }
   ],
   "source": [
    "from sklearn.metrics import classification_report\n",
    "y_pred=grid_search.predict(X_test)\n",
    "print(classification_report(y_test, y_pred))"
   ]
  },
  {
   "cell_type": "code",
   "execution_count": 442,
   "metadata": {
    "colab": {
     "base_uri": "https://localhost:8080/",
     "height": 295
    },
    "id": "jRvbg-YWCbsQ",
    "outputId": "adb7b468-f043-430d-e4c3-7733295cdecd"
   },
   "outputs": [
    {
     "data": {
      "image/png": "[encoded data removed]",
      "text/plain": [
       "<Figure size 432x288 with 1 Axes>"
      ]
     },
     "metadata": {
      "needs_background": "light"
     },
     "output_type": "display_data"
    }
   ],
   "source": [
    "def roc_curve_plot(y_test , pred_proba_c1):\n",
    "\n",
    "    fprs , tprs , thresholds = roc_curve(y_test ,pred_proba_c1)\n",
    "\n",
    "  \n",
    "    plt.plot(fprs , tprs, label='ROC')\n",
    "   \n",
    "    plt.plot([0, 1], [0, 1], 'k--', label='Random')\n",
    "  \n",
    "\n",
    "    plt.title('SMOTE')\n",
    "    start, end = plt.xlim()\n",
    "    plt.xticks(np.round(np.arange(start, end, 0.1),2))\n",
    "    plt.xlim(0,1)\n",
    "    plt.ylim(0,1)\n",
    "    plt.xlabel('FPR( 1 - Sensitivity )')\n",
    "    plt.ylabel('TPR( Recall )')\n",
    "    plt.legend()\n",
    "    plt.show()\n",
    "    \n",
    "  \n",
    "roc_curve_plot(y_test, grid_search.predict_proba(X_test)[:, 1] )"
   ]
  },
  {
   "cell_type": "code",
   "execution_count": 443,
   "metadata": {
    "colab": {
     "base_uri": "https://localhost:8080/",
     "height": 541
    },
    "id": "-bLZGTuHay-F",
    "outputId": "ca19d7b9-47b4-422c-f4ff-e70a6df54696"
   },
   "outputs": [
    {
     "data": {
      "image/png": "[encoded data removed]",
      "text/plain": [
       "<Figure size 432x288 with 2 Axes>"
      ]
     },
     "metadata": {
      "needs_background": "light"
     },
     "output_type": "display_data"
    },
    {
     "data": {
      "image/png": "[encoded data removed]",
      "text/plain": [
       "<Figure size 432x288 with 2 Axes>"
      ]
     },
     "metadata": {
      "needs_background": "light"
     },
     "output_type": "display_data"
    }
   ],
   "source": [
    "from sklearn.metrics import confusion_matrix, ConfusionMatrixDisplay\n",
    "cm = confusion_matrix(y_test,y_pred, labels=grid_search.classes_)\n",
    "disp = ConfusionMatrixDisplay(confusion_matrix=cm,\n",
    "                              display_labels=grid_search.classes_)\n",
    "disp = disp.plot(cmap=plt.cm.Blues,values_format='g')\n",
    "disp.plot()\n",
    "plt.show()"
   ]
  },
  {
   "cell_type": "markdown",
   "metadata": {
    "id": "eLwopu4nWQsQ"
   },
   "source": [
    "## ADASYN\n",
    "#### SMOTE의 개선된 버전이다. 동일한 프로세스를 진행한 후 점들에 임의의 작은 값을 더해줌으로써 조금 더 사실적인 데이터가 생성된다. 즉 모든 표본이 약간 더 분산된다."
   ]
  },
  {
   "cell_type": "code",
   "execution_count": 27,
   "metadata": {
    "colab": {
     "base_uri": "https://localhost:8080/"
    },
    "id": "drkigHsfWQsQ",
    "outputId": "5c3bbcc6-3109-41e0-e198-0e6c4643e8ee"
   },
   "outputs": [
    {
     "name": "stdout",
     "output_type": "stream",
     "text": [
      "Original dataset shape Counter({0: 1023, 1: 73})\n",
      "Resampled dataset shape Counter({0: 1023, 1: 1015})\n",
      "오버샘플링 전 : (1096, 165) (1096,)\n",
      "\n",
      "오버샘플링 후 : (2038, 165) (2038,)\n",
      "\n",
      "오버샘플링 전 레이블 분포 :\n",
      " 0    1023\n",
      "1      73\n",
      "dtype: int64\n",
      "\n",
      "오버샘플링 후 레이블 분포 :\n",
      " 0    1023\n",
      "1    1015\n",
      "dtype: int64\n"
     ]
    }
   ],
   "source": [
    "from collections import Counter\n",
    "from sklearn.datasets import make_classification\n",
    "from imblearn.over_sampling import ADASYN # doctest: +NORMALIZE_WHITESPACE\n",
    "\n",
    "print('Original dataset shape %s' % Counter(y_train))\n",
    "\n",
    "ada = ADASYN(random_state=12)\n",
    "X_res, y_res = ada.fit_resample(X_train, y_train)\n",
    "print('Resampled dataset shape %s' % Counter(y_res))\n",
    "\n",
    "print('오버샘플링 전 :', X_train.shape, y_train.shape)\n",
    "print()\n",
    "print('오버샘플링 후 :', X_res.shape, y_res.shape)\n",
    "print()\n",
    "print('오버샘플링 전 레이블 분포 :\\n', pd.Series(y_train).value_counts())\n",
    "print()\n",
    "print('오버샘플링 후 레이블 분포 :\\n', pd.Series(y_res).value_counts())"
   ]
  },
  {
   "cell_type": "code",
   "execution_count": 28,
   "metadata": {
    "id": "L-QVISbOCnGf"
   },
   "outputs": [],
   "source": [
    "y_res=pd.DataFrame(y_res)\n",
    "X_res=pd.DataFrame(X_res)"
   ]
  },
  {
   "cell_type": "code",
   "execution_count": 29,
   "metadata": {
    "colab": {
     "base_uri": "https://localhost:8080/"
    },
    "id": "5V1g_bxxGv-w",
    "outputId": "6e25b69a-b92d-4f83-bc76-814d7519aa08"
   },
   "outputs": [
    {
     "name": "stdout",
     "output_type": "stream",
     "text": [
      "최적 하이퍼 파라미터:  {'max_depth': 4, 'max_features': 3, 'n_estimators': 5}\n",
      "최고 예측 정확도: 0.7630\n"
     ]
    }
   ],
   "source": [
    "from sklearn.ensemble import RandomForestClassifier\n",
    "tree = RandomForestClassifier()\n",
    "param_grid = {\n",
    "    'max_depth' : range(3,5),\n",
    "    'n_estimators' : range(5,10,50),\n",
    "    'max_features' : range(1,4)\n",
    "}\n",
    "\n",
    "grid_search = GridSearchCV(tree, param_grid, cv=5)\n",
    "\n",
    "grid_search.fit(X_res, y_res.values.ravel())\n",
    "print('최적 하이퍼 파라미터: ', grid_search.best_params_)\n",
    "print('최고 예측 정확도: {:.4f}'.format(grid_search.best_score_))"
   ]
  },
  {
   "cell_type": "code",
   "execution_count": 31,
   "metadata": {},
   "outputs": [
    {
     "name": "stderr",
     "output_type": "stream",
     "text": [
      "C:\\Users\\82104\\anaconda3\\lib\\site-packages\\ipykernel_launcher.py:3: DataConversionWarning: A column-vector y was passed when a 1d array was expected. Please change the shape of y to (n_samples,), for example using ravel().\n",
      "  This is separate from the ipykernel package so we can avoid doing imports until\n"
     ]
    }
   ],
   "source": [
    "evals = [(X_test, y_test)]\n",
    "random = RandomForestClassifier(**grid_search.best_params_)\n",
    "random.fit(X_res, y_res)\n",
    "\n",
    "preds = random.predict(X_test) "
   ]
  },
  {
   "cell_type": "code",
   "execution_count": 32,
   "metadata": {},
   "outputs": [
    {
     "name": "stdout",
     "output_type": "stream",
     "text": [
      "              precision    recall  f1-score   support\n",
      "\n",
      "           0       0.97      0.83      0.90       440\n",
      "           1       0.20      0.58      0.30        31\n",
      "\n",
      "    accuracy                           0.82       471\n",
      "   macro avg       0.58      0.71      0.60       471\n",
      "weighted avg       0.92      0.82      0.86       471\n",
      "\n"
     ]
    }
   ],
   "source": [
    "y_pred= grid_search.predict(X_test)\n",
    "print(classification_report(y_test, y_pred))"
   ]
  },
  {
   "cell_type": "code",
   "execution_count": 33,
   "metadata": {},
   "outputs": [
    {
     "data": {
      "image/png": "[encoded data removed]",
      "text/plain": [
       "<Figure size 432x288 with 2 Axes>"
      ]
     },
     "metadata": {
      "needs_background": "light"
     },
     "output_type": "display_data"
    },
    {
     "data": {
      "image/png": "[encoded data removed]",
      "text/plain": [
       "<Figure size 432x288 with 2 Axes>"
      ]
     },
     "metadata": {
      "needs_background": "light"
     },
     "output_type": "display_data"
    }
   ],
   "source": [
    "from sklearn.metrics import confusion_matrix, ConfusionMatrixDisplay\n",
    "cm = confusion_matrix(y_test,preds, labels=random.classes_)\n",
    "disp = ConfusionMatrixDisplay(confusion_matrix=cm,\n",
    "                              display_labels=random.classes_)\n",
    "disp = disp.plot(cmap=plt.cm.Blues,values_format='g')\n",
    "disp.plot()\n",
    "plt.show()"
   ]
  },
  {
   "cell_type": "code",
   "execution_count": 34,
   "metadata": {},
   "outputs": [
    {
     "name": "stdout",
     "output_type": "stream",
     "text": [
      "confusion matrix=\n",
      " [[316 124]\n",
      " [ 19  12]]\n",
      "trainset 정확도:  0.821603128054741\n",
      "testset 정확도:  0.6963906581740976\n",
      "accuracy=  0.6963906581740976\n",
      "precision=  0.08823529411764706\n",
      "recall=  0.3870967741935484\n",
      "f1 score=  0.1437125748502994\n",
      "교차 검증=  0.9341993281075028\n",
      "              precision    recall  f1-score   support\n",
      "\n",
      "           0       0.94      0.72      0.82       440\n",
      "           1       0.09      0.39      0.14        31\n",
      "\n",
      "    accuracy                           0.70       471\n",
      "   macro avg       0.52      0.55      0.48       471\n",
      "weighted avg       0.89      0.70      0.77       471\n",
      "\n"
     ]
    },
    {
     "data": {
      "text/plain": [
       "<matplotlib.axes._subplots.AxesSubplot at 0x17aadac6388>"
      ]
     },
     "execution_count": 34,
     "metadata": {},
     "output_type": "execute_result"
    },
    {
     "data": {
      "image/png": "[encoded data removed]",
      "text/plain": [
       "<Figure size 432x288 with 2 Axes>"
      ]
     },
     "metadata": {
      "needs_background": "light"
     },
     "output_type": "display_data"
    }
   ],
   "source": [
    "from sklearn.metrics import confusion_matrix, ConfusionMatrixDisplay\n",
    "from sklearn.model_selection import cross_val_score\n",
    "from sklearn.metrics import classification_report\n",
    "print('confusion matrix=\\n',confusion_matrix(y_true=y_test,y_pred=preds))\n",
    "print('trainset 정확도: ',random.score(x_train_over,y_train_over)) #trainset 정확도\n",
    "print('testset 정확도: ',random.score(X_test,y_test)) #testset 정확도\n",
    "print('accuracy= ',accuracy_score(y_true=y_test,y_pred=preds))\n",
    "print('precision= ',precision_score(y_true=y_test,y_pred=preds))\n",
    "print('recall= ',recall_score(y_true=y_test,y_pred=preds))\n",
    "print('f1 score= ',f1_score(y_true=y_test,y_pred=preds))\n",
    "print('교차 검증= ',cross_val_score(random,X_test,y_test).mean())\n",
    "print(classification_report(y_test,preds))\n",
    "heat=pd.DataFrame(confusion_matrix(y_test,preds))\n",
    "sns.heatmap(heat,annot=True)"
   ]
  },
  {
   "cell_type": "code",
   "execution_count": 35,
   "metadata": {},
   "outputs": [
    {
     "data": {
      "image/png": "[encoded data removed]",
      "text/plain": [
       "<Figure size 432x288 with 1 Axes>"
      ]
     },
     "metadata": {
      "needs_background": "light"
     },
     "output_type": "display_data"
    }
   ],
   "source": [
    "from sklearn import metrics\n",
    "from sklearn.metrics import roc_curve, auc\n",
    "#false_positive_rate, true_positive_rate, thresholds = roc_curve(y1_test, pred_c)\n",
    "false_positive_rate, true_positive_rate, thresholds = roc_curve(y_test, y_pred)\n",
    "\n",
    "#roc_auc = metrics.auc(false_positive_rate, true_positive_rate)\n",
    "#roc_auc = metrics.roc_auc_score(y1_test,pred_c)\n",
    "roc_auc = metrics.roc_auc_score(y_test,y_pred)\n",
    "\n",
    "plt.title('Receiver Operating Characteristic')\n",
    "plt.xlabel('False Positive Rate(1 - Specificity)')\n",
    "plt.ylabel('True Positive Rate(Sensitivity)')\n",
    "\n",
    "plt.plot(false_positive_rate, true_positive_rate, 'b', label='Model (AUC = %0.2f)'% roc_auc)\n",
    "plt.plot([0,1],[1,1],'y--')\n",
    "plt.plot([0,1],[0,1],'r--')\n",
    "\n",
    "plt.legend(loc='lower right')\n",
    "plt.show()"
   ]
  },
  {
   "cell_type": "code",
   "execution_count": 447,
   "metadata": {
    "colab": {
     "base_uri": "https://localhost:8080/"
    },
    "id": "9lZBeejsUFP9",
    "outputId": "c47643f6-4bf5-4710-cc30-1c077d53f333"
   },
   "outputs": [
    {
     "name": "stdout",
     "output_type": "stream",
     "text": [
      "test accuracy :  0.7813163481953291\n",
      "parameters :  {'max_depth': 4, 'max_features': 3, 'n_estimators': 5}\n"
     ]
    }
   ],
   "source": [
    "print('test accuracy : ', grid_search.score(X_test, y_test))\n",
    "print('parameters : ', grid_search.best_params_)"
   ]
  },
  {
   "cell_type": "code",
   "execution_count": 448,
   "metadata": {
    "colab": {
     "base_uri": "https://localhost:8080/"
    },
    "id": "dqMjvH8TUIfN",
    "outputId": "604960b8-8223-4e1c-8618-71dc6c7fc682"
   },
   "outputs": [
    {
     "name": "stdout",
     "output_type": "stream",
     "text": [
      "학습용 데이터셋 정확도 : 0.87\n",
      "검증용 데이터셋 정확도 : 0.83\n"
     ]
    }
   ],
   "source": [
    "print('학습용 데이터셋 정확도 : %.2f' % grid_search.score(X_res, y_res))\n",
    "print('검증용 데이터셋 정확도 : %.2f' % grid_search.score(X_train, y_train))"
   ]
  },
  {
   "cell_type": "code",
   "execution_count": 449,
   "metadata": {
    "colab": {
     "base_uri": "https://localhost:8080/"
    },
    "id": "CflR_hkvE_LM",
    "outputId": "1a914d5f-e6cc-4f90-ef1e-473362afa0ce"
   },
   "outputs": [
    {
     "name": "stdout",
     "output_type": "stream",
     "text": [
      "              precision    recall  f1-score   support\n",
      "\n",
      "           0       0.95      0.81      0.87       440\n",
      "           1       0.12      0.35      0.18        31\n",
      "\n",
      "    accuracy                           0.78       471\n",
      "   macro avg       0.53      0.58      0.52       471\n",
      "weighted avg       0.89      0.78      0.83       471\n",
      "\n"
     ]
    }
   ],
   "source": [
    "from sklearn.metrics import classification_report\n",
    "y_pred=grid_search.predict(X_test)\n",
    "print(classification_report(y_test, y_pred))"
   ]
  },
  {
   "cell_type": "code",
   "execution_count": 450,
   "metadata": {
    "colab": {
     "base_uri": "https://localhost:8080/",
     "height": 295
    },
    "id": "dqGt474WDCK7",
    "outputId": "0742c570-ae9d-4222-ffd4-ea5b84f6d7e0"
   },
   "outputs": [
    {
     "data": {
      "image/png": "[encoded data removed]",
      "text/plain": [
       "<Figure size 432x288 with 1 Axes>"
      ]
     },
     "metadata": {
      "needs_background": "light"
     },
     "output_type": "display_data"
    }
   ],
   "source": [
    "def roc_curve_plot(y_test , pred_proba_c1):\n",
    "\n",
    "    fprs , tprs , thresholds = roc_curve(y_test ,pred_proba_c1)\n",
    "\n",
    "  \n",
    "    plt.plot(fprs , tprs, label='ROC')\n",
    "   \n",
    "    plt.plot([0, 1], [0, 1], 'k--', label='Random')\n",
    "  \n",
    "\n",
    "    plt.title('ADAYSN')\n",
    "    start, end = plt.xlim()\n",
    "    plt.xticks(np.round(np.arange(start, end, 0.1),2))\n",
    "    plt.xlim(0,1)\n",
    "    plt.ylim(0,1)\n",
    "    plt.xlabel('FPR( 1 - Sensitivity )')\n",
    "    plt.ylabel('TPR( Recall )')\n",
    "    plt.legend()\n",
    "    plt.show()\n",
    "    \n",
    "  \n",
    "roc_curve_plot(y_test, grid_search.predict_proba(X_test)[:, 1] )"
   ]
  },
  {
   "cell_type": "code",
   "execution_count": 451,
   "metadata": {
    "colab": {
     "base_uri": "https://localhost:8080/",
     "height": 541
    },
    "id": "PouiafNuWQsQ",
    "outputId": "8b0348e8-ce1f-43f0-fdc4-48cdbf8d402e"
   },
   "outputs": [
    {
     "data": {
      "image/png": "[encoded data removed]",
      "text/plain": [
       "<Figure size 432x288 with 2 Axes>"
      ]
     },
     "metadata": {
      "needs_background": "light"
     },
     "output_type": "display_data"
    },
    {
     "data": {
      "image/png": "[encoded data removed]",
      "text/plain": [
       "<Figure size 432x288 with 2 Axes>"
      ]
     },
     "metadata": {
      "needs_background": "light"
     },
     "output_type": "display_data"
    }
   ],
   "source": [
    "from sklearn.metrics import confusion_matrix, ConfusionMatrixDisplay\n",
    "cm = confusion_matrix(y_test,y_pred, labels=grid_search.classes_)\n",
    "disp = ConfusionMatrixDisplay(confusion_matrix=cm,\n",
    "                              display_labels=grid_search.classes_)\n",
    "disp = disp.plot(cmap=plt.cm.Blues,values_format='g')\n",
    "disp.plot()\n",
    "plt.show()"
   ]
  }
 ],
 "metadata": {
  "colab": {
   "name": "RandomForest_FINAL.ipynb",
   "provenance": []
  },
  "kernelspec": {
   "display_name": "Python 3",
   "language": "python",
   "name": "python3"
  },
  "language_info": {
   "codemirror_mode": {
    "name": "ipython",
    "version": 3
   },
   "file_extension": ".py",
   "mimetype": "text/x-python",
   "name": "python",
   "nbconvert_exporter": "python",
   "pygments_lexer": "ipython3",
   "version": "3.7.6"
  }
 },
 "nbformat": 4,
 "nbformat_minor": 1
}
