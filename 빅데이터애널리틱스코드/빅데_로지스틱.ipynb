{
 "cells": [
  {
   "cell_type": "code",
   "execution_count": 36,
   "metadata": {
    "id": "7aUrSx06IFWO"
   },
   "outputs": [],
   "source": [
    "import pandas as pd\n",
    "import numpy as np\n",
    "import seaborn as sns\n",
    "import matplotlib.pyplot as plt\n",
    "\n",
    "from sklearn.model_selection import train_test_split\n",
    "from sklearn.model_selection import GridSearchCV\n",
    "from sklearn.linear_model import LogisticRegression\n",
    "from sklearn.metrics import accuracy_score, precision_score, recall_score, roc_auc_score\n",
    "from sklearn.metrics import confusion_matrix\n",
    "from sklearn.preprocessing import MinMaxScaler, StandardScaler\n",
    "from sklearn.tree import DecisionTreeClassifier\n",
    "from sklearn.tree import export_graphviz\n",
    "from graphviz import Source\n",
    "from sklearn.metrics import f1_score, precision_recall_curve, roc_curve, make_scorer\n",
    "from sklearn.metrics import roc_curve\n",
    "from sklearn.model_selection import GridSearchCV\n",
    "\n",
    "import warnings\n",
    "warnings.filterwarnings('ignore')\n",
    "warnings.warn(\"this will not show\")"
   ]
  },
  {
   "cell_type": "code",
   "execution_count": 37,
   "metadata": {
    "id": "SjmLDRinIFWb"
   },
   "outputs": [],
   "source": [
    "df=pd.read_csv(\"secom_lr.csv\")\n",
    "df.drop(\"Unnamed: 0\",axis=1,inplace=True)"
   ]
  },
  {
   "cell_type": "code",
   "execution_count": 38,
   "metadata": {
    "colab": {
     "base_uri": "https://localhost:8080/",
     "height": 488
    },
    "id": "VTqklOWmIFWd",
    "outputId": "1a26a049-0fc6-4eb9-9de4-3ad271c7087a"
   },
   "outputs": [
    {
     "data": {
      "text/html": [
       "<div>\n",
       "<style scoped>\n",
       "    .dataframe tbody tr th:only-of-type {\n",
       "        vertical-align: middle;\n",
       "    }\n",
       "\n",
       "    .dataframe tbody tr th {\n",
       "        vertical-align: top;\n",
       "    }\n",
       "\n",
       "    .dataframe thead th {\n",
       "        text-align: right;\n",
       "    }\n",
       "</style>\n",
       "<table border=\"1\" class=\"dataframe\">\n",
       "  <thead>\n",
       "    <tr style=\"text-align: right;\">\n",
       "      <th></th>\n",
       "      <th>Pass/Fail</th>\n",
       "      <th>v0</th>\n",
       "      <th>v10</th>\n",
       "      <th>v100</th>\n",
       "      <th>v101</th>\n",
       "      <th>v102</th>\n",
       "      <th>v107</th>\n",
       "      <th>v108</th>\n",
       "      <th>v112</th>\n",
       "      <th>v113</th>\n",
       "      <th>...</th>\n",
       "      <th>v86</th>\n",
       "      <th>v87</th>\n",
       "      <th>v89</th>\n",
       "      <th>v9</th>\n",
       "      <th>v90</th>\n",
       "      <th>v91</th>\n",
       "      <th>v93</th>\n",
       "      <th>v94</th>\n",
       "      <th>v98</th>\n",
       "      <th>v99</th>\n",
       "    </tr>\n",
       "  </thead>\n",
       "  <tbody>\n",
       "    <tr>\n",
       "      <th>0</th>\n",
       "      <td>0</td>\n",
       "      <td>0.212406</td>\n",
       "      <td>-0.330435</td>\n",
       "      <td>0.50</td>\n",
       "      <td>1.0</td>\n",
       "      <td>1.962264</td>\n",
       "      <td>-2.545642</td>\n",
       "      <td>3.241076</td>\n",
       "      <td>0.096448</td>\n",
       "      <td>-0.029197</td>\n",
       "      <td>...</td>\n",
       "      <td>-0.278261</td>\n",
       "      <td>-1.666667</td>\n",
       "      <td>-0.171053</td>\n",
       "      <td>0.911458</td>\n",
       "      <td>-0.304514</td>\n",
       "      <td>-3.521505</td>\n",
       "      <td>0.038462</td>\n",
       "      <td>0.5</td>\n",
       "      <td>0.978938</td>\n",
       "      <td>-0.421141</td>\n",
       "    </tr>\n",
       "    <tr>\n",
       "      <th>1</th>\n",
       "      <td>0</td>\n",
       "      <td>0.933964</td>\n",
       "      <td>-1.321739</td>\n",
       "      <td>-1.00</td>\n",
       "      <td>-2.0</td>\n",
       "      <td>-1.088534</td>\n",
       "      <td>0.796287</td>\n",
       "      <td>-0.767726</td>\n",
       "      <td>0.486926</td>\n",
       "      <td>-0.284672</td>\n",
       "      <td>...</td>\n",
       "      <td>-0.550725</td>\n",
       "      <td>0.171171</td>\n",
       "      <td>-0.062500</td>\n",
       "      <td>0.041667</td>\n",
       "      <td>-0.860221</td>\n",
       "      <td>1.563441</td>\n",
       "      <td>0.076923</td>\n",
       "      <td>-2.5</td>\n",
       "      <td>-2.303978</td>\n",
       "      <td>-0.265101</td>\n",
       "    </tr>\n",
       "    <tr>\n",
       "      <th>2</th>\n",
       "      <td>0</td>\n",
       "      <td>-0.257246</td>\n",
       "      <td>-0.321739</td>\n",
       "      <td>-0.50</td>\n",
       "      <td>0.0</td>\n",
       "      <td>-1.011611</td>\n",
       "      <td>-0.498195</td>\n",
       "      <td>-1.038631</td>\n",
       "      <td>0.100148</td>\n",
       "      <td>0.729927</td>\n",
       "      <td>...</td>\n",
       "      <td>-0.067633</td>\n",
       "      <td>0.261261</td>\n",
       "      <td>0.213816</td>\n",
       "      <td>-0.578125</td>\n",
       "      <td>-1.282571</td>\n",
       "      <td>0.748387</td>\n",
       "      <td>-0.730769</td>\n",
       "      <td>-0.5</td>\n",
       "      <td>0.043601</td>\n",
       "      <td>-0.327181</td>\n",
       "    </tr>\n",
       "    <tr>\n",
       "      <th>3</th>\n",
       "      <td>0</td>\n",
       "      <td>0.226982</td>\n",
       "      <td>-0.660870</td>\n",
       "      <td>1.00</td>\n",
       "      <td>-1.5</td>\n",
       "      <td>1.013062</td>\n",
       "      <td>-0.824136</td>\n",
       "      <td>-1.877751</td>\n",
       "      <td>-0.412926</td>\n",
       "      <td>-0.291971</td>\n",
       "      <td>...</td>\n",
       "      <td>0.948792</td>\n",
       "      <td>0.243243</td>\n",
       "      <td>-0.210526</td>\n",
       "      <td>-0.093750</td>\n",
       "      <td>0.414045</td>\n",
       "      <td>0.480645</td>\n",
       "      <td>0.038462</td>\n",
       "      <td>-0.5</td>\n",
       "      <td>-1.651435</td>\n",
       "      <td>-0.280201</td>\n",
       "    </tr>\n",
       "    <tr>\n",
       "      <th>4</th>\n",
       "      <td>0</td>\n",
       "      <td>-0.729791</td>\n",
       "      <td>0.443478</td>\n",
       "      <td>-0.50</td>\n",
       "      <td>-0.5</td>\n",
       "      <td>0.387518</td>\n",
       "      <td>-2.682826</td>\n",
       "      <td>1.410269</td>\n",
       "      <td>0.198816</td>\n",
       "      <td>-0.270073</td>\n",
       "      <td>...</td>\n",
       "      <td>-0.568116</td>\n",
       "      <td>0.117117</td>\n",
       "      <td>0.677632</td>\n",
       "      <td>0.937500</td>\n",
       "      <td>-1.987431</td>\n",
       "      <td>-1.216129</td>\n",
       "      <td>-0.076923</td>\n",
       "      <td>-1.0</td>\n",
       "      <td>-0.551792</td>\n",
       "      <td>-0.703020</td>\n",
       "    </tr>\n",
       "    <tr>\n",
       "      <th>...</th>\n",
       "      <td>...</td>\n",
       "      <td>...</td>\n",
       "      <td>...</td>\n",
       "      <td>...</td>\n",
       "      <td>...</td>\n",
       "      <td>...</td>\n",
       "      <td>...</td>\n",
       "      <td>...</td>\n",
       "      <td>...</td>\n",
       "      <td>...</td>\n",
       "      <td>...</td>\n",
       "      <td>...</td>\n",
       "      <td>...</td>\n",
       "      <td>...</td>\n",
       "      <td>...</td>\n",
       "      <td>...</td>\n",
       "      <td>...</td>\n",
       "      <td>...</td>\n",
       "      <td>...</td>\n",
       "      <td>...</td>\n",
       "      <td>...</td>\n",
       "    </tr>\n",
       "    <tr>\n",
       "      <th>1562</th>\n",
       "      <td>1</td>\n",
       "      <td>-0.260918</td>\n",
       "      <td>-0.026087</td>\n",
       "      <td>0.50</td>\n",
       "      <td>-1.0</td>\n",
       "      <td>0.767779</td>\n",
       "      <td>-1.112945</td>\n",
       "      <td>0.109535</td>\n",
       "      <td>0.054267</td>\n",
       "      <td>-0.956204</td>\n",
       "      <td>...</td>\n",
       "      <td>-0.786473</td>\n",
       "      <td>0.072072</td>\n",
       "      <td>-0.226974</td>\n",
       "      <td>-0.421875</td>\n",
       "      <td>0.733834</td>\n",
       "      <td>-2.010753</td>\n",
       "      <td>0.423077</td>\n",
       "      <td>-1.0</td>\n",
       "      <td>-1.138071</td>\n",
       "      <td>-0.577181</td>\n",
       "    </tr>\n",
       "    <tr>\n",
       "      <th>1563</th>\n",
       "      <td>1</td>\n",
       "      <td>0.457747</td>\n",
       "      <td>-0.539130</td>\n",
       "      <td>2.50</td>\n",
       "      <td>-1.0</td>\n",
       "      <td>-0.635704</td>\n",
       "      <td>-0.846828</td>\n",
       "      <td>-0.307090</td>\n",
       "      <td>0.537987</td>\n",
       "      <td>0.583942</td>\n",
       "      <td>...</td>\n",
       "      <td>0.879227</td>\n",
       "      <td>-0.090090</td>\n",
       "      <td>0.763158</td>\n",
       "      <td>-0.125000</td>\n",
       "      <td>-0.423207</td>\n",
       "      <td>0.123656</td>\n",
       "      <td>0.461538</td>\n",
       "      <td>0.5</td>\n",
       "      <td>-0.863407</td>\n",
       "      <td>-0.671141</td>\n",
       "    </tr>\n",
       "    <tr>\n",
       "      <th>1564</th>\n",
       "      <td>1</td>\n",
       "      <td>-0.667594</td>\n",
       "      <td>-0.373913</td>\n",
       "      <td>0.00</td>\n",
       "      <td>-0.5</td>\n",
       "      <td>-0.341074</td>\n",
       "      <td>-0.157813</td>\n",
       "      <td>0.114425</td>\n",
       "      <td>-0.420079</td>\n",
       "      <td>0.153285</td>\n",
       "      <td>...</td>\n",
       "      <td>0.206763</td>\n",
       "      <td>0.180180</td>\n",
       "      <td>-0.575658</td>\n",
       "      <td>-0.072917</td>\n",
       "      <td>0.094760</td>\n",
       "      <td>1.626882</td>\n",
       "      <td>-0.423077</td>\n",
       "      <td>-0.5</td>\n",
       "      <td>-0.799852</td>\n",
       "      <td>0.500000</td>\n",
       "    </tr>\n",
       "    <tr>\n",
       "      <th>1565</th>\n",
       "      <td>1</td>\n",
       "      <td>1.795160</td>\n",
       "      <td>-0.530435</td>\n",
       "      <td>0.75</td>\n",
       "      <td>0.0</td>\n",
       "      <td>0.557329</td>\n",
       "      <td>-1.129448</td>\n",
       "      <td>1.013203</td>\n",
       "      <td>0.979033</td>\n",
       "      <td>-0.532847</td>\n",
       "      <td>...</td>\n",
       "      <td>0.805797</td>\n",
       "      <td>0.153153</td>\n",
       "      <td>-0.082303</td>\n",
       "      <td>-1.380208</td>\n",
       "      <td>0.000000</td>\n",
       "      <td>-1.689247</td>\n",
       "      <td>-0.653846</td>\n",
       "      <td>0.0</td>\n",
       "      <td>-0.178347</td>\n",
       "      <td>0.686242</td>\n",
       "    </tr>\n",
       "    <tr>\n",
       "      <th>1566</th>\n",
       "      <td>1</td>\n",
       "      <td>-1.207232</td>\n",
       "      <td>-0.513043</td>\n",
       "      <td>3.75</td>\n",
       "      <td>0.5</td>\n",
       "      <td>4.326560</td>\n",
       "      <td>0.287777</td>\n",
       "      <td>-0.748166</td>\n",
       "      <td>0.174396</td>\n",
       "      <td>-0.138686</td>\n",
       "      <td>...</td>\n",
       "      <td>0.154589</td>\n",
       "      <td>-2.135135</td>\n",
       "      <td>0.042763</td>\n",
       "      <td>0.255208</td>\n",
       "      <td>-0.980886</td>\n",
       "      <td>-0.951613</td>\n",
       "      <td>-3.884615</td>\n",
       "      <td>2.0</td>\n",
       "      <td>0.626185</td>\n",
       "      <td>14.855705</td>\n",
       "    </tr>\n",
       "  </tbody>\n",
       "</table>\n",
       "<p>1567 rows × 227 columns</p>\n",
       "</div>"
      ],
      "text/plain": [
       "      Pass/Fail        v0       v10  v100  v101      v102      v107      v108  \\\n",
       "0             0  0.212406 -0.330435  0.50   1.0  1.962264 -2.545642  3.241076   \n",
       "1             0  0.933964 -1.321739 -1.00  -2.0 -1.088534  0.796287 -0.767726   \n",
       "2             0 -0.257246 -0.321739 -0.50   0.0 -1.011611 -0.498195 -1.038631   \n",
       "3             0  0.226982 -0.660870  1.00  -1.5  1.013062 -0.824136 -1.877751   \n",
       "4             0 -0.729791  0.443478 -0.50  -0.5  0.387518 -2.682826  1.410269   \n",
       "...         ...       ...       ...   ...   ...       ...       ...       ...   \n",
       "1562          1 -0.260918 -0.026087  0.50  -1.0  0.767779 -1.112945  0.109535   \n",
       "1563          1  0.457747 -0.539130  2.50  -1.0 -0.635704 -0.846828 -0.307090   \n",
       "1564          1 -0.667594 -0.373913  0.00  -0.5 -0.341074 -0.157813  0.114425   \n",
       "1565          1  1.795160 -0.530435  0.75   0.0  0.557329 -1.129448  1.013203   \n",
       "1566          1 -1.207232 -0.513043  3.75   0.5  4.326560  0.287777 -0.748166   \n",
       "\n",
       "          v112      v113  ...       v86       v87       v89        v9  \\\n",
       "0     0.096448 -0.029197  ... -0.278261 -1.666667 -0.171053  0.911458   \n",
       "1     0.486926 -0.284672  ... -0.550725  0.171171 -0.062500  0.041667   \n",
       "2     0.100148  0.729927  ... -0.067633  0.261261  0.213816 -0.578125   \n",
       "3    -0.412926 -0.291971  ...  0.948792  0.243243 -0.210526 -0.093750   \n",
       "4     0.198816 -0.270073  ... -0.568116  0.117117  0.677632  0.937500   \n",
       "...        ...       ...  ...       ...       ...       ...       ...   \n",
       "1562  0.054267 -0.956204  ... -0.786473  0.072072 -0.226974 -0.421875   \n",
       "1563  0.537987  0.583942  ...  0.879227 -0.090090  0.763158 -0.125000   \n",
       "1564 -0.420079  0.153285  ...  0.206763  0.180180 -0.575658 -0.072917   \n",
       "1565  0.979033 -0.532847  ...  0.805797  0.153153 -0.082303 -1.380208   \n",
       "1566  0.174396 -0.138686  ...  0.154589 -2.135135  0.042763  0.255208   \n",
       "\n",
       "           v90       v91       v93  v94       v98        v99  \n",
       "0    -0.304514 -3.521505  0.038462  0.5  0.978938  -0.421141  \n",
       "1    -0.860221  1.563441  0.076923 -2.5 -2.303978  -0.265101  \n",
       "2    -1.282571  0.748387 -0.730769 -0.5  0.043601  -0.327181  \n",
       "3     0.414045  0.480645  0.038462 -0.5 -1.651435  -0.280201  \n",
       "4    -1.987431 -1.216129 -0.076923 -1.0 -0.551792  -0.703020  \n",
       "...        ...       ...       ...  ...       ...        ...  \n",
       "1562  0.733834 -2.010753  0.423077 -1.0 -1.138071  -0.577181  \n",
       "1563 -0.423207  0.123656  0.461538  0.5 -0.863407  -0.671141  \n",
       "1564  0.094760  1.626882 -0.423077 -0.5 -0.799852   0.500000  \n",
       "1565  0.000000 -1.689247 -0.653846  0.0 -0.178347   0.686242  \n",
       "1566 -0.980886 -0.951613 -3.884615  2.0  0.626185  14.855705  \n",
       "\n",
       "[1567 rows x 227 columns]"
      ]
     },
     "execution_count": 38,
     "metadata": {},
     "output_type": "execute_result"
    }
   ],
   "source": [
    "df"
   ]
  },
  {
   "cell_type": "code",
   "execution_count": 39,
   "metadata": {
    "id": "sMmKiOtkIFWh"
   },
   "outputs": [],
   "source": [
    "X = df.drop(\"Pass/Fail\", axis=1)\n",
    "y = df[\"Pass/Fail\"].values"
   ]
  },
  {
   "cell_type": "code",
   "execution_count": 40,
   "metadata": {
    "id": "wJhVVYI8IFWj"
   },
   "outputs": [],
   "source": [
    "X_train, X_test, y_train, y_test = train_test_split(X,y,test_size = 0.3, random_state = 42, stratify = y)"
   ]
  },
  {
   "cell_type": "code",
   "execution_count": 41,
   "metadata": {
    "id": "Sl0-zGvFIFWk"
   },
   "outputs": [],
   "source": [
    "from sklearn.model_selection import train_test_split"
   ]
  },
  {
   "cell_type": "markdown",
   "metadata": {
    "id": "QijwRaxuIFWm"
   },
   "source": [
    "## SMOTE"
   ]
  },
  {
   "cell_type": "code",
   "execution_count": 42,
   "metadata": {
    "colab": {
     "base_uri": "https://localhost:8080/"
    },
    "id": "oh6v20Q9IFWs",
    "outputId": "568bb77f-8789-47a7-b02b-911b94c15775"
   },
   "outputs": [
    {
     "name": "stdout",
     "output_type": "stream",
     "text": [
      "오버샘플링 전 : (1096, 226) (1096,)\n",
      "\n",
      "오버샘플링 후 : (2046, 226) (2046,)\n",
      "\n",
      "오버샘플링 전 레이블 분포 :\n",
      " 0    1023\n",
      "1      73\n",
      "dtype: int64\n",
      "\n",
      "오버샘플링 후 레이블 분포 :\n",
      " 1    1023\n",
      "0    1023\n",
      "dtype: int64\n"
     ]
    }
   ],
   "source": [
    "from imblearn.over_sampling import SMOTE\n",
    "\n",
    "smote = SMOTE(random_state=12)\n",
    "# train 데이터에서 오버샘플링 시키기\n",
    "x_train_over, y_train_over = smote.fit_resample(X_train, y_train)\n",
    "\n",
    "# 오버샘플링 적용 후 데이터 레이블 개수 살펴보기\n",
    "print('오버샘플링 전 :', X_train.shape, y_train.shape)\n",
    "print()\n",
    "print('오버샘플링 후 :', x_train_over.shape, y_train_over.shape)\n",
    "print()\n",
    "print('오버샘플링 전 레이블 분포 :\\n', pd.Series(y_train).value_counts())\n",
    "print()\n",
    "print('오버샘플링 후 레이블 분포 :\\n', pd.Series(y_train_over).value_counts())"
   ]
  },
  {
   "cell_type": "code",
   "execution_count": 43,
   "metadata": {
    "colab": {
     "base_uri": "https://localhost:8080/",
     "height": 301
    },
    "id": "1_2bhWQlIFWw",
    "outputId": "27965cee-99bb-42d7-f79c-050def514213"
   },
   "outputs": [
    {
     "name": "stdout",
     "output_type": "stream",
     "text": [
      "Class=0, n=1023 (65.284%)\n",
      "Class=1, n=73 (4.659%)\n"
     ]
    },
    {
     "data": {
      "image/png": "[encoded data removed]",
      "text/plain": [
       "<Figure size 432x288 with 1 Axes>"
      ]
     },
     "metadata": {
      "needs_background": "light"
     },
     "output_type": "display_data"
    }
   ],
   "source": [
    "from collections import Counter\n",
    "from matplotlib import pyplot\n",
    "\n",
    "counter = Counter(y_train)\n",
    "for k,v in counter.items():\n",
    "    per = v / len(y) * 100\n",
    "    print('Class=%d, n=%d (%.3f%%)' % (k, v, per))\n",
    " \n",
    "#plot the distribution\n",
    "pyplot.bar(counter.keys(), counter.values())\n",
    "pyplot.show()"
   ]
  },
  {
   "cell_type": "code",
   "execution_count": 44,
   "metadata": {
    "colab": {
     "base_uri": "https://localhost:8080/",
     "height": 301
    },
    "id": "SHWQVOUvIFWz",
    "outputId": "f7b09226-a756-40b1-810f-da85d18324b1"
   },
   "outputs": [
    {
     "name": "stdout",
     "output_type": "stream",
     "text": [
      "Class=0, n=1023 (65.284%)\n",
      "Class=1, n=1023 (65.284%)\n"
     ]
    },
    {
     "data": {
      "image/png": "[encoded data removed]",
      "text/plain": [
       "<Figure size 432x288 with 1 Axes>"
      ]
     },
     "metadata": {
      "needs_background": "light"
     },
     "output_type": "display_data"
    }
   ],
   "source": [
    "from collections import Counter\n",
    "from matplotlib import pyplot\n",
    "\n",
    "counter = Counter(y_train_over)\n",
    "for k,v in counter.items():\n",
    "    per = v / len(y) * 100\n",
    "    print('Class=%d, n=%d (%.3f%%)' % (k, v, per))\n",
    " \n",
    "# plot the distribution\n",
    "pyplot.bar(counter.keys(), counter.values())\n",
    "pyplot.show()"
   ]
  },
  {
   "cell_type": "code",
   "execution_count": 45,
   "metadata": {
    "id": "xAJETFzx_pyf"
   },
   "outputs": [],
   "source": [
    "x_train_over = pd.DataFrame(x_train_over)\n",
    "y_train_over=pd.DataFrame(y_train_over)"
   ]
  },
  {
   "cell_type": "code",
   "execution_count": 46,
   "metadata": {
    "colab": {
     "base_uri": "https://localhost:8080/"
    },
    "id": "cFv8HOzLXrGr",
    "outputId": "a4dd664d-b01a-4a83-e2d6-995deb03ca1e"
   },
   "outputs": [
    {
     "name": "stdout",
     "output_type": "stream",
     "text": [
      "최적 하이퍼 파라미터:  {'C': 0.1, 'penalty': 'l2'}\n",
      "최고 예측 정확도: 0.7640\n"
     ]
    }
   ],
   "source": [
    "from sklearn.linear_model import LogisticRegression\n",
    "\n",
    "log = LogisticRegression() #로지스틱 회귀분석 시행\n",
    "param_grid = {\n",
    "    'C' : [0.001, 0.01, 0.1, 1, 10, 100],\n",
    "    \"penalty\" : [\"l2\", \"l1\"],\n",
    "}\n",
    "\n",
    "grid_search = GridSearchCV(log, param_grid, cv=5)\n",
    "\n",
    "grid_search.fit(x_train_over, y_train_over.values.ravel())\n",
    "print('최적 하이퍼 파라미터: ', grid_search.best_params_)\n",
    "print('최고 예측 정확도: {:.4f}'.format(grid_search.best_score_))"
   ]
  },
  {
   "cell_type": "code",
   "execution_count": 47,
   "metadata": {},
   "outputs": [],
   "source": [
    "evals = [(X_test, y_test)]\n",
    "logistic = LogisticRegression(**grid_search.best_params_)\n",
    "logistic.fit(x_train_over, y_train_over)\n",
    "\n",
    "preds = logistic.predict(X_test) "
   ]
  },
  {
   "cell_type": "code",
   "execution_count": 48,
   "metadata": {},
   "outputs": [
    {
     "data": {
      "text/html": [
       "<div>\n",
       "<style scoped>\n",
       "    .dataframe tbody tr th:only-of-type {\n",
       "        vertical-align: middle;\n",
       "    }\n",
       "\n",
       "    .dataframe tbody tr th {\n",
       "        vertical-align: top;\n",
       "    }\n",
       "\n",
       "    .dataframe thead th {\n",
       "        text-align: right;\n",
       "    }\n",
       "</style>\n",
       "<table border=\"1\" class=\"dataframe\">\n",
       "  <thead>\n",
       "    <tr style=\"text-align: right;\">\n",
       "      <th></th>\n",
       "      <th>v0</th>\n",
       "      <th>v10</th>\n",
       "      <th>v100</th>\n",
       "      <th>v101</th>\n",
       "      <th>v102</th>\n",
       "      <th>v107</th>\n",
       "      <th>v108</th>\n",
       "      <th>v112</th>\n",
       "      <th>v113</th>\n",
       "      <th>v115</th>\n",
       "      <th>...</th>\n",
       "      <th>v86</th>\n",
       "      <th>v87</th>\n",
       "      <th>v89</th>\n",
       "      <th>v9</th>\n",
       "      <th>v90</th>\n",
       "      <th>v91</th>\n",
       "      <th>v93</th>\n",
       "      <th>v94</th>\n",
       "      <th>v98</th>\n",
       "      <th>v99</th>\n",
       "    </tr>\n",
       "  </thead>\n",
       "  <tbody>\n",
       "    <tr>\n",
       "      <th>955</th>\n",
       "      <td>-0.677274</td>\n",
       "      <td>0.095652</td>\n",
       "      <td>0.00</td>\n",
       "      <td>-0.5</td>\n",
       "      <td>-0.371553</td>\n",
       "      <td>0.267148</td>\n",
       "      <td>-0.295355</td>\n",
       "      <td>-0.615195</td>\n",
       "      <td>1.291971</td>\n",
       "      <td>0.124013</td>\n",
       "      <td>...</td>\n",
       "      <td>0.264734</td>\n",
       "      <td>0.387387</td>\n",
       "      <td>-0.634868</td>\n",
       "      <td>-0.515625</td>\n",
       "      <td>-0.022590</td>\n",
       "      <td>0.211828</td>\n",
       "      <td>0.769231</td>\n",
       "      <td>-0.5</td>\n",
       "      <td>-0.399310</td>\n",
       "      <td>-0.265101</td>\n",
       "    </tr>\n",
       "    <tr>\n",
       "      <th>1174</th>\n",
       "      <td>-0.324562</td>\n",
       "      <td>-0.939130</td>\n",
       "      <td>0.25</td>\n",
       "      <td>0.0</td>\n",
       "      <td>-0.124819</td>\n",
       "      <td>-0.958226</td>\n",
       "      <td>0.066504</td>\n",
       "      <td>-0.510607</td>\n",
       "      <td>1.153285</td>\n",
       "      <td>-0.675701</td>\n",
       "      <td>...</td>\n",
       "      <td>0.655072</td>\n",
       "      <td>-1.693694</td>\n",
       "      <td>-0.493421</td>\n",
       "      <td>-1.005208</td>\n",
       "      <td>-0.429228</td>\n",
       "      <td>-0.759140</td>\n",
       "      <td>-0.153846</td>\n",
       "      <td>0.0</td>\n",
       "      <td>0.056657</td>\n",
       "      <td>-1.233221</td>\n",
       "    </tr>\n",
       "    <tr>\n",
       "      <th>821</th>\n",
       "      <td>2.064979</td>\n",
       "      <td>1.269565</td>\n",
       "      <td>0.25</td>\n",
       "      <td>0.5</td>\n",
       "      <td>-0.786647</td>\n",
       "      <td>-0.386797</td>\n",
       "      <td>-0.238631</td>\n",
       "      <td>-0.467193</td>\n",
       "      <td>-0.167883</td>\n",
       "      <td>0.524428</td>\n",
       "      <td>...</td>\n",
       "      <td>-0.558454</td>\n",
       "      <td>-0.036036</td>\n",
       "      <td>0.641447</td>\n",
       "      <td>-0.062500</td>\n",
       "      <td>0.585373</td>\n",
       "      <td>0.123656</td>\n",
       "      <td>0.615385</td>\n",
       "      <td>0.5</td>\n",
       "      <td>0.303239</td>\n",
       "      <td>0.171141</td>\n",
       "    </tr>\n",
       "    <tr>\n",
       "      <th>1095</th>\n",
       "      <td>-0.802337</td>\n",
       "      <td>0.513043</td>\n",
       "      <td>-1.00</td>\n",
       "      <td>1.5</td>\n",
       "      <td>-0.502177</td>\n",
       "      <td>0.340382</td>\n",
       "      <td>0.792176</td>\n",
       "      <td>-114.527380</td>\n",
       "      <td>0.948905</td>\n",
       "      <td>0.471287</td>\n",
       "      <td>...</td>\n",
       "      <td>-0.183575</td>\n",
       "      <td>0.135135</td>\n",
       "      <td>-0.578947</td>\n",
       "      <td>-0.791667</td>\n",
       "      <td>0.558395</td>\n",
       "      <td>0.647312</td>\n",
       "      <td>0.538462</td>\n",
       "      <td>0.5</td>\n",
       "      <td>1.398694</td>\n",
       "      <td>-0.109060</td>\n",
       "    </tr>\n",
       "    <tr>\n",
       "      <th>35</th>\n",
       "      <td>0.104812</td>\n",
       "      <td>0.765217</td>\n",
       "      <td>-0.75</td>\n",
       "      <td>0.5</td>\n",
       "      <td>-0.590711</td>\n",
       "      <td>0.566271</td>\n",
       "      <td>0.410758</td>\n",
       "      <td>0.253823</td>\n",
       "      <td>-0.832117</td>\n",
       "      <td>-1.381983</td>\n",
       "      <td>...</td>\n",
       "      <td>-0.077295</td>\n",
       "      <td>-1.378378</td>\n",
       "      <td>0.963816</td>\n",
       "      <td>0.494792</td>\n",
       "      <td>-0.483813</td>\n",
       "      <td>0.634409</td>\n",
       "      <td>-0.538462</td>\n",
       "      <td>-0.5</td>\n",
       "      <td>0.506220</td>\n",
       "      <td>-0.374161</td>\n",
       "    </tr>\n",
       "    <tr>\n",
       "      <th>...</th>\n",
       "      <td>...</td>\n",
       "      <td>...</td>\n",
       "      <td>...</td>\n",
       "      <td>...</td>\n",
       "      <td>...</td>\n",
       "      <td>...</td>\n",
       "      <td>...</td>\n",
       "      <td>...</td>\n",
       "      <td>...</td>\n",
       "      <td>...</td>\n",
       "      <td>...</td>\n",
       "      <td>...</td>\n",
       "      <td>...</td>\n",
       "      <td>...</td>\n",
       "      <td>...</td>\n",
       "      <td>...</td>\n",
       "      <td>...</td>\n",
       "      <td>...</td>\n",
       "      <td>...</td>\n",
       "      <td>...</td>\n",
       "      <td>...</td>\n",
       "    </tr>\n",
       "    <tr>\n",
       "      <th>154</th>\n",
       "      <td>-1.844451</td>\n",
       "      <td>-1.052174</td>\n",
       "      <td>-0.50</td>\n",
       "      <td>-0.5</td>\n",
       "      <td>-0.044993</td>\n",
       "      <td>0.009283</td>\n",
       "      <td>0.299267</td>\n",
       "      <td>0.971633</td>\n",
       "      <td>1.532847</td>\n",
       "      <td>0.762098</td>\n",
       "      <td>...</td>\n",
       "      <td>0.966184</td>\n",
       "      <td>0.243243</td>\n",
       "      <td>-0.072368</td>\n",
       "      <td>0.937500</td>\n",
       "      <td>0.429170</td>\n",
       "      <td>0.202151</td>\n",
       "      <td>-0.500000</td>\n",
       "      <td>-0.5</td>\n",
       "      <td>-0.348565</td>\n",
       "      <td>-0.203020</td>\n",
       "    </tr>\n",
       "    <tr>\n",
       "      <th>641</th>\n",
       "      <td>0.378748</td>\n",
       "      <td>-0.704348</td>\n",
       "      <td>-0.25</td>\n",
       "      <td>0.5</td>\n",
       "      <td>0.081277</td>\n",
       "      <td>-0.027849</td>\n",
       "      <td>-0.346210</td>\n",
       "      <td>0.387519</td>\n",
       "      <td>-0.255474</td>\n",
       "      <td>0.059087</td>\n",
       "      <td>...</td>\n",
       "      <td>1.122705</td>\n",
       "      <td>0.270270</td>\n",
       "      <td>-1.131579</td>\n",
       "      <td>-2.390625</td>\n",
       "      <td>0.140576</td>\n",
       "      <td>0.177419</td>\n",
       "      <td>-0.153846</td>\n",
       "      <td>0.0</td>\n",
       "      <td>0.297081</td>\n",
       "      <td>0.483221</td>\n",
       "    </tr>\n",
       "    <tr>\n",
       "      <th>216</th>\n",
       "      <td>-2.120834</td>\n",
       "      <td>-0.200000</td>\n",
       "      <td>0.75</td>\n",
       "      <td>2.0</td>\n",
       "      <td>-0.802612</td>\n",
       "      <td>-0.247550</td>\n",
       "      <td>-0.152567</td>\n",
       "      <td>0.416626</td>\n",
       "      <td>-1.131387</td>\n",
       "      <td>-0.039879</td>\n",
       "      <td>...</td>\n",
       "      <td>0.512077</td>\n",
       "      <td>-0.036036</td>\n",
       "      <td>0.559211</td>\n",
       "      <td>0.302083</td>\n",
       "      <td>-0.338246</td>\n",
       "      <td>1.218280</td>\n",
       "      <td>-1.269231</td>\n",
       "      <td>2.0</td>\n",
       "      <td>2.380096</td>\n",
       "      <td>-0.436242</td>\n",
       "    </tr>\n",
       "    <tr>\n",
       "      <th>1062</th>\n",
       "      <td>-0.443282</td>\n",
       "      <td>0.295652</td>\n",
       "      <td>0.00</td>\n",
       "      <td>0.0</td>\n",
       "      <td>0.002903</td>\n",
       "      <td>0.000000</td>\n",
       "      <td>0.115403</td>\n",
       "      <td>0.331278</td>\n",
       "      <td>0.927007</td>\n",
       "      <td>0.726130</td>\n",
       "      <td>...</td>\n",
       "      <td>1.012560</td>\n",
       "      <td>0.189189</td>\n",
       "      <td>-0.848684</td>\n",
       "      <td>1.026042</td>\n",
       "      <td>0.524956</td>\n",
       "      <td>-0.001075</td>\n",
       "      <td>-0.461538</td>\n",
       "      <td>0.0</td>\n",
       "      <td>0.000000</td>\n",
       "      <td>0.000000</td>\n",
       "    </tr>\n",
       "    <tr>\n",
       "      <th>827</th>\n",
       "      <td>0.514492</td>\n",
       "      <td>0.286957</td>\n",
       "      <td>-0.50</td>\n",
       "      <td>0.0</td>\n",
       "      <td>-1.177068</td>\n",
       "      <td>0.050542</td>\n",
       "      <td>0.079218</td>\n",
       "      <td>-0.101628</td>\n",
       "      <td>0.226277</td>\n",
       "      <td>0.563157</td>\n",
       "      <td>...</td>\n",
       "      <td>-0.407729</td>\n",
       "      <td>-0.135135</td>\n",
       "      <td>0.592105</td>\n",
       "      <td>0.088542</td>\n",
       "      <td>0.536284</td>\n",
       "      <td>0.949462</td>\n",
       "      <td>0.730769</td>\n",
       "      <td>-0.5</td>\n",
       "      <td>-0.092869</td>\n",
       "      <td>0.998322</td>\n",
       "    </tr>\n",
       "  </tbody>\n",
       "</table>\n",
       "<p>471 rows × 226 columns</p>\n",
       "</div>"
      ],
      "text/plain": [
       "            v0       v10  v100  v101      v102      v107      v108  \\\n",
       "955  -0.677274  0.095652  0.00  -0.5 -0.371553  0.267148 -0.295355   \n",
       "1174 -0.324562 -0.939130  0.25   0.0 -0.124819 -0.958226  0.066504   \n",
       "821   2.064979  1.269565  0.25   0.5 -0.786647 -0.386797 -0.238631   \n",
       "1095 -0.802337  0.513043 -1.00   1.5 -0.502177  0.340382  0.792176   \n",
       "35    0.104812  0.765217 -0.75   0.5 -0.590711  0.566271  0.410758   \n",
       "...        ...       ...   ...   ...       ...       ...       ...   \n",
       "154  -1.844451 -1.052174 -0.50  -0.5 -0.044993  0.009283  0.299267   \n",
       "641   0.378748 -0.704348 -0.25   0.5  0.081277 -0.027849 -0.346210   \n",
       "216  -2.120834 -0.200000  0.75   2.0 -0.802612 -0.247550 -0.152567   \n",
       "1062 -0.443282  0.295652  0.00   0.0  0.002903  0.000000  0.115403   \n",
       "827   0.514492  0.286957 -0.50   0.0 -1.177068  0.050542  0.079218   \n",
       "\n",
       "            v112      v113      v115  ...       v86       v87       v89  \\\n",
       "955    -0.615195  1.291971  0.124013  ...  0.264734  0.387387 -0.634868   \n",
       "1174   -0.510607  1.153285 -0.675701  ...  0.655072 -1.693694 -0.493421   \n",
       "821    -0.467193 -0.167883  0.524428  ... -0.558454 -0.036036  0.641447   \n",
       "1095 -114.527380  0.948905  0.471287  ... -0.183575  0.135135 -0.578947   \n",
       "35      0.253823 -0.832117 -1.381983  ... -0.077295 -1.378378  0.963816   \n",
       "...          ...       ...       ...  ...       ...       ...       ...   \n",
       "154     0.971633  1.532847  0.762098  ...  0.966184  0.243243 -0.072368   \n",
       "641     0.387519 -0.255474  0.059087  ...  1.122705  0.270270 -1.131579   \n",
       "216     0.416626 -1.131387 -0.039879  ...  0.512077 -0.036036  0.559211   \n",
       "1062    0.331278  0.927007  0.726130  ...  1.012560  0.189189 -0.848684   \n",
       "827    -0.101628  0.226277  0.563157  ... -0.407729 -0.135135  0.592105   \n",
       "\n",
       "            v9       v90       v91       v93  v94       v98       v99  \n",
       "955  -0.515625 -0.022590  0.211828  0.769231 -0.5 -0.399310 -0.265101  \n",
       "1174 -1.005208 -0.429228 -0.759140 -0.153846  0.0  0.056657 -1.233221  \n",
       "821  -0.062500  0.585373  0.123656  0.615385  0.5  0.303239  0.171141  \n",
       "1095 -0.791667  0.558395  0.647312  0.538462  0.5  1.398694 -0.109060  \n",
       "35    0.494792 -0.483813  0.634409 -0.538462 -0.5  0.506220 -0.374161  \n",
       "...        ...       ...       ...       ...  ...       ...       ...  \n",
       "154   0.937500  0.429170  0.202151 -0.500000 -0.5 -0.348565 -0.203020  \n",
       "641  -2.390625  0.140576  0.177419 -0.153846  0.0  0.297081  0.483221  \n",
       "216   0.302083 -0.338246  1.218280 -1.269231  2.0  2.380096 -0.436242  \n",
       "1062  1.026042  0.524956 -0.001075 -0.461538  0.0  0.000000  0.000000  \n",
       "827   0.088542  0.536284  0.949462  0.730769 -0.5 -0.092869  0.998322  \n",
       "\n",
       "[471 rows x 226 columns]"
      ]
     },
     "execution_count": 48,
     "metadata": {},
     "output_type": "execute_result"
    }
   ],
   "source": [
    "X_test"
   ]
  },
  {
   "cell_type": "code",
   "execution_count": 49,
   "metadata": {
    "colab": {
     "base_uri": "https://localhost:8080/"
    },
    "id": "r0gfJjViSCWW",
    "outputId": "c95c02b8-1de7-48ae-a322-322d63f49ca7"
   },
   "outputs": [
    {
     "name": "stdout",
     "output_type": "stream",
     "text": [
      "test accuracy :  0.6518046709129511\n",
      "parameters :  {'C': 0.1, 'penalty': 'l2'}\n"
     ]
    }
   ],
   "source": [
    "print('test accuracy : ', grid_search.score(X_test, y_test))\n",
    "print('parameters : ', grid_search.best_params_)"
   ]
  },
  {
   "cell_type": "code",
   "execution_count": 50,
   "metadata": {
    "colab": {
     "base_uri": "https://localhost:8080/"
    },
    "id": "foY1pNCcNui1",
    "outputId": "d860e0ed-79ba-459d-bc52-ab092eae143d"
   },
   "outputs": [
    {
     "name": "stdout",
     "output_type": "stream",
     "text": [
      "학습용 데이터셋 정확도 : 0.74\n",
      "검증용 데이터셋 정확도 : 0.65\n"
     ]
    }
   ],
   "source": [
    "print('학습용 데이터셋 정확도 : %.2f' % grid_search.score(x_train_over, y_train_over))\n",
    "print('검증용 데이터셋 정확도 : %.2f' % grid_search.score(X_test, y_test))"
   ]
  },
  {
   "cell_type": "code",
   "execution_count": 51,
   "metadata": {
    "colab": {
     "base_uri": "https://localhost:8080/"
    },
    "id": "T5fz679NdxIp",
    "outputId": "c2ade902-44b5-4cbe-8776-2c55b1954e20"
   },
   "outputs": [
    {
     "name": "stdout",
     "output_type": "stream",
     "text": [
      "              precision    recall  f1-score   support\n",
      "\n",
      "           0       0.96      0.66      0.78       440\n",
      "           1       0.11      0.58      0.18        31\n",
      "\n",
      "    accuracy                           0.65       471\n",
      "   macro avg       0.53      0.62      0.48       471\n",
      "weighted avg       0.90      0.65      0.74       471\n",
      "\n"
     ]
    }
   ],
   "source": [
    "from sklearn.metrics import classification_report\n",
    "y_pred= grid_search.predict(X_test)\n",
    "print(classification_report(y_test, y_pred))"
   ]
  },
  {
   "cell_type": "code",
   "execution_count": 52,
   "metadata": {},
   "outputs": [
    {
     "data": {
      "image/png": "[encoded data removed]",
      "text/plain": [
       "<Figure size 432x288 with 2 Axes>"
      ]
     },
     "metadata": {
      "needs_background": "light"
     },
     "output_type": "display_data"
    },
    {
     "data": {
      "image/png": "[encoded data removed]",
      "text/plain": [
       "<Figure size 432x288 with 2 Axes>"
      ]
     },
     "metadata": {
      "needs_background": "light"
     },
     "output_type": "display_data"
    }
   ],
   "source": [
    "from sklearn.metrics import confusion_matrix, ConfusionMatrixDisplay\n",
    "cm = confusion_matrix(y_test,preds, labels=logistic.classes_)\n",
    "disp = ConfusionMatrixDisplay(confusion_matrix=cm,\n",
    "                              display_labels=logistic.classes_)\n",
    "disp = disp.plot(cmap=plt.cm.Blues,values_format='g')\n",
    "disp.plot()\n",
    "plt.show()"
   ]
  },
  {
   "cell_type": "code",
   "execution_count": 53,
   "metadata": {},
   "outputs": [
    {
     "name": "stdout",
     "output_type": "stream",
     "text": [
      "confusion matrix=\n",
      " [[289 151]\n",
      " [ 13  18]]\n",
      "trainset 정확도:  0.7360703812316716\n",
      "testset 정확도:  0.6518046709129511\n",
      "accuracy=  0.6518046709129511\n",
      "precision=  0.10650887573964497\n",
      "recall=  0.5806451612903226\n",
      "f1 score=  0.18\n",
      "교차 검증=  0.9044568868980963\n",
      "              precision    recall  f1-score   support\n",
      "\n",
      "           0       0.96      0.66      0.78       440\n",
      "           1       0.11      0.58      0.18        31\n",
      "\n",
      "    accuracy                           0.65       471\n",
      "   macro avg       0.53      0.62      0.48       471\n",
      "weighted avg       0.90      0.65      0.74       471\n",
      "\n"
     ]
    },
    {
     "data": {
      "text/plain": [
       "<matplotlib.axes._subplots.AxesSubplot at 0x28182c23c88>"
      ]
     },
     "execution_count": 53,
     "metadata": {},
     "output_type": "execute_result"
    },
    {
     "data": {
      "image/png": "[encoded data removed]",
      "text/plain": [
       "<Figure size 432x288 with 2 Axes>"
      ]
     },
     "metadata": {
      "needs_background": "light"
     },
     "output_type": "display_data"
    }
   ],
   "source": [
    "from sklearn.metrics import confusion_matrix, ConfusionMatrixDisplay\n",
    "from sklearn.model_selection import cross_val_score\n",
    "from sklearn.metrics import classification_report\n",
    "print('confusion matrix=\\n',confusion_matrix(y_true=y_test,y_pred=preds))\n",
    "print('trainset 정확도: ',logistic.score(x_train_over,y_train_over)) #trainset 정확도\n",
    "print('testset 정확도: ',logistic.score(X_test,y_test)) #testset 정확도\n",
    "print('accuracy= ',accuracy_score(y_true=y_test,y_pred=preds))\n",
    "print('precision= ',precision_score(y_true=y_test,y_pred=preds))\n",
    "print('recall= ',recall_score(y_true=y_test,y_pred=preds))\n",
    "print('f1 score= ',f1_score(y_true=y_test,y_pred=preds))\n",
    "print('교차 검증= ',cross_val_score(logistic,X_test,y_test).mean())\n",
    "print(classification_report(y_test,preds))\n",
    "heat=pd.DataFrame(confusion_matrix(y_test,preds))\n",
    "sns.heatmap(heat,annot=True)"
   ]
  },
  {
   "cell_type": "code",
   "execution_count": 54,
   "metadata": {
    "colab": {
     "base_uri": "https://localhost:8080/",
     "height": 295
    },
    "id": "jRvbg-YWCbsQ",
    "outputId": "6719096d-2add-4da7-8dc1-2c9ed9898774"
   },
   "outputs": [
    {
     "data": {
      "image/png": "[encoded data removed]",
      "text/plain": [
       "<Figure size 432x288 with 1 Axes>"
      ]
     },
     "metadata": {
      "needs_background": "light"
     },
     "output_type": "display_data"
    }
   ],
   "source": [
    "from sklearn import metrics\n",
    "from sklearn.metrics import roc_curve, auc\n",
    "#false_positive_rate, true_positive_rate, thresholds = roc_curve(y1_test, pred_c)\n",
    "false_positive_rate, true_positive_rate, thresholds = roc_curve(y_test, y_pred)\n",
    "\n",
    "#roc_auc = metrics.auc(false_positive_rate, true_positive_rate)\n",
    "#roc_auc = metrics.roc_auc_score(y1_test,pred_c)\n",
    "roc_auc = metrics.roc_auc_score(y_test,y_pred)\n",
    "\n",
    "plt.title('Receiver Operating Characteristic')\n",
    "plt.xlabel('False Positive Rate(1 - Specificity)')\n",
    "plt.ylabel('True Positive Rate(Sensitivity)')\n",
    "\n",
    "plt.plot(false_positive_rate, true_positive_rate, 'b', label='Model (AUC = %0.2f)'% roc_auc)\n",
    "plt.plot([0,1],[1,1],'y--')\n",
    "plt.plot([0,1],[0,1],'r--')\n",
    "\n",
    "plt.legend(loc='lower right')\n",
    "plt.show()"
   ]
  },
  {
   "cell_type": "markdown",
   "metadata": {
    "id": "7znbq88VIFW2"
   },
   "source": [
    "## ADASYN\n",
    "#### SMOTE의 개선된 버전이다. 동일한 프로세스를 진행한 후 점들에 임의의 작은 값을 더해줌으로써 조금 더 사실적인 데이터가 생성된다. 즉 모든 표본이 약간 더 분산된다."
   ]
  },
  {
   "cell_type": "code",
   "execution_count": 55,
   "metadata": {
    "colab": {
     "base_uri": "https://localhost:8080/"
    },
    "id": "pUqo3NNOIFW3",
    "outputId": "bbaef7c2-8d6e-4d98-ef88-3035861f43f0"
   },
   "outputs": [
    {
     "name": "stdout",
     "output_type": "stream",
     "text": [
      "Original dataset shape Counter({0: 1023, 1: 73})\n",
      "Resampled dataset shape Counter({0: 1023, 1: 1003})\n",
      "오버샘플링 전 : (1096, 226) (1096,)\n",
      "\n",
      "오버샘플링 후 : (2026, 226) (2026,)\n",
      "\n",
      "오버샘플링 전 레이블 분포 :\n",
      " 0    1023\n",
      "1      73\n",
      "dtype: int64\n",
      "\n",
      "오버샘플링 후 레이블 분포 :\n",
      " 0    1023\n",
      "1    1003\n",
      "dtype: int64\n"
     ]
    }
   ],
   "source": [
    "from collections import Counter\n",
    "from sklearn.datasets import make_classification\n",
    "from imblearn.over_sampling import ADASYN # doctest: +NORMALIZE_WHITESPACE\n",
    "\n",
    "print('Original dataset shape %s' % Counter(y_train))\n",
    "\n",
    "ada = ADASYN(random_state=12)\n",
    "X_res, y_res = ada.fit_resample(X_train, y_train)\n",
    "print('Resampled dataset shape %s' % Counter(y_res))\n",
    "\n",
    "print('오버샘플링 전 :', X_train.shape, y_train.shape)\n",
    "print()\n",
    "print('오버샘플링 후 :', X_res.shape, y_res.shape)\n",
    "print()\n",
    "print('오버샘플링 전 레이블 분포 :\\n', pd.Series(y_train).value_counts())\n",
    "print()\n",
    "print('오버샘플링 후 레이블 분포 :\\n', pd.Series(y_res).value_counts())"
   ]
  },
  {
   "cell_type": "code",
   "execution_count": 56,
   "metadata": {
    "id": "L-QVISbOCnGf"
   },
   "outputs": [],
   "source": [
    "X_res = pd.DataFrame(X_res)\n",
    "y_res=pd.DataFrame(y_res)"
   ]
  },
  {
   "cell_type": "code",
   "execution_count": 57,
   "metadata": {
    "colab": {
     "base_uri": "https://localhost:8080/"
    },
    "id": "KXT1uRAhSdfi",
    "outputId": "f8229876-3802-4aba-af86-8ef976ca8311"
   },
   "outputs": [
    {
     "name": "stdout",
     "output_type": "stream",
     "text": [
      "최적 하이퍼 파라미터:  {'C': 0.1, 'penalty': 'l2'}\n",
      "최고 예측 정확도: 0.6876\n"
     ]
    }
   ],
   "source": [
    "from sklearn.linear_model import LogisticRegression\n",
    "\n",
    "log = LogisticRegression() #로지스틱 회귀분석 시행\n",
    "param_grid = {\n",
    "    'C' : [0.001, 0.01, 0.1, 1, 10, 100],\n",
    "    \"penalty\" : [\"l2\", \"l1\"],\n",
    "}\n",
    "\n",
    "grid_search = GridSearchCV(log, param_grid, cv=5)\n",
    "\n",
    "grid_search.fit(X_res, y_res.values.ravel())\n",
    "print('최적 하이퍼 파라미터: ', grid_search.best_params_)\n",
    "print('최고 예측 정확도: {:.4f}'.format(grid_search.best_score_))"
   ]
  },
  {
   "cell_type": "code",
   "execution_count": 58,
   "metadata": {},
   "outputs": [],
   "source": [
    "evals = [(X_test, y_test)]\n",
    "logistic = LogisticRegression(**grid_search.best_params_)\n",
    "logistic.fit(X_res, y_res)\n",
    "\n",
    "preds = logistic.predict(X_test) "
   ]
  },
  {
   "cell_type": "code",
   "execution_count": 59,
   "metadata": {},
   "outputs": [
    {
     "data": {
      "image/png": "[encoded data removed]",
      "text/plain": [
       "<Figure size 432x288 with 2 Axes>"
      ]
     },
     "metadata": {
      "needs_background": "light"
     },
     "output_type": "display_data"
    },
    {
     "data": {
      "image/png": "[encoded data removed]",
      "text/plain": [
       "<Figure size 432x288 with 2 Axes>"
      ]
     },
     "metadata": {
      "needs_background": "light"
     },
     "output_type": "display_data"
    }
   ],
   "source": [
    "from sklearn.metrics import confusion_matrix, ConfusionMatrixDisplay\n",
    "cm = confusion_matrix(y_test,preds, labels=logistic.classes_)\n",
    "disp = ConfusionMatrixDisplay(confusion_matrix=cm,\n",
    "                              display_labels=logistic.classes_)\n",
    "disp = disp.plot(cmap=plt.cm.Blues,values_format='g')\n",
    "disp.plot()\n",
    "plt.show()"
   ]
  },
  {
   "cell_type": "code",
   "execution_count": 64,
   "metadata": {},
   "outputs": [
    {
     "name": "stdout",
     "output_type": "stream",
     "text": [
      "confusion matrix=\n",
      " [[301 139]\n",
      " [ 11  20]]\n",
      "trainset 정확도:  0.7423494570582428\n",
      "testset 정확도:  0.6815286624203821\n",
      "accuracy=  0.6815286624203821\n",
      "accuracy=  0.6815286624203821\n",
      "precision=  0.12578616352201258\n",
      "recall=  0.6451612903225806\n",
      "f1 score=  0.2105263157894737\n",
      "교차 검증=  0.9044568868980963\n",
      "              precision    recall  f1-score   support\n",
      "\n",
      "           0       0.96      0.68      0.80       440\n",
      "           1       0.13      0.65      0.21        31\n",
      "\n",
      "    accuracy                           0.68       471\n",
      "   macro avg       0.55      0.66      0.51       471\n",
      "weighted avg       0.91      0.68      0.76       471\n",
      "\n"
     ]
    },
    {
     "data": {
      "text/plain": [
       "<matplotlib.axes._subplots.AxesSubplot at 0x281847cbf08>"
      ]
     },
     "execution_count": 64,
     "metadata": {},
     "output_type": "execute_result"
    },
    {
     "data": {
      "image/png": "[encoded data removed]",
      "text/plain": [
       "<Figure size 432x288 with 2 Axes>"
      ]
     },
     "metadata": {
      "needs_background": "light"
     },
     "output_type": "display_data"
    }
   ],
   "source": [
    "from sklearn.metrics import confusion_matrix, ConfusionMatrixDisplay\n",
    "from sklearn.model_selection import cross_val_score\n",
    "from sklearn.metrics import classification_report\n",
    "print('confusion matrix=\\n',confusion_matrix(y_true=y_test,y_pred=preds))\n",
    "print('trainset 정확도: ',logistic.score(X_res,y_res)) #trainset 정확도\n",
    "print('testset 정확도: ',logistic.score(X_test,y_test)) #testset 정확도\n",
    "print('accuracy= ',accuracy_score(y_true=y_test,y_pred=preds))\n",
    "print('accuracy= ',accuracy_score(y_true=y_test,y_pred=preds))\n",
    "print('precision= ',precision_score(y_true=y_test,y_pred=preds))\n",
    "print('recall= ',recall_score(y_true=y_test,y_pred=preds))\n",
    "print('f1 score= ',f1_score(y_true=y_test,y_pred=preds))\n",
    "print('교차 검증= ',cross_val_score(logistic,X_test,y_test).mean())\n",
    "print(classification_report(y_test,preds))\n",
    "heat=pd.DataFrame(confusion_matrix(y_test,preds))\n",
    "sns.heatmap(heat,annot=True)"
   ]
  },
  {
   "cell_type": "code",
   "execution_count": 65,
   "metadata": {},
   "outputs": [
    {
     "data": {
      "image/png": "[encoded data removed]",
      "text/plain": [
       "<Figure size 432x288 with 1 Axes>"
      ]
     },
     "metadata": {
      "needs_background": "light"
     },
     "output_type": "display_data"
    }
   ],
   "source": [
    "from sklearn import metrics\n",
    "from sklearn.metrics import roc_curve, auc\n",
    "#false_positive_rate, true_positive_rate, thresholds = roc_curve(y1_test, pred_c)\n",
    "false_positive_rate, true_positive_rate, thresholds = roc_curve(y_test, y_pred)\n",
    "\n",
    "#roc_auc = metrics.auc(false_positive_rate, true_positive_rate)\n",
    "#roc_auc = metrics.roc_auc_score(y1_test,pred_c)\n",
    "roc_auc = metrics.roc_auc_score(y_test,y_pred)\n",
    "\n",
    "plt.title('Receiver Operating Characteristic')\n",
    "plt.xlabel('False Positive Rate(1 - Specificity)')\n",
    "plt.ylabel('True Positive Rate(Sensitivity)')\n",
    "\n",
    "plt.plot(false_positive_rate, true_positive_rate, 'b', label='Model (AUC = %0.2f)'% roc_auc)\n",
    "plt.plot([0,1],[1,1],'y--')\n",
    "plt.plot([0,1],[0,1],'r--')\n",
    "\n",
    "plt.legend(loc='lower right')\n",
    "plt.show()"
   ]
  },
  {
   "cell_type": "code",
   "execution_count": 61,
   "metadata": {
    "colab": {
     "base_uri": "https://localhost:8080/"
    },
    "id": "wD77HHxtSiDp",
    "outputId": "1edf419c-369d-477e-b0ee-cf8842f278cb"
   },
   "outputs": [
    {
     "name": "stdout",
     "output_type": "stream",
     "text": [
      "test accuracy :  0.6815286624203821\n",
      "parameters :  {'C': 0.1, 'penalty': 'l2'}\n"
     ]
    }
   ],
   "source": [
    "print('test accuracy : ', grid_search.score(X_test, y_test))\n",
    "print('parameters : ', grid_search.best_params_)"
   ]
  },
  {
   "cell_type": "code",
   "execution_count": 62,
   "metadata": {
    "colab": {
     "base_uri": "https://localhost:8080/"
    },
    "id": "a3aGkM8FSjxM",
    "outputId": "f2df4d2f-742b-4006-9814-ee655ac56c87"
   },
   "outputs": [
    {
     "name": "stdout",
     "output_type": "stream",
     "text": [
      "학습용 데이터셋 정확도 : 0.74\n",
      "검증용 데이터셋 정확도 : 0.68\n"
     ]
    }
   ],
   "source": [
    "print('학습용 데이터셋 정확도 : %.2f' % grid_search.score(X_res, y_res))\n",
    "print('검증용 데이터셋 정확도 : %.2f' % grid_search.score(X_test, y_test))"
   ]
  },
  {
   "cell_type": "code",
   "execution_count": null,
   "metadata": {},
   "outputs": [],
   "source": []
  }
 ],
 "metadata": {
  "colab": {
   "collapsed_sections": [],
   "name": "logistic_regression_final.ipynb",
   "provenance": []
  },
  "kernelspec": {
   "display_name": "Python 3",
   "language": "python",
   "name": "python3"
  },
  "language_info": {
   "codemirror_mode": {
    "name": "ipython",
    "version": 3
   },
   "file_extension": ".py",
   "mimetype": "text/x-python",
   "name": "python",
   "nbconvert_exporter": "python",
   "pygments_lexer": "ipython3",
   "version": "3.7.6"
  }
 },
 "nbformat": 4,
 "nbformat_minor": 1
}
